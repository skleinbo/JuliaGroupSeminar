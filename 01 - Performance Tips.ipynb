{
 "cells": [
  {
   "cell_type": "markdown",
   "metadata": {},
   "source": [
    "# Group Seminar on Julia Pt. II  \n",
    "## General Performance Tips / Pitfalls to avoid"
   ]
  },
  {
   "cell_type": "markdown",
   "metadata": {},
   "source": [
    "<img src=\"http://imgs.xkcd.com/comics/optimization.png\"></img>"
   ]
  },
  {
   "cell_type": "markdown",
   "metadata": {},
   "source": [
    "## From input to machine code"
   ]
  },
  {
   "cell_type": "markdown",
   "metadata": {},
   "source": [
    "<img src=\"./JuliaCompilation.png\"></img>"
   ]
  },
  {
   "cell_type": "markdown",
   "metadata": {},
   "source": [
    "Image from __De Sutter et al. (2016)__ https://arxiv.org/abs/1604.03410"
   ]
  },
  {
   "cell_type": "code",
   "execution_count": 15,
   "metadata": {
    "collapsed": false
   },
   "outputs": [
    {
     "data": {
      "text/plain": [
       ":(10 * (2 + 5))"
      ]
     },
     "execution_count": 15,
     "metadata": {},
     "output_type": "execute_result"
    }
   ],
   "source": [
    "parsedExp = parse(\"10*(2+5)\")"
   ]
  },
  {
   "cell_type": "code",
   "execution_count": 16,
   "metadata": {
    "collapsed": false
   },
   "outputs": [
    {
     "data": {
      "text/plain": [
       "3-element Array{Any,1}:\n",
       "   :*      \n",
       " 10        \n",
       "   :(2 + 5)"
      ]
     },
     "execution_count": 16,
     "metadata": {},
     "output_type": "execute_result"
    }
   ],
   "source": [
    "parsedExp.args"
   ]
  },
  {
   "cell_type": "code",
   "execution_count": 23,
   "metadata": {
    "collapsed": false
   },
   "outputs": [
    {
     "data": {
      "text/plain": [
       "Expr"
      ]
     },
     "execution_count": 23,
     "metadata": {},
     "output_type": "execute_result"
    }
   ],
   "source": [
    "typeof(parsedExp)"
   ]
  },
  {
   "cell_type": "markdown",
   "metadata": {},
   "source": [
    "## Measuring performance"
   ]
  },
  {
   "cell_type": "markdown",
   "metadata": {},
   "source": [
    "### `@time` is your best friend."
   ]
  },
  {
   "cell_type": "code",
   "execution_count": 22,
   "metadata": {
    "collapsed": true
   },
   "outputs": [
    {
     "name": "stdout",
     "output_type": "stream",
     "text": [
      "  0.019089 seconds (45 allocations: 3.429 MB)\n"
     ]
    },
    {
     "data": {
      "text/plain": [
       "Base.LinAlg.Eigen{Float64,Float64,Array{Float64,2},Array{Float64,1}}([-6.34939,-6.11064,-6.10436,-6.02585,-5.89586,-5.82497,-5.81078,-5.59252,-5.53155,-5.43081  …  5.53626,5.62821,5.68272,5.80636,6.00727,6.16042,6.176,6.20775,6.26774,125.279],250x250 Array{Float64,2}:\n",
       "  0.025726      0.0079314   -0.0836035   …   0.0466329   -0.0617622\n",
       " -0.0670366    -0.0209826    0.0676174       0.0249354   -0.0611163\n",
       "  0.111818      0.0321288   -0.00724786     -0.0332679   -0.0626986\n",
       " -0.0191875    -0.0152057   -0.0598918       0.00838277  -0.0646816\n",
       " -0.0888896    -0.10645     -0.0932347      -0.266264    -0.0617213\n",
       "  0.022458      0.0210968   -0.0348935   …   0.0657349   -0.0630189\n",
       " -0.0102074    -0.0112421    0.0412524       0.069668    -0.0665839\n",
       "  0.0964242    -0.0264586    0.0014948      -0.00198468  -0.0658235\n",
       " -0.125689      0.00607313   0.0535068       0.0190857   -0.0631135\n",
       " -0.0240121     0.0138479   -0.0901025      -0.0380534   -0.0628626\n",
       " -0.084401      0.0532588    0.0332956   …   0.0992782   -0.063383 \n",
       " -0.000911343  -0.102792     0.013049        0.0368585   -0.0633243\n",
       "  0.00824944   -0.0614829    0.115002       -0.0305514   -0.0646874\n",
       "  ⋮                                      ⋱                         \n",
       "  0.0181945    -0.0575999    0.108686       -0.0848319   -0.0648551\n",
       " -0.0229475     0.0855221   -0.169867       -0.0712162   -0.0651476\n",
       " -0.140861     -0.06133     -0.0368122   …   0.0707202   -0.0640615\n",
       "  0.0346595     0.0714066   -0.0461668       0.00240542  -0.0620252\n",
       "  0.00840367    0.0303686    0.0959412      -0.0241078   -0.062435 \n",
       "  0.000100502  -0.0636539   -0.0354946      -0.00660946  -0.0647624\n",
       " -0.0899593    -0.0522471   -0.00789163     -0.0838804   -0.0641029\n",
       "  0.0687067     0.0211714    0.0238496   …  -0.0613845   -0.0638255\n",
       "  0.0549914     0.0354876    0.0866472      -0.116643    -0.0605306\n",
       " -0.033675     -0.0413743    0.0379524       0.0735779   -0.0654518\n",
       "  0.0232291    -0.122384     0.0769659       0.00048928  -0.061301 \n",
       " -0.0865381    -0.00970756   0.0880526      -0.0246526   -0.061602 )"
      ]
     },
     "execution_count": 22,
     "metadata": {},
     "output_type": "execute_result"
    }
   ],
   "source": [
    "@time begin\n",
    "    local A = rand(250,250)\n",
    "    local F = eigfact((A+A')/2)\n",
    "end"
   ]
  },
  {
   "cell_type": "code",
   "execution_count": 24,
   "metadata": {
    "collapsed": false
   },
   "outputs": [
    {
     "data": {
      "text/plain": [
       "quote  # util.jl, line 153:\n",
       "    local #84#stats = Base.gc_num() # util.jl, line 154:\n",
       "    local #86#elapsedtime = Base.time_ns() # util.jl, line 155:\n",
       "    local #85#val = EXPR # util.jl, line 156:\n",
       "    #86#elapsedtime = Base.-(Base.time_ns(),#86#elapsedtime) # util.jl, line 157:\n",
       "    local #87#diff = Base.GC_Diff(Base.gc_num(),#84#stats) # util.jl, line 158:\n",
       "    Base.time_print(#86#elapsedtime,#87#diff.allocd,#87#diff.total_time,Base.gc_alloc_count(#87#diff)) # util.jl, line 160:\n",
       "    #85#val\n",
       "end"
      ]
     },
     "execution_count": 24,
     "metadata": {},
     "output_type": "execute_result"
    }
   ],
   "source": [
    "macroexpand( parse(\"@time EXPR\") )"
   ]
  },
  {
   "cell_type": "code",
   "execution_count": 35,
   "metadata": {
    "collapsed": true
   },
   "outputs": [],
   "source": [
    "macro timeOften(ex::Expr,n::Int)\n",
    "    quote\n",
    "        begin \n",
    "         x=0\n",
    "         @time for i = 1:$n\n",
    "            local val = $ex\n",
    "         end\n",
    "        end\n",
    "    end\n",
    "end"
   ]
  },
  {
   "cell_type": "code",
   "execution_count": null,
   "metadata": {
    "collapsed": false
   },
   "outputs": [],
   "source": [
    "@timeOften rand() 100000"
   ]
  },
  {
   "cell_type": "markdown",
   "metadata": {},
   "source": [
    "### More advanced: Profiling"
   ]
  },
  {
   "cell_type": "markdown",
   "metadata": {},
   "source": [
    "Julia features a __statistical profiler__. Not every function call is back-traced."
   ]
  },
  {
   "cell_type": "code",
   "execution_count": 25,
   "metadata": {
    "collapsed": false
   },
   "outputs": [
    {
     "data": {
      "text/plain": [
       "myEig (generic function with 1 method)"
      ]
     },
     "execution_count": 25,
     "metadata": {},
     "output_type": "execute_result"
    }
   ],
   "source": [
    "function myEig(n::Int)\n",
    "    A = rand(n,n)\n",
    "    return eigfact((A+A')/2)\n",
    "end"
   ]
  },
  {
   "cell_type": "code",
   "execution_count": 26,
   "metadata": {
    "collapsed": true
   },
   "outputs": [],
   "source": [
    "myEig(1);"
   ]
  },
  {
   "cell_type": "code",
   "execution_count": 27,
   "metadata": {
    "collapsed": false
   },
   "outputs": [],
   "source": [
    "Profile.clear()"
   ]
  },
  {
   "cell_type": "code",
   "execution_count": 28,
   "metadata": {
    "collapsed": true
   },
   "outputs": [],
   "source": [
    "@profile myEig(2500);"
   ]
  },
  {
   "cell_type": "code",
   "execution_count": 29,
   "metadata": {
    "collapsed": false
   },
   "outputs": [
    {
     "name": "stdout",
     "output_type": "stream",
     "text": [
      " Count File                       Function                                 Line\n",
      "   146 ....4/IJulia/src/IJulia.jl eventloop                                 143\n",
      "   146 .../src/execute_request.jl execute_request_0x535c5df2                183\n",
      "    12 In[25]                     myEig                                       2\n",
      "   134 In[25]                     myEig                                       3\n",
      "    18 array.jl                   reshape                                   148\n",
      "    17 arraymath.jl               +                                          96\n",
      "    43 arraymath.jl               ./                                         49\n",
      "    22 arraymath.jl               transpose!                                323\n",
      "    21 arraymath.jl               transposeblock!                           340\n",
      "    87 arraymath.jl               transposeblock!                           346\n",
      "    95 arraymath.jl               transposeblock!                           347\n",
      "   111 arraymath.jl               transposeblock!                           350\n",
      "    81 arraymath.jl               transposeblock!                           351\n",
      "    12 dSFMT.jl                   dsfmt_fill_array_close_open!               76\n",
      "    51 linalg/eigen.jl            eigfact!                                   31\n",
      "    51 linalg/eigen.jl            eigfact                                    57\n",
      "    16 linalg/generic.jl          issym                                     353\n",
      "     1 linalg/lapack.jl           syevr!                                   4120\n",
      "    34 linalg/lapack.jl           syevr!                                   4141\n",
      "   146 loading.jl                 include_string                            282\n",
      "    19 multidimensional.jl        _unsafe_getindex                          194\n",
      "    15 multidimensional.jl        _unsafe_getindex                          195\n",
      "   146 profile.jl                 anonymous                                  16\n",
      "    12 random.jl                  rand!                                     347\n",
      "   146 task.jl                    anonymous                                 447\n"
     ]
    }
   ],
   "source": [
    "Profile.print(format=:flat)"
   ]
  },
  {
   "cell_type": "markdown",
   "metadata": {},
   "source": [
    "## 1. Type stability"
   ]
  },
  {
   "cell_type": "code",
   "execution_count": 31,
   "metadata": {
    "collapsed": false
   },
   "outputs": [
    {
     "data": {
      "text/plain": [
       "unstable (generic function with 1 method)"
      ]
     },
     "execution_count": 31,
     "metadata": {},
     "output_type": "execute_result"
    }
   ],
   "source": [
    "function unstable(x::Integer)\n",
    "    if iseven(x)\n",
    "        return Float64(x)\n",
    "    else\n",
    "        return Int64(x)\n",
    "    end\n",
    "end"
   ]
  },
  {
   "cell_type": "code",
   "execution_count": 34,
   "metadata": {
    "collapsed": false
   },
   "outputs": [
    {
     "data": {
      "text/plain": [
       "Int64"
      ]
     },
     "execution_count": 34,
     "metadata": {},
     "output_type": "execute_result"
    }
   ],
   "source": [
    "typeof([ unstable(i) for i in 1:127 ][1])"
   ]
  },
  {
   "cell_type": "code",
   "execution_count": 32,
   "metadata": {
    "collapsed": false
   },
   "outputs": [
    {
     "data": {
      "text/plain": [
       "Array{Union{Float64,Int64},1}"
      ]
     },
     "execution_count": 32,
     "metadata": {},
     "output_type": "execute_result"
    }
   ],
   "source": [
    "typeof( [ unstable(i) for i in 1:127 ] )"
   ]
  },
  {
   "cell_type": "code",
   "execution_count": 37,
   "metadata": {
    "collapsed": false
   },
   "outputs": [
    {
     "name": "stdout",
     "output_type": "stream",
     "text": [
      "  0.678259 seconds (12.70 M allocations: 296.021 MB, 7.62% gc time)\n"
     ]
    }
   ],
   "source": [
    "begin \n",
    "    local A = [ unstable(i) for i in 1:127 ]\n",
    "    @timeOften A+1 100000\n",
    "end"
   ]
  },
  {
   "cell_type": "code",
   "execution_count": 39,
   "metadata": {
    "collapsed": false
   },
   "outputs": [
    {
     "name": "stdout",
     "output_type": "stream",
     "text": [
      "  0.038367 seconds (100.00 k allocations: 103.760 MB, 54.03% gc time)\n"
     ]
    }
   ],
   "source": [
    "begin \n",
    "    local A = [ Float64(i) for i in 1:127 ]\n",
    "    @timeOften A+1 100000\n",
    "end"
   ]
  },
  {
   "cell_type": "markdown",
   "metadata": {},
   "source": [
    "<hr />"
   ]
  },
  {
   "cell_type": "code",
   "execution_count": 40,
   "metadata": {
    "collapsed": false
   },
   "outputs": [
    {
     "data": {
      "text/plain": [
       "sum_stable (generic function with 1 method)"
      ]
     },
     "execution_count": 40,
     "metadata": {},
     "output_type": "execute_result"
    }
   ],
   "source": [
    "function sum_unstable()\n",
    "    sum = 0\n",
    "    for i in 1:100\n",
    "        sum += i/2\n",
    "    end\n",
    "    sum\n",
    "end\n",
    "function sum_stable()\n",
    "    sum = 0.0\n",
    "    for i in 1:100\n",
    "        sum += i/2\n",
    "    end\n",
    "    sum\n",
    "end"
   ]
  },
  {
   "cell_type": "code",
   "execution_count": 42,
   "metadata": {
    "collapsed": false
   },
   "outputs": [
    {
     "name": "stdout",
     "output_type": "stream",
     "text": [
      "  0.271960 seconds (20.00 M allocations: 305.176 MB, 20.68% gc time)\n",
      "  0.007035 seconds\n"
     ]
    }
   ],
   "source": [
    "@timeOften sum_unstable() 100000;\n",
    "@timeOften sum_stable() 100000;"
   ]
  },
  {
   "cell_type": "code",
   "execution_count": 44,
   "metadata": {
    "collapsed": false
   },
   "outputs": [
    {
     "ename": "LoadError",
     "evalue": "LoadError: MethodError: `+` has no method matching +(::Int64, ::ASCIIString)\nClosest candidates are:\n  +(::Any, ::Any, !Matched::Any, !Matched::Any...)\n  +(::Int64, !Matched::Int64)\n  +(::Integer, !Matched::Ptr{T})\n  ...\nwhile loading In[44], in expression starting on line 1",
     "output_type": "error",
     "traceback": [
      "LoadError: MethodError: `+` has no method matching +(::Int64, ::ASCIIString)\nClosest candidates are:\n  +(::Any, ::Any, !Matched::Any, !Matched::Any...)\n  +(::Int64, !Matched::Int64)\n  +(::Integer, !Matched::Ptr{T})\n  ...\nwhile loading In[44], in expression starting on line 1",
      ""
     ]
    }
   ],
   "source": [
    "0+\"a\""
   ]
  },
  {
   "cell_type": "code",
   "execution_count": 45,
   "metadata": {
    "collapsed": true
   },
   "outputs": [
    {
     "name": "stdout",
     "output_type": "stream",
     "text": [
      "Variables:\n",
      "  sum::Float64\n",
      "  #s52::Int64\n",
      "  i::Int64\n",
      "\n",
      "Body:\n",
      "  begin  # In[40], line 9:\n",
      "      sum = 0.0 # In[40], line 10:\n",
      "      GenSym(0) = $(Expr(:new, UnitRange{Int64}, 1, :(((top(getfield))(Base.Intrinsics,:select_value)::I)((Base.sle_int)(1,100)::Bool,100,(Base.box)(Int64,(Base.sub_int)(1,1)))::Int64)))\n",
      "      #s52 = (top(getfield))(GenSym(0),:start)::Int64\n",
      "      unless (Base.box)(Base.Bool,(Base.not_int)(#s52::Int64 === (Base.box)(Base.Int,(Base.add_int)((top(getfield))(GenSym(0),:stop)::Int64,1))::Bool)) goto 1\n",
      "      2: \n",
      "      GenSym(2) = #s52::Int64\n",
      "      GenSym(3) = (Base.box)(Base.Int,(Base.add_int)(#s52::Int64,1))\n",
      "      i = GenSym(2)\n",
      "      #s52 = GenSym(3) # In[40], line 11:\n",
      "      sum = (Base.box)(Base.Float64,(Base.add_float)(sum::Float64,(Base.box)(Base.Float64,(Base.div_float)((Base.box)(Float64,(Base.sitofp)(Float64,i::Int64)),(Base.box)(Float64,(Base.sitofp)(Float64,2))))))\n",
      "      3: \n",
      "      unless (Base.box)(Base.Bool,(Base.not_int)((Base.box)(Base.Bool,(Base.not_int)(#s52::Int64 === (Base.box)(Base.Int,(Base.add_int)((top(getfield))(GenSym(0),:stop)::Int64,1))::Bool)))) goto 2\n",
      "      1: \n",
      "      0:  # In[40], line 13:\n",
      "      return sum::Float64\n",
      "  end::Float64\n"
     ]
    }
   ],
   "source": [
    "@code_warntype sum_stable();"
   ]
  },
  {
   "cell_type": "code",
   "execution_count": 49,
   "metadata": {
    "collapsed": false
   },
   "outputs": [
    {
     "name": "stdout",
     "output_type": "stream",
     "text": [
      "\t.section\t__TEXT,__text,regular,pure_instructions\n",
      "Filename: In[40]\n",
      "Source line: 11\n",
      "\tpushq\t%rbp\n",
      "\tmovq\t%rsp, %rbp\n",
      "\txorps\t%xmm0, %xmm0\n",
      "\tmovl\t$1, %eax\n",
      "\tmovl\t$100, %ecx\n",
      "\tmovabsq\t$13449345936, %rdx      ## imm = 0x321A4BB90\n",
      "\tmovsd\t(%rdx), %xmm1\n",
      "Source line: 11\n",
      "L31:\txorps\t%xmm2, %xmm2\n",
      "\tcvtsi2sdq\t%rax, %xmm2\n",
      "\tmulsd\t%xmm1, %xmm2\n",
      "\taddsd\t%xmm2, %xmm0\n",
      "Source line: 10\n",
      "\tincq\t%rax\n",
      "Source line: 11\n",
      "\tdecq\t%rcx\n",
      "\tjne\tL31\n",
      "Source line: 13\n",
      "\tpopq\t%rbp\n",
      "\tret\n"
     ]
    }
   ],
   "source": [
    "@code_native sum_stable()"
   ]
  },
  {
   "cell_type": "markdown",
   "metadata": {},
   "source": [
    "## 2. Be careful with global variables."
   ]
  },
  {
   "cell_type": "code",
   "execution_count": 59,
   "metadata": {
    "collapsed": false
   },
   "outputs": [
    {
     "data": {
      "text/plain": [
       "g (generic function with 1 method)"
      ]
     },
     "execution_count": 59,
     "metadata": {},
     "output_type": "execute_result"
    }
   ],
   "source": [
    "# Alright\n",
    "const global C = 100000\n",
    "# Potentially VERY Bad\n",
    "global D = 100000\n",
    "\n",
    "function f(x)\n",
    "    s=0\n",
    "    for i in 1:10^6\n",
    "        s += s+x+i + C end\n",
    "    return s\n",
    "end\n",
    "function g(x)\n",
    "    s=0\n",
    "    for i in 1:10^6\n",
    "        s += s+x+i + D::Int64 end\n",
    "    return s\n",
    "end"
   ]
  },
  {
   "cell_type": "code",
   "execution_count": 52,
   "metadata": {
    "collapsed": false
   },
   "outputs": [
    {
     "name": "stdout",
     "output_type": "stream",
     "text": [
      "  0.000544 seconds (5 allocations: 176 bytes)\n"
     ]
    }
   ],
   "source": [
    "@time f(10);"
   ]
  },
  {
   "cell_type": "code",
   "execution_count": 57,
   "metadata": {
    "collapsed": false
   },
   "outputs": [
    {
     "name": "stdout",
     "output_type": "stream",
     "text": [
      "  0.089411 seconds (4.00 M allocations: 61.028 MB, 13.60% gc time)\n"
     ]
    }
   ],
   "source": [
    "@time g(10);"
   ]
  },
  {
   "cell_type": "code",
   "execution_count": 64,
   "metadata": {
    "collapsed": false
   },
   "outputs": [
    {
     "data": {
      "text/plain": [
       "g (generic function with 2 methods)"
      ]
     },
     "execution_count": 64,
     "metadata": {},
     "output_type": "execute_result"
    }
   ],
   "source": [
    "function g(x,y::Int=D)\n",
    "    s=0\n",
    "    for i in 1:Int(1e6)\n",
    "        s+=s+x+i + y end\n",
    "    return s\n",
    "end"
   ]
  },
  {
   "cell_type": "code",
   "execution_count": 67,
   "metadata": {
    "collapsed": false
   },
   "outputs": [
    {
     "name": "stdout",
     "output_type": "stream",
     "text": [
      "  0.000543 seconds (5 allocations: 176 bytes)\n"
     ]
    }
   ],
   "source": [
    "@time g(10,3);"
   ]
  },
  {
   "cell_type": "markdown",
   "metadata": {},
   "source": [
    "__Q: Why is a `const` so much more efficient?__  \n",
    "A: The compiler cannot infer the type of a dynamic global. A constants type is fixed at declaration and can be inlined."
   ]
  },
  {
   "cell_type": "code",
   "execution_count": null,
   "metadata": {
    "collapsed": true
   },
   "outputs": [],
   "source": [
    "@code_llvm f(10)"
   ]
  },
  {
   "cell_type": "code",
   "execution_count": null,
   "metadata": {
    "collapsed": true
   },
   "outputs": [],
   "source": [
    "@code_llvm g(10)"
   ]
  },
  {
   "cell_type": "code",
   "execution_count": null,
   "metadata": {
    "collapsed": true
   },
   "outputs": [],
   "source": [
    "@code_llvm g(10,D)"
   ]
  },
  {
   "cell_type": "markdown",
   "metadata": {},
   "source": [
    "<span style=\"font-size:14pt\">$\\Longrightarrow$ Adopt a __functional__ programming style!</span>  \n",
    "\n"
   ]
  },
  {
   "cell_type": "markdown",
   "metadata": {
    "collapsed": true
   },
   "source": [
    "## 3. Respect the order.\n",
    "### Unlike C, Julia has _column major_ order!"
   ]
  },
  {
   "cell_type": "code",
   "execution_count": 68,
   "metadata": {
    "collapsed": false
   },
   "outputs": [
    {
     "data": {
      "text/plain": [
       "add_matrices_two (generic function with 1 method)"
      ]
     },
     "execution_count": 68,
     "metadata": {},
     "output_type": "execute_result"
    }
   ],
   "source": [
    "function add_matrices_one(A::Matrix, B::Matrix)\n",
    "    C = Matrix{eltype(A)}(size(A)...)\n",
    "    for i = 1:size(A,1)\n",
    "        for j = 1:size(A,2)\n",
    "            C[i,j] = A[i,j] + B[i,j]\n",
    "        end\n",
    "    end\n",
    "    return C\n",
    "end\n",
    "function add_matrices_two(A::Matrix, B::Matrix)\n",
    "    C = Matrix{eltype(A)}(size(A)...)\n",
    "    for i = 1:size(A,2)\n",
    "        for j = 1:size(A,1)\n",
    "            C[j,i] = A[j,i] + B[j,i]\n",
    "        end\n",
    "    end\n",
    "    return C\n",
    "end"
   ]
  },
  {
   "cell_type": "code",
   "execution_count": 69,
   "metadata": {
    "collapsed": false
   },
   "outputs": [],
   "source": [
    "A = rand(1000,1000);\n",
    "B = rand(1000,1000);"
   ]
  },
  {
   "cell_type": "code",
   "execution_count": 71,
   "metadata": {
    "collapsed": false
   },
   "outputs": [
    {
     "name": "stdout",
     "output_type": "stream",
     "text": [
      "  0.025518 seconds (6 allocations: 7.630 MB)\n",
      "  0.004613 seconds (6 allocations: 7.630 MB, 32.92% gc time)\n"
     ]
    }
   ],
   "source": [
    "@time add_matrices_one(A,B);\n",
    "@time add_matrices_two(A,B);"
   ]
  },
  {
   "cell_type": "markdown",
   "metadata": {},
   "source": [
    "__Note:__ Don't bother implementing LinAlg operations."
   ]
  },
  {
   "cell_type": "code",
   "execution_count": 72,
   "metadata": {
    "collapsed": false
   },
   "outputs": [
    {
     "name": "stdout",
     "output_type": "stream",
     "text": [
      "  0.001952 seconds (9 allocations: 7.630 MB)\n"
     ]
    }
   ],
   "source": [
    "@time A+B;"
   ]
  },
  {
   "cell_type": "markdown",
   "metadata": {},
   "source": [
    "## 4. Disable safty nets where appropriate."
   ]
  },
  {
   "cell_type": "markdown",
   "metadata": {},
   "source": [
    "By default Julia performs __out-of-bound checks__ on array access. We get an exception without crashing the kernel."
   ]
  },
  {
   "cell_type": "code",
   "execution_count": 79,
   "metadata": {
    "collapsed": false
   },
   "outputs": [],
   "source": [
    "add_matrices_three(rand(4,4),rand(3,3))"
   ]
  },
  {
   "cell_type": "markdown",
   "metadata": {},
   "source": [
    "However, this can cost performance and is unneccessary if we guarantee inbounds access $\\rightarrow$ __@inbounds__"
   ]
  },
  {
   "cell_type": "code",
   "execution_count": 73,
   "metadata": {
    "collapsed": false
   },
   "outputs": [
    {
     "data": {
      "text/plain": [
       "add_matrices_three (generic function with 1 method)"
      ]
     },
     "execution_count": 73,
     "metadata": {},
     "output_type": "execute_result"
    }
   ],
   "source": [
    "function add_matrices_three(A::Matrix, B::Matrix)\n",
    "    C = Matrix{eltype(A)}(size(A)...)\n",
    "    if size(A) != size(B)\n",
    "        return nothing\n",
    "    end\n",
    "    @inbounds for i = 1:size(A,2)\n",
    "        for j = 1:size(A,1)\n",
    "           C[j,i] = A[j,i] + B[j,i]\n",
    "        end\n",
    "    end\n",
    "    return C\n",
    "end"
   ]
  },
  {
   "cell_type": "code",
   "execution_count": 76,
   "metadata": {
    "collapsed": false
   },
   "outputs": [
    {
     "name": "stdout",
     "output_type": "stream",
     "text": [
      "  0.002876 seconds (6 allocations: 7.630 MB)\n"
     ]
    }
   ],
   "source": [
    "@time add_matrices_three(A,B);"
   ]
  },
  {
   "cell_type": "markdown",
   "metadata": {},
   "source": [
    "## 5. Pre-allocate output"
   ]
  },
  {
   "cell_type": "markdown",
   "metadata": {},
   "source": [
    "_[Verbatim from http://docs.julialang.org/en/release-0.4/manual/performance-tips/#pre-allocating-outputs]_"
   ]
  },
  {
   "cell_type": "code",
   "execution_count": 80,
   "metadata": {
    "collapsed": false
   },
   "outputs": [
    {
     "data": {
      "text/plain": [
       "loopinc (generic function with 1 method)"
      ]
     },
     "execution_count": 80,
     "metadata": {},
     "output_type": "execute_result"
    }
   ],
   "source": [
    "function xinc(x)\n",
    "    return [x, x+1, x+2]\n",
    "end\n",
    "\n",
    "function loopinc()\n",
    "    y = 0\n",
    "    for i = 1:10^7\n",
    "        ret = xinc(i)\n",
    "        y += ret[2]\n",
    "    end\n",
    "    y\n",
    "end"
   ]
  },
  {
   "cell_type": "code",
   "execution_count": 82,
   "metadata": {
    "collapsed": false
   },
   "outputs": [
    {
     "name": "stdout",
     "output_type": "stream",
     "text": [
      "  0.716213 seconds (40.00 M allocations: 1.341 GB, 29.47% gc time)\n"
     ]
    }
   ],
   "source": [
    "@time loopinc();"
   ]
  },
  {
   "cell_type": "markdown",
   "metadata": {},
   "source": [
    "Every call to `xinc` allocates __a new array__.   \n",
    "$\\rightarrow$ Better allocate the array beforehand and __update it__."
   ]
  },
  {
   "cell_type": "code",
   "execution_count": 83,
   "metadata": {
    "collapsed": false
   },
   "outputs": [
    {
     "data": {
      "text/plain": [
       "loopinc_prealloc (generic function with 1 method)"
      ]
     },
     "execution_count": 83,
     "metadata": {},
     "output_type": "execute_result"
    }
   ],
   "source": [
    "function xinc!{T}(ret::AbstractVector{T}, x::T)\n",
    "    ret[1] = x\n",
    "    ret[2] = x+1\n",
    "    ret[3] = x+2\n",
    "    nothing\n",
    "end\n",
    "\n",
    "function loopinc_prealloc()\n",
    "    ret = Array(Int, 3)\n",
    "    y = 0\n",
    "    for i = 1:10^7\n",
    "        xinc!(ret, i)\n",
    "        y += ret[2]\n",
    "    end\n",
    "    y\n",
    "end"
   ]
  },
  {
   "cell_type": "code",
   "execution_count": 85,
   "metadata": {
    "collapsed": false,
    "scrolled": true
   },
   "outputs": [
    {
     "name": "stdout",
     "output_type": "stream",
     "text": [
      "  0.026791 seconds (6 allocations: 272 bytes)\n"
     ]
    }
   ],
   "source": [
    "@time loopinc_prealloc();"
   ]
  },
  {
   "cell_type": "code",
   "execution_count": null,
   "metadata": {
    "collapsed": true
   },
   "outputs": [],
   "source": []
  },
  {
   "cell_type": "markdown",
   "metadata": {},
   "source": [
    "## Linear Algebra?"
   ]
  },
  {
   "cell_type": "markdown",
   "metadata": {},
   "source": [
    "__Increase the number of BLAS threads!!__"
   ]
  },
  {
   "cell_type": "code",
   "execution_count": 12,
   "metadata": {
    "collapsed": true
   },
   "outputs": [],
   "source": [
    "blas_set_num_threads(1)"
   ]
  },
  {
   "cell_type": "code",
   "execution_count": 10,
   "metadata": {
    "collapsed": true
   },
   "outputs": [],
   "source": [
    "A = rand(4096,4096);"
   ]
  },
  {
   "cell_type": "code",
   "execution_count": 13,
   "metadata": {
    "collapsed": false
   },
   "outputs": [
    {
     "name": "stdout",
     "output_type": "stream",
     "text": [
      "  3.129976 seconds (9 allocations: 128.000 MB)\n"
     ]
    }
   ],
   "source": [
    "@time A*A;"
   ]
  },
  {
   "cell_type": "code",
   "execution_count": 14,
   "metadata": {
    "collapsed": true
   },
   "outputs": [],
   "source": [
    "blas_set_num_threads(4)"
   ]
  },
  {
   "cell_type": "code",
   "execution_count": 16,
   "metadata": {
    "collapsed": false
   },
   "outputs": [
    {
     "name": "stdout",
     "output_type": "stream",
     "text": [
      "  0.919351 seconds (9 allocations: 128.000 MB)\n"
     ]
    }
   ],
   "source": [
    "@time A*A;"
   ]
  }
 ],
 "metadata": {
  "kernelspec": {
   "display_name": "Julia 0.4.6",
   "language": "julia",
   "name": "julia-0.4"
  },
  "language_info": {
   "file_extension": ".jl",
   "mimetype": "application/julia",
   "name": "julia",
   "version": "0.4.6"
  }
 },
 "nbformat": 4,
 "nbformat_minor": 0
}
