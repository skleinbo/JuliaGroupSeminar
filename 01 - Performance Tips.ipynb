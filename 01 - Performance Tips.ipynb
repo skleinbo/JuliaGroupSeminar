{
 "cells": [
  {
   "cell_type": "markdown",
   "metadata": {},
   "source": [
    "# Group Seminar on Julia Pt. II  \n",
    "## General Performance Tips / Pitfalls to avoid"
   ]
  },
  {
   "cell_type": "markdown",
   "metadata": {},
   "source": [
    "<img src=\"http://imgs.xkcd.com/comics/optimization.png\"></img>"
   ]
  },
  {
   "cell_type": "markdown",
   "metadata": {},
   "source": [
    "## From input to machine code"
   ]
  },
  {
   "cell_type": "markdown",
   "metadata": {},
   "source": [
    "<img src=\"./JuliaCompilation.png\"></img>"
   ]
  },
  {
   "cell_type": "markdown",
   "metadata": {},
   "source": [
    "Image from __De Sutter et al. (2016)__ https://arxiv.org/abs/1604.03410"
   ]
  },
  {
   "cell_type": "markdown",
   "metadata": {},
   "source": [
    "## Measuring performance"
   ]
  },
  {
   "cell_type": "markdown",
   "metadata": {},
   "source": [
    "### `@time` is your best friend."
   ]
  },
  {
   "cell_type": "code",
   "execution_count": 5,
   "metadata": {
    "collapsed": false
   },
   "outputs": [
    {
     "name": "stdout",
     "output_type": "stream",
     "text": [
      "  0.039608 seconds (45 allocations: 3.429 MB, 7.96% gc time)\n"
     ]
    },
    {
     "data": {
      "text/plain": [
       "Base.LinAlg.Eigen{Float64,Float64,Array{Float64,2},Array{Float64,1}}([-6.26229,-6.15425,-6.08073,-5.95856,-5.80379,-5.73956,-5.65735,-5.58472,-5.55883,-5.42416  …  5.48082,5.54714,5.66972,5.74439,5.83742,5.92016,6.0536,6.22515,6.5032,125.419],250x250 Array{Float64,2}:\n",
       " -0.157852     0.0097549   -0.0919566   …   0.0596722   -0.0647217\n",
       "  0.0160363   -0.041139     0.12211        -0.0190327   -0.061726 \n",
       "  0.0589481   -0.0244084   -0.0391327       0.0359582   -0.0622407\n",
       " -0.0170758   -0.0401388    0.00173362     -0.065448    -0.0639973\n",
       "  0.0181348   -0.00212726   0.0411502       0.0621008   -0.0606934\n",
       "  0.0437556   -0.00176561   0.126031    …   0.0759294   -0.065033 \n",
       "  0.0474396   -0.150214     0.0157082      -0.00318396  -0.0618228\n",
       "  0.00443449   0.0907811   -0.145909       -0.0866613   -0.0601731\n",
       " -0.0340375   -0.0768437   -0.0891684       0.136947    -0.0648366\n",
       "  0.0749697   -0.0727694   -0.0101764       0.0194892   -0.0629928\n",
       "  0.0835363    0.00178625  -0.0697734   …  -0.00579012  -0.0584698\n",
       " -0.0218868   -0.0578692    0.00129274      0.0053929   -0.0663424\n",
       " -0.00182479  -0.00242152  -0.105242       -0.00100932  -0.0651428\n",
       "  ⋮                                     ⋱                         \n",
       " -0.0847957    0.00266983   0.0682607       0.0512958   -0.064896 \n",
       "  0.00401538  -0.0443608    0.0101692      -0.0479483   -0.0625971\n",
       "  0.0558407   -0.027503    -0.0134309   …   0.0257478   -0.0660814\n",
       "  0.0148765   -0.136083     0.00910791      0.0636749   -0.0662692\n",
       "  0.076281    -0.0717937    0.0977982       0.0161406   -0.0654273\n",
       " -0.0944816    0.0408763   -0.0546557       0.162549    -0.0636511\n",
       " -0.0343324    0.0358119   -0.101297        0.114206    -0.0642363\n",
       "  0.122292    -0.0685003   -0.0198632   …   0.11864     -0.0631396\n",
       "  0.0807183    0.0425117    0.0241112       0.0487323   -0.0606778\n",
       "  0.114513     0.0153942    0.0377138       0.0465894   -0.0601791\n",
       "  0.0825697   -0.105425    -0.0683836       0.141212    -0.0643008\n",
       " -0.0318198   -0.0192306    0.0676439      -0.125529    -0.0638755)"
      ]
     },
     "execution_count": 5,
     "metadata": {},
     "output_type": "execute_result"
    }
   ],
   "source": [
    "@time begin\n",
    "    local A = rand(250,250)\n",
    "    local F = eigfact((A+A')/2)\n",
    "end"
   ]
  },
  {
   "cell_type": "code",
   "execution_count": 15,
   "metadata": {
    "collapsed": true
   },
   "outputs": [],
   "source": [
    "macro timeOften(ex::Expr,n::Int)\n",
    "    :(begin \n",
    "     x=0\n",
    "     @time for i = 1:$n\n",
    "      $ex\n",
    "     end\n",
    "    end)\n",
    "end"
   ]
  },
  {
   "cell_type": "code",
   "execution_count": 16,
   "metadata": {
    "collapsed": false
   },
   "outputs": [
    {
     "name": "stdout",
     "output_type": "stream",
     "text": [
      "  0.000247 seconds\n"
     ]
    }
   ],
   "source": [
    "@timeOften rand() 100000"
   ]
  },
  {
   "cell_type": "markdown",
   "metadata": {},
   "source": [
    "### More advanced: Profiling"
   ]
  },
  {
   "cell_type": "markdown",
   "metadata": {},
   "source": [
    "Julia features a __statistical profiler__. Not every function call is back-traced."
   ]
  },
  {
   "cell_type": "code",
   "execution_count": 6,
   "metadata": {
    "collapsed": false
   },
   "outputs": [
    {
     "data": {
      "text/plain": [
       "myEig (generic function with 1 method)"
      ]
     },
     "execution_count": 6,
     "metadata": {},
     "output_type": "execute_result"
    }
   ],
   "source": [
    "function myEig(n::Int)\n",
    "    A = rand(n,n)\n",
    "    return eigfact((A+A')/2)\n",
    "end"
   ]
  },
  {
   "cell_type": "code",
   "execution_count": 7,
   "metadata": {
    "collapsed": true
   },
   "outputs": [],
   "source": [
    "myEig(1);"
   ]
  },
  {
   "cell_type": "code",
   "execution_count": 8,
   "metadata": {
    "collapsed": false
   },
   "outputs": [],
   "source": [
    "Profile.clear()"
   ]
  },
  {
   "cell_type": "code",
   "execution_count": 9,
   "metadata": {
    "collapsed": true
   },
   "outputs": [],
   "source": [
    "@profile myEig(2500);"
   ]
  },
  {
   "cell_type": "code",
   "execution_count": 10,
   "metadata": {
    "collapsed": false,
    "scrolled": true
   },
   "outputs": [
    {
     "name": "stdout",
     "output_type": "stream",
     "text": [
      " Count File                       Function                                 Line\n",
      "   177 ....4/IJulia/src/IJulia.jl eventloop                                 143\n",
      "   177 .../src/execute_request.jl execute_request_0x535c5df2                183\n",
      "    15 In[6]                      myEig                                       2\n",
      "   162 In[6]                      myEig                                       3\n",
      "    21 array.jl                   reshape                                   148\n",
      "    20 arraymath.jl               +                                          96\n",
      "    50 arraymath.jl               ./                                         49\n",
      "    28 arraymath.jl               transpose!                                323\n",
      "     1 arraymath.jl               transposeblock!                           336\n",
      "     2 arraymath.jl               transposeblock!                           339\n",
      "    25 arraymath.jl               transposeblock!                           340\n",
      "   113 arraymath.jl               transposeblock!                           346\n",
      "   118 arraymath.jl               transposeblock!                           347\n",
      "   132 arraymath.jl               transposeblock!                           350\n",
      "   112 arraymath.jl               transposeblock!                           351\n",
      "    15 dSFMT.jl                   dsfmt_fill_array_close_open!               76\n",
      "    62 linalg/eigen.jl            eigfact!                                   31\n",
      "    62 linalg/eigen.jl            eigfact                                    57\n",
      "    19 linalg/generic.jl          issym                                     353\n",
      "     1 linalg/lapack.jl           syevr!                                   3957\n",
      "     2 linalg/lapack.jl           syevr!                                   3966\n",
      "    40 linalg/lapack.jl           syevr!                                   3987\n",
      "   177 loading.jl                 include_string                            282\n",
      "    22 multidimensional.jl        _unsafe_getindex                          194\n",
      "    18 multidimensional.jl        _unsafe_getindex                          195\n",
      "   177 profile.jl                 anonymous                                  16\n",
      "    15 random.jl                  rand!                                     347\n",
      "   177 task.jl                    anonymous                                 447\n"
     ]
    }
   ],
   "source": [
    "Profile.print(format=:flat)"
   ]
  },
  {
   "cell_type": "code",
   "execution_count": 11,
   "metadata": {
    "collapsed": false
   },
   "outputs": [
    {
     "name": "stderr",
     "output_type": "stream",
     "text": [
      "INFO: Recompiling stale cache file /Network/Servers/mac25.thp.uni-koeln.de/Volumes/RAID/skleinbo/.julia/lib/v0.4/ProfileView.ji for module ProfileView.\n",
      "INFO: Recompiling stale cache file /Network/Servers/mac25.thp.uni-koeln.de/Volumes/RAID/skleinbo/.julia/lib/v0.4/FixedPointNumbers.ji for module FixedPointNumbers.\n",
      "INFO: Recompiling stale cache file /Network/Servers/mac25.thp.uni-koeln.de/Volumes/RAID/skleinbo/.julia/lib/v0.4/Colors.ji for module Colors.\n",
      "INFO: Recompiling stale cache file /Network/Servers/mac25.thp.uni-koeln.de/Volumes/RAID/skleinbo/.julia/lib/v0.4/ColorTypes.ji for module ColorTypes.\n",
      "INFO: Precompiling module ProfileViewSVG...\n"
     ]
    }
   ],
   "source": [
    "using ProfileView"
   ]
  },
  {
   "cell_type": "markdown",
   "metadata": {},
   "source": [
    "## 1. Type stability"
   ]
  },
  {
   "cell_type": "code",
   "execution_count": 13,
   "metadata": {
    "collapsed": false
   },
   "outputs": [
    {
     "data": {
      "text/plain": [
       "unstable (generic function with 1 method)"
      ]
     },
     "execution_count": 13,
     "metadata": {},
     "output_type": "execute_result"
    }
   ],
   "source": [
    "function unstable(x::Int)\n",
    "    if iseven(x)\n",
    "        return Float64(x)\n",
    "    else\n",
    "        return Int64(x)\n",
    "    end\n",
    "end"
   ]
  },
  {
   "cell_type": "code",
   "execution_count": 14,
   "metadata": {
    "collapsed": false
   },
   "outputs": [
    {
     "data": {
      "text/plain": [
       "Array{Union{Float64,Int64},1}"
      ]
     },
     "execution_count": 14,
     "metadata": {},
     "output_type": "execute_result"
    }
   ],
   "source": [
    "typeof([ unstable(i) for i in 1:127 ])"
   ]
  },
  {
   "cell_type": "code",
   "execution_count": 21,
   "metadata": {
    "collapsed": false
   },
   "outputs": [
    {
     "name": "stdout",
     "output_type": "stream",
     "text": [
      "  0.682532 seconds (12.70 M allocations: 296.021 MB, 7.86% gc time)\n"
     ]
    }
   ],
   "source": [
    "begin \n",
    "    local A = [ unstable(i) for i in 1:127 ]\n",
    "    @timeOften A+1 100000\n",
    "end"
   ]
  },
  {
   "cell_type": "code",
   "execution_count": 24,
   "metadata": {
    "collapsed": false
   },
   "outputs": [
    {
     "name": "stdout",
     "output_type": "stream",
     "text": [
      "  0.043505 seconds (100.00 k allocations: 103.760 MB, 55.21% gc time)\n"
     ]
    }
   ],
   "source": [
    "begin \n",
    "    local A = [ Float64(i) for i in 1:127 ]\n",
    "    @timeOften A+1 100000\n",
    "end"
   ]
  },
  {
   "cell_type": "markdown",
   "metadata": {},
   "source": [
    "<hr />"
   ]
  },
  {
   "cell_type": "code",
   "execution_count": 25,
   "metadata": {
    "collapsed": false
   },
   "outputs": [
    {
     "data": {
      "text/plain": [
       "sum_stable (generic function with 1 method)"
      ]
     },
     "execution_count": 25,
     "metadata": {},
     "output_type": "execute_result"
    }
   ],
   "source": [
    "function sum_unstable()\n",
    "    sum = 0\n",
    "    for i in 1:100\n",
    "        sum += i/2\n",
    "    end\n",
    "    sum\n",
    "end\n",
    "function sum_stable()\n",
    "    sum = 0.0\n",
    "    for i in 1:100\n",
    "        sum += i/2\n",
    "    end\n",
    "    sum\n",
    "end"
   ]
  },
  {
   "cell_type": "code",
   "execution_count": 27,
   "metadata": {
    "collapsed": false
   },
   "outputs": [
    {
     "name": "stdout",
     "output_type": "stream",
     "text": [
      "  0.278849 seconds (20.00 M allocations: 305.176 MB, 21.57% gc time)\n",
      "  0.006988 seconds\n"
     ]
    }
   ],
   "source": [
    "@timeOften sum_unstable() 100000;\n",
    "@timeOften sum_stable() 100000;"
   ]
  },
  {
   "cell_type": "code",
   "execution_count": 29,
   "metadata": {
    "collapsed": true
   },
   "outputs": [
    {
     "name": "stdout",
     "output_type": "stream",
     "text": [
      "Variables:\n",
      "  sum::ANY\n",
      "  #s27::Int64\n",
      "  i::Int64\n",
      "\n",
      "Body:\n",
      "  begin  # In[25], line 2:\n",
      "      sum = 0 # In[25], line 3:\n",
      "      GenSym(0) = $(Expr(:new, UnitRange{Int64}, 1, :(((top(getfield))(Base.Intrinsics,:select_value)::I)((Base.sle_int)(1,100)::Bool,100,(Base.box)(Int64,(Base.sub_int)(1,1)))::Int64)))\n",
      "      #s27 = (top(getfield))(GenSym(0),:start)::Int64\n",
      "      unless (Base.box)(Base.Bool,(Base.not_int)(#s27::Int64 === (Base.box)(Base.Int,(Base.add_int)((top(getfield))(GenSym(0),:stop)::Int64,1))::Bool)) goto 1\n",
      "      2: \n",
      "      GenSym(2) = #s27::Int64\n",
      "      GenSym(3) = (Base.box)(Base.Int,(Base.add_int)(#s27::Int64,1))\n",
      "      i = GenSym(2)\n",
      "      #s27 = GenSym(3) # In[25], line 4:\n",
      "      sum = sum::UNION{FLOAT64,INT64} + (Base.box)(Base.Float64,(Base.div_float)((Base.box)(Float64,(Base.sitofp)(Float64,i::Int64)),(Base.box)(Float64,(Base.sitofp)(Float64,2))))::Float64\n",
      "      3: \n",
      "      unless (Base.box)(Base.Bool,(Base.not_int)((Base.box)(Base.Bool,(Base.not_int)(#s27::Int64 === (Base.box)(Base.Int,(Base.add_int)((top(getfield))(GenSym(0),:stop)::Int64,1))::Bool)))) goto 2\n",
      "      1: \n",
      "      0:  # In[25], line 6:\n",
      "      return sum::UNION{FLOAT64,INT64}\n",
      "  end::UNION{FLOAT64,INT64}\n"
     ]
    }
   ],
   "source": [
    "@code_warntype sum_unstable();"
   ]
  },
  {
   "cell_type": "code",
   "execution_count": 37,
   "metadata": {
    "collapsed": true
   },
   "outputs": [
    {
     "name": "stdout",
     "output_type": "stream",
     "text": [
      "\n",
      "define %jl_value_t* @julia_sum_unstable_22318() {\n",
      "top:\n",
      "  %0 = alloca [5 x %jl_value_t*], align 8\n",
      "  %.sub4 = bitcast [5 x %jl_value_t*]* %0 to %jl_value_t**\n",
      "  %1 = getelementptr [5 x %jl_value_t*]* %0, i64 0, i64 2\n",
      "  %2 = getelementptr [5 x %jl_value_t*]* %0, i64 0, i64 3\n",
      "  store %jl_value_t* inttoptr (i64 6 to %jl_value_t*), %jl_value_t** %.sub4, align 8\n",
      "  %3 = load %jl_value_t*** @jl_pgcstack, align 8\n",
      "  %4 = getelementptr [5 x %jl_value_t*]* %0, i64 0, i64 1\n",
      "  %.c = bitcast %jl_value_t** %3 to %jl_value_t*\n",
      "  store %jl_value_t* %.c, %jl_value_t** %4, align 8\n",
      "  store %jl_value_t** %.sub4, %jl_value_t*** @jl_pgcstack, align 8\n",
      "  store %jl_value_t* null, %jl_value_t** %2, align 8\n",
      "  %5 = getelementptr [5 x %jl_value_t*]* %0, i64 0, i64 4\n",
      "  store %jl_value_t* null, %jl_value_t** %5, align 8\n",
      "  store %jl_value_t* inttoptr (i64 4492828752 to %jl_value_t*), %jl_value_t** %1, align 8\n",
      "  br label %L\n",
      "\n",
      "L:                                                ; preds = %L, %top\n",
      "  %lsr.iv = phi i64 [ 100, %top ], [ %lsr.iv.next, %L ]\n",
      "  %6 = phi %jl_value_t* [ inttoptr (i64 4492828752 to %jl_value_t*), %top ], [ %13, %L ]\n",
      "  %\"#s27.0\" = phi i64 [ 1, %top ], [ %7, %L ]\n",
      "  %7 = add i64 %\"#s27.0\", 1\n",
      "  %sunkaddr = ptrtoint [5 x %jl_value_t*]* %0 to i64\n",
      "  %sunkaddr5 = add i64 %sunkaddr, 24\n",
      "  %sunkaddr6 = inttoptr i64 %sunkaddr5 to %jl_value_t**\n",
      "  store %jl_value_t* %6, %jl_value_t** %sunkaddr6, align 8\n",
      "  %8 = sitofp i64 %\"#s27.0\" to double\n",
      "  %9 = fmul double %8, 5.000000e-01\n",
      "  %10 = call %jl_value_t* @jl_gc_alloc_1w()\n",
      "  %11 = getelementptr inbounds %jl_value_t* %10, i64 -1, i32 0\n",
      "  store %jl_value_t* inttoptr (i64 4493485072 to %jl_value_t*), %jl_value_t** %11, align 8\n",
      "  %12 = bitcast %jl_value_t* %10 to double*\n",
      "  store double %9, double* %12, align 16\n",
      "  %sunkaddr7 = ptrtoint [5 x %jl_value_t*]* %0 to i64\n",
      "  %sunkaddr8 = add i64 %sunkaddr7, 32\n",
      "  %sunkaddr9 = inttoptr i64 %sunkaddr8 to %jl_value_t**\n",
      "  store %jl_value_t* %10, %jl_value_t** %sunkaddr9, align 8\n",
      "  %13 = call %jl_value_t* @jl_apply_generic(%jl_value_t* inttoptr (i64 4501219792 to %jl_value_t*), %jl_value_t** %2, i32 2)\n",
      "  %sunkaddr10 = ptrtoint [5 x %jl_value_t*]* %0 to i64\n",
      "  %sunkaddr11 = add i64 %sunkaddr10, 16\n",
      "  %sunkaddr12 = inttoptr i64 %sunkaddr11 to %jl_value_t**\n",
      "  store %jl_value_t* %13, %jl_value_t** %sunkaddr12, align 8\n",
      "  %lsr.iv.next = add i64 %lsr.iv, -1\n",
      "  %14 = icmp eq i64 %lsr.iv.next, 0\n",
      "  br i1 %14, label %L3, label %L\n",
      "\n",
      "L3:                                               ; preds = %L\n",
      "  %sunkaddr13 = ptrtoint [5 x %jl_value_t*]* %0 to i64\n",
      "  %sunkaddr14 = add i64 %sunkaddr13, 8\n",
      "  %sunkaddr15 = inttoptr i64 %sunkaddr14 to %jl_value_t**\n",
      "  %15 = load %jl_value_t** %sunkaddr15, align 8\n",
      "  %16 = bitcast %jl_value_t* %15 to %jl_value_t**\n",
      "  store %jl_value_t** %16, %jl_value_t*** @jl_pgcstack, align 8\n",
      "  ret %jl_value_t* %13\n",
      "}\n"
     ]
    }
   ],
   "source": [
    "@code_llvm sum_unstable()"
   ]
  },
  {
   "cell_type": "markdown",
   "metadata": {},
   "source": [
    "## 2. Be careful with global variables."
   ]
  },
  {
   "cell_type": "code",
   "execution_count": 207,
   "metadata": {
    "collapsed": false
   },
   "outputs": [
    {
     "data": {
      "text/plain": [
       "g (generic function with 2 methods)"
      ]
     },
     "execution_count": 207,
     "metadata": {},
     "output_type": "execute_result"
    }
   ],
   "source": [
    "# Alright\n",
    "const global C = 100000\n",
    "# Potentially VERY Bad\n",
    "global D = 100000\n",
    "\n",
    "function f(x)\n",
    "    s=0\n",
    "    for i in 1:10^6\n",
    "        s += s+x+i + C end\n",
    "    return s\n",
    "end\n",
    "function g(x)\n",
    "    s=0\n",
    "    for i in 1:10^6\n",
    "        s += s+x+i + D end\n",
    "    return s\n",
    "end"
   ]
  },
  {
   "cell_type": "code",
   "execution_count": 209,
   "metadata": {
    "collapsed": false
   },
   "outputs": [
    {
     "name": "stdout",
     "output_type": "stream",
     "text": [
      "  0.000475 seconds (5 allocations: 176 bytes)\n"
     ]
    }
   ],
   "source": [
    "@time f(10);"
   ]
  },
  {
   "cell_type": "code",
   "execution_count": 211,
   "metadata": {
    "collapsed": false
   },
   "outputs": [
    {
     "name": "stdout",
     "output_type": "stream",
     "text": [
      "  0.077768 seconds (4.00 M allocations: 61.028 MB, 5.17% gc time)\n"
     ]
    }
   ],
   "source": [
    "@time g(10);"
   ]
  },
  {
   "cell_type": "code",
   "execution_count": 232,
   "metadata": {
    "collapsed": false
   },
   "outputs": [
    {
     "data": {
      "text/plain": [
       "g (generic function with 2 methods)"
      ]
     },
     "execution_count": 232,
     "metadata": {},
     "output_type": "execute_result"
    }
   ],
   "source": [
    "function g(x,y::Int)\n",
    "    s=0\n",
    "    for i in 1:Int(1e6)\n",
    "        s+=s+x+i + y end\n",
    "    return s\n",
    "end"
   ]
  },
  {
   "cell_type": "code",
   "execution_count": 239,
   "metadata": {
    "collapsed": false
   },
   "outputs": [
    {
     "name": "stdout",
     "output_type": "stream",
     "text": [
      "  0.000460 seconds (5 allocations: 176 bytes)\n"
     ]
    }
   ],
   "source": [
    "@time g(10,D);"
   ]
  },
  {
   "cell_type": "markdown",
   "metadata": {},
   "source": [
    "__Q: Why is a `const` so much more efficient?__  \n",
    "A: The compiler cannot infer the type of a dynamic global. A constants type is fixed at declaration and can be inlined."
   ]
  },
  {
   "cell_type": "code",
   "execution_count": 215,
   "metadata": {
    "collapsed": true
   },
   "outputs": [
    {
     "name": "stdout",
     "output_type": "stream",
     "text": [
      "\n",
      "define i64 @julia_f_4061(i64) {\n",
      "top:\n",
      "  %1 = call i64 @julia_power_by_squaring_115(i64 10, i64 6)\n",
      "  %2 = icmp sgt i64 %1, 0\n",
      "  %3 = select i1 %2, i64 %1, i64 0\n",
      "  %4 = icmp eq i64 %3, 0\n",
      "  br i1 %4, label %L3, label %L.preheader\n",
      "\n",
      "L.preheader:                                      ; preds = %top\n",
      "  %5 = add i64 %0, 100000\n",
      "  br label %L\n",
      "\n",
      "L:                                                ; preds = %L, %L.preheader\n",
      "  %s.0 = phi i64 [ %8, %L ], [ 0, %L.preheader ]\n",
      "  %\"#s749.0\" = phi i64 [ %6, %L ], [ 1, %L.preheader ]\n",
      "  %6 = add i64 %\"#s749.0\", 1\n",
      "  %factor = shl i64 %s.0, 1\n",
      "  %7 = add i64 %5, %\"#s749.0\"\n",
      "  %8 = add i64 %7, %factor\n",
      "  %9 = icmp eq i64 %\"#s749.0\", %3\n",
      "  br i1 %9, label %L3, label %L\n",
      "\n",
      "L3:                                               ; preds = %L, %top\n",
      "  %s.1 = phi i64 [ 0, %top ], [ %8, %L ]\n",
      "  ret i64 %s.1\n",
      "}\n"
     ]
    }
   ],
   "source": [
    "@code_llvm f(10)"
   ]
  },
  {
   "cell_type": "code",
   "execution_count": 216,
   "metadata": {
    "collapsed": true
   },
   "outputs": [
    {
     "name": "stdout",
     "output_type": "stream",
     "text": [
      "\n",
      "define %jl_value_t* @julia_g_4062(i64) {\n",
      "top:\n",
      "  %1 = alloca [8 x %jl_value_t*], align 8\n",
      "  %.sub = getelementptr inbounds [8 x %jl_value_t*]* %1, i64 0, i64 0\n",
      "  %2 = getelementptr [8 x %jl_value_t*]* %1, i64 0, i64 2\n",
      "  %3 = getelementptr [8 x %jl_value_t*]* %1, i64 0, i64 5\n",
      "  store %jl_value_t* inttoptr (i64 12 to %jl_value_t*), %jl_value_t** %.sub, align 8\n",
      "  %4 = getelementptr [8 x %jl_value_t*]* %1, i64 0, i64 1\n",
      "  %5 = load %jl_value_t*** @jl_pgcstack, align 8\n",
      "  %.c = bitcast %jl_value_t** %5 to %jl_value_t*\n",
      "  store %jl_value_t* %.c, %jl_value_t** %4, align 8\n",
      "  store %jl_value_t** %.sub, %jl_value_t*** @jl_pgcstack, align 8\n",
      "  %6 = getelementptr [8 x %jl_value_t*]* %1, i64 0, i64 3\n",
      "  store %jl_value_t* null, %jl_value_t** %6, align 8\n",
      "  %7 = getelementptr [8 x %jl_value_t*]* %1, i64 0, i64 4\n",
      "  store %jl_value_t* null, %jl_value_t** %7, align 8\n",
      "  store %jl_value_t* null, %jl_value_t** %3, align 8\n",
      "  %8 = getelementptr [8 x %jl_value_t*]* %1, i64 0, i64 6\n",
      "  store %jl_value_t* null, %jl_value_t** %8, align 8\n",
      "  %9 = getelementptr [8 x %jl_value_t*]* %1, i64 0, i64 7\n",
      "  store %jl_value_t* null, %jl_value_t** %9, align 8\n",
      "  store %jl_value_t* inttoptr (i64 2147557456 to %jl_value_t*), %jl_value_t** %2, align 8\n",
      "  %10 = call i64 @julia_power_by_squaring_115(i64 10, i64 6)\n",
      "  %11 = icmp sgt i64 %10, 0\n",
      "  %12 = select i1 %11, i64 %10, i64 0\n",
      "  %13 = icmp eq i64 %12, 0\n",
      "  br i1 %13, label %top.L3_crit_edge, label %L\n",
      "\n",
      "top.L3_crit_edge:                                 ; preds = %top\n",
      "  %.pre = load %jl_value_t** %2, align 8\n",
      "  br label %L3\n",
      "\n",
      "L:                                                ; preds = %L, %top\n",
      "  %\"#s750.0\" = phi i64 [ %14, %L ], [ 1, %top ]\n",
      "  %14 = add i64 %\"#s750.0\", 1\n",
      "  %15 = load %jl_value_t** inttoptr (i64 2208525160 to %jl_value_t**), align 8\n",
      "  store %jl_value_t* %15, %jl_value_t** %6, align 8\n",
      "  %16 = load %jl_value_t** %2, align 8\n",
      "  store %jl_value_t* %16, %jl_value_t** %3, align 8\n",
      "  %17 = call %jl_value_t* @jl_box_int64(i64 signext %0)\n",
      "  store %jl_value_t* %17, %jl_value_t** %8, align 8\n",
      "  %18 = call %jl_value_t* @jl_apply_generic(%jl_value_t* inttoptr (i64 2156338352 to %jl_value_t*), %jl_value_t** %3, i32 2)\n",
      "  store %jl_value_t* %18, %jl_value_t** %3, align 8\n",
      "  %19 = call %jl_value_t* @jl_box_int64(i64 signext %\"#s750.0\")\n",
      "  store %jl_value_t* %19, %jl_value_t** %8, align 8\n",
      "  %20 = call %jl_value_t* @jl_apply_generic(%jl_value_t* inttoptr (i64 2156338352 to %jl_value_t*), %jl_value_t** %3, i32 2)\n",
      "  store %jl_value_t* %20, %jl_value_t** %7, align 8\n",
      "  %21 = load %jl_value_t** %2, align 8\n",
      "  store %jl_value_t* %21, %jl_value_t** %3, align 8\n",
      "  store %jl_value_t* %20, %jl_value_t** %8, align 8\n",
      "  store %jl_value_t* %15, %jl_value_t** %9, align 8\n",
      "  %22 = call %jl_value_t* @jl_apply_generic(%jl_value_t* inttoptr (i64 2156338352 to %jl_value_t*), %jl_value_t** %8, i32 2)\n",
      "  store %jl_value_t* %22, %jl_value_t** %8, align 8\n",
      "  %23 = call %jl_value_t* @jl_apply_generic(%jl_value_t* inttoptr (i64 2156338352 to %jl_value_t*), %jl_value_t** %3, i32 2)\n",
      "  store %jl_value_t* %23, %jl_value_t** %2, align 8\n",
      "  %24 = icmp eq i64 %\"#s750.0\", %12\n",
      "  br i1 %24, label %L3, label %L\n",
      "\n",
      "L3:                                               ; preds = %L, %top.L3_crit_edge\n",
      "  %25 = phi %jl_value_t* [ %.pre, %top.L3_crit_edge ], [ %23, %L ]\n",
      "  %26 = load %jl_value_t** %4, align 8\n",
      "  %27 = getelementptr inbounds %jl_value_t* %26, i64 0, i32 0\n",
      "  store %jl_value_t** %27, %jl_value_t*** @jl_pgcstack, align 8\n",
      "  ret %jl_value_t* %25\n",
      "}\n"
     ]
    }
   ],
   "source": [
    "@code_llvm g(10)"
   ]
  },
  {
   "cell_type": "code",
   "execution_count": 217,
   "metadata": {
    "collapsed": true
   },
   "outputs": [
    {
     "name": "stdout",
     "output_type": "stream",
     "text": [
      "\n",
      "define i64 @julia_g_4063(i64, i64) {\n",
      "top:\n",
      "  %2 = add i64 %1, %0\n",
      "  br label %L\n",
      "\n",
      "L:                                                ; preds = %L, %top\n",
      "  %s.0 = phi i64 [ 0, %top ], [ %5, %L ]\n",
      "  %\"#s767.0\" = phi i64 [ 1, %top ], [ %3, %L ]\n",
      "  %3 = add i64 %\"#s767.0\", 1\n",
      "  %factor = shl i64 %s.0, 1\n",
      "  %4 = add i64 %2, %\"#s767.0\"\n",
      "  %5 = add i64 %4, %factor\n",
      "  %6 = icmp eq i64 %\"#s767.0\", 1000000\n",
      "  br i1 %6, label %L3, label %L\n",
      "\n",
      "L3:                                               ; preds = %L\n",
      "  ret i64 %5\n",
      "}\n"
     ]
    }
   ],
   "source": [
    "@code_llvm g(10,D)"
   ]
  },
  {
   "cell_type": "markdown",
   "metadata": {},
   "source": [
    "<span style=\"font-size:14pt\">$\\Longrightarrow$ Adopt a __functional__ programming style!</span>  \n",
    "\n"
   ]
  },
  {
   "cell_type": "markdown",
   "metadata": {
    "collapsed": true
   },
   "source": [
    "## 3. Respect the order.\n",
    "### Unlike C, Julia has _column major_ order!"
   ]
  },
  {
   "cell_type": "code",
   "execution_count": 240,
   "metadata": {
    "collapsed": false
   },
   "outputs": [
    {
     "data": {
      "text/plain": [
       "add_matrices_two (generic function with 1 method)"
      ]
     },
     "execution_count": 240,
     "metadata": {},
     "output_type": "execute_result"
    }
   ],
   "source": [
    "function add_matrices_one(A::Matrix, B::Matrix)\n",
    "    C = Matrix{eltype(A)}(size(A)...)\n",
    "    for i = 1:size(A,1)\n",
    "        for j = 1:size(A,2)\n",
    "            C[i,j] = A[i,j] + B[i,j]\n",
    "        end\n",
    "    end\n",
    "    return C\n",
    "end\n",
    "function add_matrices_two(A::Matrix, B::Matrix)\n",
    "    C = Matrix{eltype(A)}(size(A)...)\n",
    "    for i = 1:size(A,2)\n",
    "        for j = 1:size(A,1)\n",
    "            C[j,i] = A[j,i] + B[j,i]\n",
    "        end\n",
    "    end\n",
    "    return C\n",
    "end"
   ]
  },
  {
   "cell_type": "code",
   "execution_count": 241,
   "metadata": {
    "collapsed": false
   },
   "outputs": [],
   "source": [
    "A = rand(1000,1000);\n",
    "B = rand(1000,1000);"
   ]
  },
  {
   "cell_type": "code",
   "execution_count": 243,
   "metadata": {
    "collapsed": false
   },
   "outputs": [
    {
     "name": "stdout",
     "output_type": "stream",
     "text": [
      "  0.015843 seconds (6 allocations: 7.630 MB)\n",
      "  0.003286 seconds (6 allocations: 7.630 MB)\n"
     ]
    }
   ],
   "source": [
    "@time add_matrices_one(A,B);\n",
    "@time add_matrices_two(A,B);"
   ]
  },
  {
   "cell_type": "markdown",
   "metadata": {},
   "source": [
    "__Note:__ Don't bother implementing LinAlg operations."
   ]
  },
  {
   "cell_type": "code",
   "execution_count": 244,
   "metadata": {
    "collapsed": false
   },
   "outputs": [
    {
     "name": "stdout",
     "output_type": "stream",
     "text": [
      "  0.002716 seconds (9 allocations: 7.630 MB, 139.10% gc time)\n"
     ]
    }
   ],
   "source": [
    "@time A+B;"
   ]
  },
  {
   "cell_type": "markdown",
   "metadata": {},
   "source": [
    "## 4. Disable safty nets where appropriate."
   ]
  },
  {
   "cell_type": "markdown",
   "metadata": {},
   "source": [
    "By default Julia performs __out-of-bound checks__ on array access. We get an exception without crashing the kernel."
   ]
  },
  {
   "cell_type": "code",
   "execution_count": 245,
   "metadata": {
    "collapsed": false
   },
   "outputs": [
    {
     "ename": "LoadError",
     "evalue": "LoadError: BoundsError: attempt to access 3x3 Array{Float64,2}:\n 0.0570808  0.0362426  0.780516\n 0.294962   0.668098   0.144707\n 0.667597   0.594511   0.917051\n  at index [4,1]\nwhile loading In[245], in expression starting on line 1",
     "output_type": "error",
     "traceback": [
      "LoadError: BoundsError: attempt to access 3x3 Array{Float64,2}:\n 0.0570808  0.0362426  0.780516\n 0.294962   0.668098   0.144707\n 0.667597   0.594511   0.917051\n  at index [4,1]\nwhile loading In[245], in expression starting on line 1",
      "",
      " in add_matrices_two at In[240]:14"
     ]
    }
   ],
   "source": [
    "add_matrices_two(rand(4,4),rand(3,3))"
   ]
  },
  {
   "cell_type": "markdown",
   "metadata": {},
   "source": [
    "However, this can cost performance and is unneccessary if we guarantee inbounds access $\\rightarrow$ __@inbounds__"
   ]
  },
  {
   "cell_type": "code",
   "execution_count": 246,
   "metadata": {
    "collapsed": false
   },
   "outputs": [
    {
     "data": {
      "text/plain": [
       "add_matrices_three (generic function with 1 method)"
      ]
     },
     "execution_count": 246,
     "metadata": {},
     "output_type": "execute_result"
    }
   ],
   "source": [
    "function add_matrices_three(A::Matrix, B::Matrix)\n",
    "    C = Matrix{eltype(A)}(size(A)...)\n",
    "    if size(A) != size(B)\n",
    "        return nothing\n",
    "    end\n",
    "    @inbounds for i = 1:size(A,2)\n",
    "        for j = 1:size(A,1)\n",
    "           C[j,i] = A[j,i] + B[j,i]\n",
    "        end\n",
    "    end\n",
    "    return C\n",
    "end"
   ]
  },
  {
   "cell_type": "code",
   "execution_count": 248,
   "metadata": {
    "collapsed": false
   },
   "outputs": [
    {
     "name": "stdout",
     "output_type": "stream",
     "text": [
      "  0.002569 seconds (6 allocations: 7.630 MB)\n"
     ]
    }
   ],
   "source": [
    "@time add_matrices_three(A,B);"
   ]
  },
  {
   "cell_type": "markdown",
   "metadata": {},
   "source": [
    "## 5. Pre-allocate output"
   ]
  },
  {
   "cell_type": "markdown",
   "metadata": {},
   "source": [
    "_[Verbatim from http://docs.julialang.org/en/release-0.4/manual/performance-tips/#pre-allocating-outputs]_"
   ]
  },
  {
   "cell_type": "code",
   "execution_count": 74,
   "metadata": {
    "collapsed": true
   },
   "outputs": [
    {
     "data": {
      "text/plain": [
       "loopinc (generic function with 1 method)"
      ]
     },
     "execution_count": 74,
     "metadata": {},
     "output_type": "execute_result"
    }
   ],
   "source": [
    "function xinc(x)\n",
    "    return [x, x+1, x+2]\n",
    "end\n",
    "\n",
    "function loopinc()\n",
    "    y = 0\n",
    "    for i = 1:10^7\n",
    "        ret = xinc(i)\n",
    "        y += ret[2]\n",
    "    end\n",
    "    y\n",
    "end"
   ]
  },
  {
   "cell_type": "markdown",
   "metadata": {},
   "source": [
    "Every call to `xinc` allocates __a new array__.   \n",
    "$\\rightarrow$ Better allocate the array beforehand and __update it__."
   ]
  },
  {
   "cell_type": "code",
   "execution_count": 72,
   "metadata": {
    "collapsed": true
   },
   "outputs": [
    {
     "data": {
      "text/plain": [
       "loopinc_prealloc (generic function with 1 method)"
      ]
     },
     "execution_count": 72,
     "metadata": {},
     "output_type": "execute_result"
    }
   ],
   "source": [
    "function xinc!{T}(ret::AbstractVector{T}, x::T)\n",
    "    ret[1] = x\n",
    "    ret[2] = x+1\n",
    "    ret[3] = x+2\n",
    "    nothing\n",
    "end\n",
    "\n",
    "function loopinc_prealloc()\n",
    "    ret = Array(Int, 3)\n",
    "    y = 0\n",
    "    for i = 1:10^7\n",
    "        xinc!(ret, i)\n",
    "        y += ret[2]\n",
    "    end\n",
    "    y\n",
    "end"
   ]
  },
  {
   "cell_type": "code",
   "execution_count": 76,
   "metadata": {
    "collapsed": true
   },
   "outputs": [
    {
     "name": "stdout",
     "output_type": "stream",
     "text": [
      "  0.510639 seconds (40.00 M allocations: 1.341 GB, 13.42% gc time)\n",
      "  0.025712 seconds (6 allocations: 272 bytes)\n"
     ]
    }
   ],
   "source": [
    "@time loopinc();\n",
    "@time loopinc_prealloc();"
   ]
  }
 ],
 "metadata": {
  "kernelspec": {
   "display_name": "Julia 0.4.5",
   "language": "julia",
   "name": "julia-0.4"
  },
  "language_info": {
   "file_extension": ".jl",
   "mimetype": "application/julia",
   "name": "julia",
   "version": "0.4.5"
  }
 },
 "nbformat": 4,
 "nbformat_minor": 0
}
