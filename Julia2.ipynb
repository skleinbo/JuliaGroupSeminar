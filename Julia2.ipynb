{
 "cells": [
  {
   "cell_type": "markdown",
   "metadata": {},
   "source": [
    "# Group Seminar on Julia Pt. II  \n",
    "# General Performance Tips"
   ]
  },
  {
   "cell_type": "code",
   "execution_count": 6,
   "metadata": {
    "collapsed": false
   },
   "outputs": [],
   "source": [
    "macro timeOften(ex::Expr)\n",
    "    :(begin \n",
    "     x=0\n",
    "     @time for i = 1:100000\n",
    "      x=$ex\n",
    "     end\n",
    "     x\n",
    "    end)\n",
    "end"
   ]
  },
  {
   "cell_type": "markdown",
   "metadata": {},
   "source": [
    "## 1. Type stability"
   ]
  },
  {
   "cell_type": "code",
   "execution_count": 65,
   "metadata": {
    "collapsed": false
   },
   "outputs": [
    {
     "data": {
      "text/plain": [
       "unstable (generic function with 1 method)"
      ]
     },
     "execution_count": 65,
     "metadata": {},
     "output_type": "execute_result"
    }
   ],
   "source": [
    "function unstable(x::Integer)\n",
    "    if iseven(x)\n",
    "        return Float64(x)\n",
    "    else\n",
    "        return Int8(x)\n",
    "    end\n",
    "end"
   ]
  },
  {
   "cell_type": "code",
   "execution_count": 125,
   "metadata": {
    "collapsed": false
   },
   "outputs": [
    {
     "data": {
      "text/plain": [
       "sum_stable (generic function with 1 method)"
      ]
     },
     "execution_count": 125,
     "metadata": {},
     "output_type": "execute_result"
    }
   ],
   "source": [
    "function sum_unstable()\n",
    "    sum = 0\n",
    "    for i in 1:100\n",
    "        sum += i/2\n",
    "    end\n",
    "    sum\n",
    "end\n",
    "function sum_stable()\n",
    "    sum = 0.0\n",
    "    for i in 1:100\n",
    "        sum += i/2\n",
    "    end\n",
    "    sum\n",
    "end"
   ]
  },
  {
   "cell_type": "code",
   "execution_count": 130,
   "metadata": {
    "collapsed": true
   },
   "outputs": [
    {
     "name": "stdout",
     "output_type": "stream",
     "text": [
      "  0.188656 seconds (20.00 M allocations: 305.176 MB, 7.51% gc time)\n",
      "  0.011303 seconds (100.00 k allocations: 1.526 MB)\n"
     ]
    }
   ],
   "source": [
    "@timeOften sum_unstable();\n",
    "@timeOften sum_stable();"
   ]
  },
  {
   "cell_type": "code",
   "execution_count": 129,
   "metadata": {
    "collapsed": true
   },
   "outputs": [
    {
     "name": "stdout",
     "output_type": "stream",
     "text": [
      "Variables:\n",
      "  sum::Float64\n",
      "  #s482::Int64\n",
      "  i::Int64\n",
      "\n",
      "Body:\n",
      "  begin  # In[125], line 9:\n",
      "      sum = 0.0 # In[125], line 10:\n",
      "      GenSym(0) = $(Expr(:new, UnitRange{Int64}, 1, :(((top(getfield))(Base.Intrinsics,:select_value)::I)((Base.sle_int)(1,100)::Bool,100,(Base.box)(Int64,(Base.sub_int)(1,1)))::Int64)))\n",
      "      #s482 = (top(getfield))(GenSym(0),:start)::Int64\n",
      "      unless (Base.box)(Base.Bool,(Base.not_int)(#s482::Int64 === (Base.box)(Base.Int,(Base.add_int)((top(getfield))(GenSym(0),:stop)::Int64,1))::Bool)) goto 1\n",
      "      2: \n",
      "      GenSym(2) = #s482::Int64\n",
      "      GenSym(3) = (Base.box)(Base.Int,(Base.add_int)(#s482::Int64,1))\n",
      "      i = GenSym(2)\n",
      "      #s482 = GenSym(3) # In[125], line 11:\n",
      "      sum = (Base.box)(Base.Float64,(Base.add_float)(sum::Float64,(Base.box)(Base.Float64,(Base.div_float)((Base.box)(Float64,(Base.sitofp)(Float64,i::Int64)),(Base.box)(Float64,(Base.sitofp)(Float64,2))))))\n",
      "      3: \n",
      "      unless (Base.box)(Base.Bool,(Base.not_int)((Base.box)(Base.Bool,(Base.not_int)(#s482::Int64 === (Base.box)(Base.Int,(Base.add_int)((top(getfield))(GenSym(0),:stop)::Int64,1))::Bool)))) goto 2\n",
      "      1: \n",
      "      0:  # In[125], line 13:\n",
      "      return sum::Float64\n",
      "  end::Float64\n"
     ]
    }
   ],
   "source": [
    "@code_warntype sum_stable();"
   ]
  },
  {
   "cell_type": "code",
   "execution_count": 89,
   "metadata": {
    "collapsed": true
   },
   "outputs": [
    {
     "name": "stdout",
     "output_type": "stream",
     "text": [
      "\n",
      "define double @julia_sum_stable_2287() {\n",
      "top:\n",
      "  br label %L\n",
      "\n",
      "L:                                                ; preds = %L, %top\n",
      "  %lsr.iv = phi i64 [ 100, %top ], [ %lsr.iv.next, %L ]\n",
      "  %\"#s29.0\" = phi i64 [ 1, %top ], [ %0, %L ]\n",
      "  %sum.0 = phi double [ 0.000000e+00, %top ], [ %3, %L ]\n",
      "  %0 = add i64 %\"#s29.0\", 1\n",
      "  %1 = sitofp i64 %\"#s29.0\" to double\n",
      "  %2 = fmul double %1, 5.000000e-01\n",
      "  %3 = fadd double %sum.0, %2\n",
      "  %lsr.iv.next = add i64 %lsr.iv, -1\n",
      "  %4 = icmp eq i64 %lsr.iv.next, 0\n",
      "  br i1 %4, label %L3, label %L\n",
      "\n",
      "L3:                                               ; preds = %L\n",
      "  ret double %3\n",
      "}\n"
     ]
    }
   ],
   "source": [
    "@code_llvm sum_stable()"
   ]
  },
  {
   "cell_type": "markdown",
   "metadata": {},
   "source": [
    "## 2. Avoid non-constant global variables."
   ]
  },
  {
   "cell_type": "code",
   "execution_count": 194,
   "metadata": {
    "collapsed": false
   },
   "outputs": [
    {
     "data": {
      "text/plain": [
       "g (generic function with 1 method)"
      ]
     },
     "execution_count": 194,
     "metadata": {},
     "output_type": "execute_result"
    }
   ],
   "source": [
    "# Alright\n",
    "const global C = 100000\n",
    "# VERY Bad\n",
    "global D = 100000\n",
    "\n",
    "f(x) = x + C\n",
    "g(x) = x + D"
   ]
  },
  {
   "cell_type": "code",
   "execution_count": 213,
   "metadata": {
    "collapsed": false
   },
   "outputs": [],
   "source": [
    "@assert f(10)==g(10)"
   ]
  },
  {
   "cell_type": "code",
   "execution_count": 214,
   "metadata": {
    "collapsed": true
   },
   "outputs": [
    {
     "name": "stdout",
     "output_type": "stream",
     "text": [
      "  0.000245 seconds\n",
      "  0.001756 seconds (100.00 k allocations: 1.526 MB)\n"
     ]
    },
    {
     "data": {
      "text/plain": [
       "100010"
      ]
     },
     "execution_count": 214,
     "metadata": {},
     "output_type": "execute_result"
    }
   ],
   "source": [
    "@timeOften f(10)\n",
    "@timeOften g(10)"
   ]
  },
  {
   "cell_type": "markdown",
   "metadata": {},
   "source": [
    "__Q: Why is a `const` so much more efficient?__  \n",
    "A: The compiler cannot infer the type of a dynamic global. A constants type is fixed at declaration and can be inlined."
   ]
  },
  {
   "cell_type": "code",
   "execution_count": 16,
   "metadata": {
    "collapsed": true
   },
   "outputs": [
    {
     "name": "stdout",
     "output_type": "stream",
     "text": [
      "\n",
      "define i64 @julia_f_21855(i64) {\n",
      "top:\n",
      "  %1 = add i64 %0, 100000\n",
      "  ret i64 %1\n",
      "}\n"
     ]
    }
   ],
   "source": [
    "@code_llvm f(10)"
   ]
  },
  {
   "cell_type": "code",
   "execution_count": 11,
   "metadata": {
    "collapsed": true
   },
   "outputs": [
    {
     "name": "stdout",
     "output_type": "stream",
     "text": [
      "\n",
      "define %jl_value_t* @julia_g_21781(i64) {\n",
      "top:\n",
      "  %1 = alloca [4 x %jl_value_t*], align 8\n",
      "  %.sub = getelementptr inbounds [4 x %jl_value_t*]* %1, i64 0, i64 0\n",
      "  %2 = getelementptr [4 x %jl_value_t*]* %1, i64 0, i64 2\n",
      "  store %jl_value_t* inttoptr (i64 4 to %jl_value_t*), %jl_value_t** %.sub, align 8\n",
      "  %3 = load %jl_value_t*** @jl_pgcstack, align 8\n",
      "  %4 = getelementptr [4 x %jl_value_t*]* %1, i64 0, i64 1\n",
      "  %.c = bitcast %jl_value_t** %3 to %jl_value_t*\n",
      "  store %jl_value_t* %.c, %jl_value_t** %4, align 8\n",
      "  store %jl_value_t** %.sub, %jl_value_t*** @jl_pgcstack, align 8\n",
      "  store %jl_value_t* null, %jl_value_t** %2, align 8\n",
      "  %5 = getelementptr [4 x %jl_value_t*]* %1, i64 0, i64 3\n",
      "  store %jl_value_t* null, %jl_value_t** %5, align 8\n",
      "  %6 = call %jl_value_t* @jl_box_int64(i64 signext %0)\n",
      "  store %jl_value_t* %6, %jl_value_t** %2, align 8\n",
      "  %7 = load %jl_value_t** inttoptr (i64 4437588488 to %jl_value_t**), align 8\n",
      "  store %jl_value_t* %7, %jl_value_t** %5, align 8\n",
      "  %8 = call %jl_value_t* @jl_apply_generic(%jl_value_t* inttoptr (i64 4398918096 to %jl_value_t*), %jl_value_t** %2, i32 2)\n",
      "  %9 = load %jl_value_t** %4, align 8\n",
      "  %10 = getelementptr inbounds %jl_value_t* %9, i64 0, i32 0\n",
      "  store %jl_value_t** %10, %jl_value_t*** @jl_pgcstack, align 8\n",
      "  ret %jl_value_t* %8\n",
      "}\n"
     ]
    }
   ],
   "source": [
    "@code_llvm g(10)"
   ]
  },
  {
   "cell_type": "markdown",
   "metadata": {
    "collapsed": true
   },
   "source": [
    "## 3. Respect the order.\n",
    "### Unlike C, Julia has _column major_ order!"
   ]
  },
  {
   "cell_type": "code",
   "execution_count": 162,
   "metadata": {
    "collapsed": false
   },
   "outputs": [
    {
     "data": {
      "text/plain": [
       "add_matrices_two (generic function with 1 method)"
      ]
     },
     "execution_count": 162,
     "metadata": {},
     "output_type": "execute_result"
    }
   ],
   "source": [
    "function add_matrices_one(A::Matrix, B::Matrix)\n",
    "    C = Matrix{eltype(A)}(size(A)...)\n",
    "    for i = 1:size(A,1)\n",
    "        for j = 1:size(A,2)\n",
    "            C[i,j] = A[i,j] + B[i,j]\n",
    "        end\n",
    "    end\n",
    "    return C\n",
    "end\n",
    "function add_matrices_two(A::Matrix, B::Matrix)\n",
    "    C = Matrix{eltype(A)}(size(A)...)\n",
    "    for i = 1:size(A,2)\n",
    "        for j = 1:size(A,1)\n",
    "            C[j,i] = A[j,i] + B[j,i]\n",
    "        end\n",
    "    end\n",
    "    return C\n",
    "end"
   ]
  },
  {
   "cell_type": "code",
   "execution_count": 165,
   "metadata": {
    "collapsed": true
   },
   "outputs": [],
   "source": [
    "A = rand(1000,1000);\n",
    "B = rand(1000,1000);"
   ]
  },
  {
   "cell_type": "code",
   "execution_count": 167,
   "metadata": {
    "collapsed": false
   },
   "outputs": [
    {
     "name": "stdout",
     "output_type": "stream",
     "text": [
      "  0.015669 seconds (6 allocations: 7.630 MB)\n",
      "  0.003556 seconds (6 allocations: 7.630 MB)\n"
     ]
    }
   ],
   "source": [
    "@time add_matrices_one(A,B);\n",
    "@time add_matrices_two(A,B);"
   ]
  },
  {
   "cell_type": "markdown",
   "metadata": {},
   "source": [
    "Note: Don't bother implementing LinAlg operations."
   ]
  },
  {
   "cell_type": "code",
   "execution_count": 231,
   "metadata": {
    "collapsed": false
   },
   "outputs": [
    {
     "name": "stdout",
     "output_type": "stream",
     "text": [
      "  0.002296 seconds (9 allocations: 7.630 MB)\n"
     ]
    }
   ],
   "source": [
    "@time A+B;"
   ]
  },
  {
   "cell_type": "markdown",
   "metadata": {},
   "source": [
    "## 4. Disable safty nets where appropriate."
   ]
  },
  {
   "cell_type": "markdown",
   "metadata": {},
   "source": [
    "By default Julia performs __out-of-bound checks__ on array access. We get an exception without crashing the kernel."
   ]
  },
  {
   "cell_type": "code",
   "execution_count": 185,
   "metadata": {
    "collapsed": true
   },
   "outputs": [
    {
     "ename": "LoadError",
     "evalue": "LoadError: BoundsError: attempt to access 3x3 Array{Float64,2}:\n 0.0407126  0.551313  0.155657\n 0.152054   0.683091  0.911898\n 0.765163   0.77917   0.248355\n  at index [4,1]\nwhile loading In[185], in expression starting on line 1",
     "output_type": "error",
     "traceback": [
      "LoadError: BoundsError: attempt to access 3x3 Array{Float64,2}:\n 0.0407126  0.551313  0.155657\n 0.152054   0.683091  0.911898\n 0.765163   0.77917   0.248355\n  at index [4,1]\nwhile loading In[185], in expression starting on line 1",
      "",
      " in add_matrices_two at In[162]:14"
     ]
    }
   ],
   "source": [
    "add_matrices_two(rand(4,4),rand(3,3))"
   ]
  },
  {
   "cell_type": "markdown",
   "metadata": {},
   "source": [
    "However, this can cost performance and is unneccessary if we guarantee inbounds access $\\rightarrow$ __@inbounds__"
   ]
  },
  {
   "cell_type": "code",
   "execution_count": 202,
   "metadata": {
    "collapsed": false
   },
   "outputs": [
    {
     "data": {
      "text/plain": [
       "add_matrices_three (generic function with 1 method)"
      ]
     },
     "execution_count": 202,
     "metadata": {},
     "output_type": "execute_result"
    }
   ],
   "source": [
    "function add_matrices_three(A::Matrix, B::Matrix)\n",
    "    C = Matrix{eltype(A)}(size(A)...)\n",
    "    if size(A) != size(B)\n",
    "        return nothing\n",
    "    end\n",
    "    @inbounds for i = 1:size(A,2)\n",
    "        for j = 1:size(A,1)\n",
    "           C[j,i] = A[j,i] + B[j,i]\n",
    "        end\n",
    "    end\n",
    "    return C\n",
    "end"
   ]
  },
  {
   "cell_type": "code",
   "execution_count": 227,
   "metadata": {
    "collapsed": false
   },
   "outputs": [
    {
     "name": "stdout",
     "output_type": "stream",
     "text": [
      "  0.002560 seconds (6 allocations: 7.630 MB, 103.71% gc time)\n"
     ]
    }
   ],
   "source": [
    "@time add_matrices_three(A,B);"
   ]
  },
  {
   "cell_type": "markdown",
   "metadata": {},
   "source": [
    "## 5. Pre-allocate output"
   ]
  },
  {
   "cell_type": "markdown",
   "metadata": {},
   "source": [
    "_[Verbatim from http://docs.julialang.org/en/release-0.4/manual/performance-tips/#pre-allocating-outputs]_"
   ]
  },
  {
   "cell_type": "code",
   "execution_count": 207,
   "metadata": {
    "collapsed": false
   },
   "outputs": [
    {
     "data": {
      "text/plain": [
       "loopinc (generic function with 1 method)"
      ]
     },
     "execution_count": 207,
     "metadata": {},
     "output_type": "execute_result"
    }
   ],
   "source": [
    "function xinc(x)\n",
    "    return [x, x+1, x+2]\n",
    "end\n",
    "\n",
    "function loopinc()\n",
    "    y = 0\n",
    "    for i = 1:10^7\n",
    "        ret = xinc(i)\n",
    "        y += ret[2]\n",
    "    end\n",
    "    y\n",
    "end"
   ]
  },
  {
   "cell_type": "markdown",
   "metadata": {},
   "source": [
    "Every call to `xinc` allocates __a new array__.   \n",
    "$\\rightarrow$ Better allocate the array beforehand and __update it__."
   ]
  },
  {
   "cell_type": "code",
   "execution_count": 208,
   "metadata": {
    "collapsed": false
   },
   "outputs": [
    {
     "data": {
      "text/plain": [
       "loopinc_prealloc (generic function with 1 method)"
      ]
     },
     "execution_count": 208,
     "metadata": {},
     "output_type": "execute_result"
    }
   ],
   "source": [
    "function xinc!{T}(ret::AbstractVector{T}, x::T)\n",
    "    ret[1] = x\n",
    "    ret[2] = x+1\n",
    "    ret[3] = x+2\n",
    "    nothing\n",
    "end\n",
    "\n",
    "function loopinc_prealloc()\n",
    "    ret = Array(Int, 3)\n",
    "    y = 0\n",
    "    for i = 1:10^7\n",
    "        xinc!(ret, i)\n",
    "        y += ret[2]\n",
    "    end\n",
    "    y\n",
    "end"
   ]
  },
  {
   "cell_type": "code",
   "execution_count": 212,
   "metadata": {
    "collapsed": true
   },
   "outputs": [
    {
     "name": "stdout",
     "output_type": "stream",
     "text": [
      "  0.593367 seconds (40.00 M allocations: 1.341 GB, 17.44% gc time)\n",
      "  0.025406 seconds (6 allocations: 272 bytes)\n"
     ]
    }
   ],
   "source": [
    "@time loopinc();\n",
    "@time loopinc_prealloc();"
   ]
  }
 ],
 "metadata": {
  "kernelspec": {
   "display_name": "Julia 0.4.5",
   "language": "julia",
   "name": "julia-0.4"
  },
  "language_info": {
   "file_extension": ".jl",
   "mimetype": "application/julia",
   "name": "julia",
   "version": "0.4.5"
  }
 },
 "nbformat": 4,
 "nbformat_minor": 0
}
