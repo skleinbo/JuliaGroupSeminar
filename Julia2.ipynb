{
 "cells": [
  {
   "cell_type": "markdown",
   "metadata": {},
   "source": []
  },
  {
   "cell_type": "code",
   "execution_count": 2,
   "metadata": {
    "collapsed": true
   },
   "outputs": [],
   "source": [
    "macro timeOften(ex::Expr)\n",
    "    :(@time begin\n",
    "     for i = 1:100000\n",
    "      $ex\n",
    "     end\n",
    "    end)\n",
    "end"
   ]
  },
  {
   "cell_type": "markdown",
   "metadata": {},
   "source": [
    "## Type stability\n",
    "### Don't make the compiler guess return types.  "
   ]
  },
  {
   "cell_type": "code",
   "execution_count": 109,
   "metadata": {
    "collapsed": false
   },
   "outputs": [
    {
     "data": {
      "text/plain": [
       "T (generic function with 2 methods)"
      ]
     },
     "execution_count": 109,
     "metadata": {},
     "output_type": "execute_result"
    }
   ],
   "source": [
    "function T(x::Real)\n",
    "    if typeof(x) <: Integer\n",
    "        return x^2 + 0.1\n",
    "    else\n",
    "        return Int(ceil(x))\n",
    "    end\n",
    "end"
   ]
  },
  {
   "cell_type": "code",
   "execution_count": 126,
   "metadata": {
    "collapsed": false
   },
   "outputs": [
    {
     "data": {
      "text/plain": [
       "T (generic function with 3 methods)"
      ]
     },
     "execution_count": 126,
     "metadata": {},
     "output_type": "execute_result"
    }
   ],
   "source": [
    "T(x::Integer) = x^2 + 0.1"
   ]
  },
  {
   "cell_type": "code",
   "execution_count": 125,
   "metadata": {
    "collapsed": false
   },
   "outputs": [
    {
     "data": {
      "text/html": [
       "2 methods for generic function <b>T</b>:<ul><li> T(x::<b>Real</b>) at In[109]:2<li> T(x) at In[18]:2</ul>"
      ],
      "text/plain": [
       "# 2 methods for generic function \"T\":\n",
       "T(x::Real) at In[109]:2\n",
       "T(x) at In[18]:2"
      ]
     },
     "execution_count": 125,
     "metadata": {},
     "output_type": "execute_result"
    }
   ],
   "source": [
    "methods(T)"
   ]
  },
  {
   "cell_type": "code",
   "execution_count": 110,
   "metadata": {
    "collapsed": false
   },
   "outputs": [
    {
     "data": {
      "text/plain": [
       "2-element Array{Union{Type{Float64},Type{Int64}},1}:\n",
       " Float64\n",
       " Int64  "
      ]
     },
     "execution_count": 110,
     "metadata": {},
     "output_type": "execute_result"
    }
   ],
   "source": [
    "[ typeof(T(x)) for x in (1, 1.0) ]"
   ]
  },
  {
   "cell_type": "code",
   "execution_count": 118,
   "metadata": {
    "collapsed": false
   },
   "outputs": [
    {
     "name": "stdout",
     "output_type": "stream",
     "text": [
      "  0.000635 seconds\n",
      "  0.000658 seconds (100.00 k allocations: 1.526 MB)\n"
     ]
    }
   ],
   "source": [
    "@timeOften T(1.0)\n",
    "@timeOften T(1)"
   ]
  },
  {
   "cell_type": "code",
   "execution_count": 149,
   "metadata": {
    "collapsed": false
   },
   "outputs": [
    {
     "ename": "LoadError",
     "evalue": "LoadError: expression is not a function call, or is too complex for @code_llvm to analyze; break it down to simpler parts if possible\nwhile loading In[149], in expression starting on line 1",
     "output_type": "error",
     "traceback": [
      "LoadError: expression is not a function call, or is too complex for @code_llvm to analyze; break it down to simpler parts if possible\nwhile loading In[149], in expression starting on line 1",
      "",
      " in error at /Applications/Julia.app/Contents/Resources/julia/lib/julia/sys.dylib"
     ]
    }
   ],
   "source": [
    "@code_llvm for i in 1:10000\n",
    "         T(i)\n",
    "        end\n",
    "    "
   ]
  },
  {
   "cell_type": "code",
   "execution_count": 158,
   "metadata": {
    "collapsed": false
   },
   "outputs": [
    {
     "name": "stdout",
     "output_type": "stream",
     "text": [
      "  0.000002 seconds (5 allocations: 176 bytes)\n"
     ]
    },
    {
     "data": {
      "text/plain": [
       "1.1"
      ]
     },
     "execution_count": 158,
     "metadata": {},
     "output_type": "execute_result"
    }
   ],
   "source": [
    "@time x=T(1)"
   ]
  },
  {
   "cell_type": "code",
   "execution_count": 138,
   "metadata": {
    "collapsed": false
   },
   "outputs": [
    {
     "name": "stdout",
     "output_type": "stream",
     "text": [
      "\n",
      "define double @julia_T_22226(i64) {\n",
      "top:\n",
      "  %1 = mul i64 %0, %0\n",
      "  %2 = sitofp i64 %1 to double\n",
      "  %3 = fadd double %2, 1.000000e-01\n",
      "  ret double %3\n",
      "}\n"
     ]
    }
   ],
   "source": [
    "@code_llvm T(1)"
   ]
  },
  {
   "cell_type": "code",
   "execution_count": 116,
   "metadata": {
    "collapsed": false
   },
   "outputs": [
    {
     "name": "stdout",
     "output_type": "stream",
     "text": [
      "Variables:\n",
      "  x::Int64\n",
      "\n",
      "Body:\n",
      "  begin  # In[109], line 2:\n",
      "      unless (Main.typeof)(x::Int64)::Type{Int64} <: Main.Integer::Bool goto 0 # In[109], line 3:\n",
      "      return (Base.box)(Base.Float64,(Base.add_float)((Base.box)(Float64,(Base.sitofp)(Float64,(Base.box)(Int64,(Base.mul_int)(x::Int64,x::Int64)))),0.1))\n",
      "      goto 1\n",
      "      0:  # In[109], line 5:\n",
      "      return x::Int64\n",
      "      1: \n",
      "  end::UNION{FLOAT64,INT64}\n"
     ]
    }
   ],
   "source": [
    "@code_warntype T(1)"
   ]
  },
  {
   "cell_type": "markdown",
   "metadata": {},
   "source": [
    "## Avoid non-constant global variables."
   ]
  },
  {
   "cell_type": "code",
   "execution_count": 12,
   "metadata": {
    "collapsed": false
   },
   "outputs": [
    {
     "data": {
      "text/plain": [
       "g (generic function with 1 method)"
      ]
     },
     "execution_count": 12,
     "metadata": {},
     "output_type": "execute_result"
    }
   ],
   "source": [
    "# Alright\n",
    "const global C = 100000\n",
    "# VERY Bad\n",
    "global D = 100000\n",
    "\n",
    "f(x) = x + C\n",
    "g(x) = x + D"
   ]
  },
  {
   "cell_type": "code",
   "execution_count": 6,
   "metadata": {
    "collapsed": false
   },
   "outputs": [],
   "source": [
    "@assert f(10)==g(10)"
   ]
  },
  {
   "cell_type": "code",
   "execution_count": 9,
   "metadata": {
    "collapsed": false
   },
   "outputs": [
    {
     "name": "stdout",
     "output_type": "stream",
     "text": [
      "  0.000000 seconds\n",
      "  0.002352 seconds (100.00 k allocations: 1.526 MB)\n"
     ]
    }
   ],
   "source": [
    "@timeOften f(10)\n",
    "@timeOften g(10)"
   ]
  },
  {
   "cell_type": "markdown",
   "metadata": {},
   "source": [
    "Q: Why is a constant so much more efficient?  \n",
    "A: The compiler cannot infer the type of a dynamic global. A constants type is fixed at declaration."
   ]
  },
  {
   "cell_type": "code",
   "execution_count": 16,
   "metadata": {
    "collapsed": false,
    "scrolled": false
   },
   "outputs": [
    {
     "name": "stdout",
     "output_type": "stream",
     "text": [
      "\n",
      "define i64 @julia_f_21855(i64) {\n",
      "top:\n",
      "  %1 = add i64 %0, 100000\n",
      "  ret i64 %1\n",
      "}\n"
     ]
    }
   ],
   "source": [
    "@code_llvm f(10)"
   ]
  },
  {
   "cell_type": "code",
   "execution_count": 11,
   "metadata": {
    "collapsed": false
   },
   "outputs": [
    {
     "name": "stdout",
     "output_type": "stream",
     "text": [
      "\n",
      "define %jl_value_t* @julia_g_21781(i64) {\n",
      "top:\n",
      "  %1 = alloca [4 x %jl_value_t*], align 8\n",
      "  %.sub = getelementptr inbounds [4 x %jl_value_t*]* %1, i64 0, i64 0\n",
      "  %2 = getelementptr [4 x %jl_value_t*]* %1, i64 0, i64 2\n",
      "  store %jl_value_t* inttoptr (i64 4 to %jl_value_t*), %jl_value_t** %.sub, align 8\n",
      "  %3 = load %jl_value_t*** @jl_pgcstack, align 8\n",
      "  %4 = getelementptr [4 x %jl_value_t*]* %1, i64 0, i64 1\n",
      "  %.c = bitcast %jl_value_t** %3 to %jl_value_t*\n",
      "  store %jl_value_t* %.c, %jl_value_t** %4, align 8\n",
      "  store %jl_value_t** %.sub, %jl_value_t*** @jl_pgcstack, align 8\n",
      "  store %jl_value_t* null, %jl_value_t** %2, align 8\n",
      "  %5 = getelementptr [4 x %jl_value_t*]* %1, i64 0, i64 3\n",
      "  store %jl_value_t* null, %jl_value_t** %5, align 8\n",
      "  %6 = call %jl_value_t* @jl_box_int64(i64 signext %0)\n",
      "  store %jl_value_t* %6, %jl_value_t** %2, align 8\n",
      "  %7 = load %jl_value_t** inttoptr (i64 4437588488 to %jl_value_t**), align 8\n",
      "  store %jl_value_t* %7, %jl_value_t** %5, align 8\n",
      "  %8 = call %jl_value_t* @jl_apply_generic(%jl_value_t* inttoptr (i64 4398918096 to %jl_value_t*), %jl_value_t** %2, i32 2)\n",
      "  %9 = load %jl_value_t** %4, align 8\n",
      "  %10 = getelementptr inbounds %jl_value_t* %9, i64 0, i32 0\n",
      "  store %jl_value_t** %10, %jl_value_t*** @jl_pgcstack, align 8\n",
      "  ret %jl_value_t* %8\n",
      "}\n"
     ]
    }
   ],
   "source": [
    "@code_llvm g(10)"
   ]
  },
  {
   "cell_type": "code",
   "execution_count": null,
   "metadata": {
    "collapsed": true
   },
   "outputs": [],
   "source": []
  }
 ],
 "metadata": {
  "celltoolbar": "Edit Metadata",
  "kernelspec": {
   "display_name": "Julia 0.4.5",
   "language": "julia",
   "name": "julia-0.4"
  },
  "language_info": {
   "file_extension": ".jl",
   "mimetype": "application/julia",
   "name": "julia",
   "version": "0.4.5"
  }
 },
 "nbformat": 4,
 "nbformat_minor": 0
}
