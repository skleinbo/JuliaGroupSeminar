{
 "cells": [
  {
   "cell_type": "code",
   "execution_count": 9,
   "metadata": {
    "collapsed": false
   },
   "outputs": [
    {
     "data": {
      "text/plain": [
       "Plots.PlotlyBackend()"
      ]
     },
     "execution_count": 9,
     "metadata": {},
     "output_type": "execute_result"
    }
   ],
   "source": [
    "using Plots;\n",
    "plotly()"
   ]
  },
  {
   "cell_type": "markdown",
   "metadata": {},
   "source": [
    "# Group Seminar on Julia Pt. II  \n",
    "# Parallel Techniques"
   ]
  },
  {
   "cell_type": "markdown",
   "metadata": {},
   "source": [
    "- Julia's parallel architecture, like MPI, uses message passing between worker processes.\n",
    "- Distributed Memory architecture $\\rightarrow$ Each worker has its own memory.\n",
    "- It is however more transparent and high level."
   ]
  },
  {
   "cell_type": "markdown",
   "metadata": {},
   "source": [
    "## 1. Add worker processes."
   ]
  },
  {
   "cell_type": "code",
   "execution_count": null,
   "metadata": {
    "collapsed": false
   },
   "outputs": [],
   "source": [
    "workers()"
   ]
  },
  {
   "cell_type": "code",
   "execution_count": null,
   "metadata": {
    "collapsed": false
   },
   "outputs": [],
   "source": [
    "rmprocs(2:5)"
   ]
  },
  {
   "cell_type": "code",
   "execution_count": 2,
   "metadata": {
    "collapsed": false
   },
   "outputs": [
    {
     "data": {
      "text/plain": [
       "4-element Array{Int64,1}:\n",
       " 2\n",
       " 3\n",
       " 4\n",
       " 5"
      ]
     },
     "execution_count": 2,
     "metadata": {},
     "output_type": "execute_result"
    }
   ],
   "source": [
    "addprocs();workers()"
   ]
  },
  {
   "cell_type": "code",
   "execution_count": null,
   "metadata": {
    "collapsed": false
   },
   "outputs": [],
   "source": [
    "[nworkers(),\n",
    "    nprocs()]"
   ]
  },
  {
   "cell_type": "markdown",
   "metadata": {},
   "source": [
    "   ## 2. Running functions on other processes."
   ]
  },
  {
   "cell_type": "code",
   "execution_count": null,
   "metadata": {
    "collapsed": false
   },
   "outputs": [],
   "source": [
    "r = remotecall(2, +, 1,1)"
   ]
  },
  {
   "cell_type": "code",
   "execution_count": null,
   "metadata": {
    "collapsed": false
   },
   "outputs": [],
   "source": [
    "fetch(r)"
   ]
  },
  {
   "cell_type": "code",
   "execution_count": null,
   "metadata": {
    "collapsed": false
   },
   "outputs": [],
   "source": [
    "remotecall_fetch(2, +, 1,1)"
   ]
  },
  {
   "cell_type": "markdown",
   "metadata": {},
   "source": [
    "### `remotecall` and `fetch` are rather \"low level\" and cumbersome.\n",
    "### Julia offers convenient macros `@spawn`, `@spawnat`, `@fetch`"
   ]
  },
  {
   "cell_type": "code",
   "execution_count": null,
   "metadata": {
    "collapsed": false
   },
   "outputs": [],
   "source": [
    "@spawn svd(rand(10,10))"
   ]
  },
  {
   "cell_type": "code",
   "execution_count": null,
   "metadata": {
    "collapsed": false
   },
   "outputs": [],
   "source": [
    "fetch(ans)"
   ]
  },
  {
   "cell_type": "code",
   "execution_count": null,
   "metadata": {
    "collapsed": false
   },
   "outputs": [],
   "source": [
    "@fetch svd(rand(10,10))"
   ]
  },
  {
   "cell_type": "markdown",
   "metadata": {},
   "source": [
    "### Transforming datasets in parallel with `pmap`."
   ]
  },
  {
   "cell_type": "code",
   "execution_count": null,
   "metadata": {
    "collapsed": false
   },
   "outputs": [],
   "source": [
    "matrices = [ rand(5,5) for i in 1:4 ];\n",
    "pmap(svd, matrices);"
   ]
  },
  {
   "cell_type": "code",
   "execution_count": null,
   "metadata": {
    "collapsed": true
   },
   "outputs": [],
   "source": [
    "matrices"
   ]
  },
  {
   "cell_type": "code",
   "execution_count": 3,
   "metadata": {
    "collapsed": false
   },
   "outputs": [
    {
     "data": {
      "text/plain": [
       "tictoq (generic function with 1 method)"
      ]
     },
     "execution_count": 3,
     "metadata": {},
     "output_type": "execute_result"
    }
   ],
   "source": [
    "function tictoq(ex::Expr)\n",
    "    tic()\n",
    "    eval(ex)\n",
    "    return toq()\n",
    "end"
   ]
  },
  {
   "cell_type": "code",
   "execution_count": 7,
   "metadata": {
    "collapsed": false
   },
   "outputs": [
    {
     "name": "stdout",
     "output_type": "stream",
     "text": [
      "  5.671089 seconds (174.68 k allocations: 237.596 MB, 1.39% gc time)\n"
     ]
    }
   ],
   "source": [
    "blas_set_num_threads(4)\n",
    "maxSize = 100;\n",
    "@time times = hcat([ [size(m[1],1), tictoq(:(pmap(svd, $m))), tictoq( :(map(svd,$m)))]\n",
    "    for m in [ [rand(k,k) for i in 1:8] for k in 5:maxSize ]]...)';"
   ]
  },
  {
   "cell_type": "code",
   "execution_count": 8,
   "metadata": {
    "collapsed": false
   },
   "outputs": [
    {
     "data": {
      "text/html": [
       "<script src=\"/Network/Servers/mac25.thp.uni-koeln.de/Volumes/RAID/skleinbo/.julia/v0.4/Plots/deps/plotly-latest.min.js\"></script>    <div id=\"c26b5ec6-0384-4023-b94f-3073dafe321d\" style=\"width:600px;height:400px;\"></div>\n",
       "    <script>\n",
       "    PLOT = document.getElementById('c26b5ec6-0384-4023-b94f-3073dafe321d');\n",
       "    Plotly.plot(PLOT, [{\"yaxis\":\"y\",\"y\":[0.001250119,0.000850084,0.000768023,0.00073212,0.000884965,0.001155534,0.001120169,0.001076613,0.000896639,0.0012397,0.00147433,0.001941401,0.002290568,0.002700221,0.002324492,0.002474133,0.002757375,0.003178796,0.003080718,0.00339567,0.003686272,0.007303738,0.005255901,0.004983776,0.004917577,0.006005663,0.006151907,0.006106333,0.006603248,0.00784687,0.007451073,0.007933016,0.004693504,0.00562818,0.006528881,0.005998902,0.006403116,0.006920036,0.007573275,0.007888153,0.008231683,0.008526145,0.008851436,0.012771938,0.009537543,0.009893199,0.010771655,0.01041637,0.010773997,0.011668355,0.012413222,0.01221308,0.013204048,0.013201523,0.014151461,0.013975628,0.014322442,0.015036677,0.015585553,0.016869199,0.017035129,0.017374196,0.017635327,0.017936668,0.018396168,0.019049756,0.020657636,0.020363493,0.020485162,0.021606287,0.022533624,0.022518844,0.024119645,0.023510435,0.023935,0.024698666,0.025274348,0.026542902,0.026719763,0.027169637,0.027956178,0.029590767,0.029134063,0.029321264,0.030817876,0.048351587,0.031462815,0.032198047,0.032996889,0.03333227,0.034205551,0.035254741,0.03597034,0.04012598,0.03713818,0.037625635],\"showlegend\":true,\"name\":\"pmap\",\"type\":\"scatter\",\"xaxis\":\"x\",\"x\":[5.0,6.0,7.0,8.0,9.0,10.0,11.0,12.0,13.0,14.0,15.0,16.0,17.0,18.0,19.0,20.0,21.0,22.0,23.0,24.0,25.0,26.0,27.0,28.0,29.0,30.0,31.0,32.0,33.0,34.0,35.0,36.0,37.0,38.0,39.0,40.0,41.0,42.0,43.0,44.0,45.0,46.0,47.0,48.0,49.0,50.0,51.0,52.0,53.0,54.0,55.0,56.0,57.0,58.0,59.0,60.0,61.0,62.0,63.0,64.0,65.0,66.0,67.0,68.0,69.0,70.0,71.0,72.0,73.0,74.0,75.0,76.0,77.0,78.0,79.0,80.0,81.0,82.0,83.0,84.0,85.0,86.0,87.0,88.0,89.0,90.0,91.0,92.0,93.0,94.0,95.0,96.0,97.0,98.0,99.0,100.0],\"mode\":\"markers\",\"marker\":{\"symbol\":\"circle\",\"opacity\":null,\"line\":{\"width\":1,\"color\":\"rgb(0, 0, 0)\"},\"size\":12,\"color\":\"rgba(0, 154, 250, 1.000)\"}},{\"yaxis\":\"y\",\"y\":[0.000230958,0.000231392,0.000273944,0.000335184,0.000383237,0.000469465,0.000509309,0.000617613,0.000645394,0.00074711,0.000867789,0.002648894,0.00345455,0.004283572,0.005322954,0.006114415,0.007247016,0.008084321,0.009189413,0.010357162,0.011561128,0.012602024,0.013864227,0.015200927,0.016627771,0.018124255,0.019559372,0.02124639,0.022895682,0.024416929,0.026092724,0.028141906,0.035614007,0.01625418,0.017286904,0.018246747,0.019906438,0.020524209,0.021757491,0.022725124,0.024389671,0.025710487,0.026782676,0.027579225,0.028800361,0.030429677,0.031286972,0.031965582,0.033242416,0.035215719,0.038175978,0.037674113,0.038669515,0.040731294,0.05447782,0.043149142,0.044782161,0.04626181,0.048113035,0.049765617,0.051364749,0.053565337,0.097005035,0.055955767,0.05764287,0.061042351,0.061055191,0.062989464,0.064878739,0.068594889,0.068678927,0.070898112,0.072929134,0.075124189,0.076992388,0.081054697,0.081493479,0.082686116,0.085166342,0.086764562,0.091118243,0.091629746,0.093020928,0.095345999,0.101911705,0.102146932,0.101985568,0.103192161,0.105860017,0.10739017,0.106472942,0.107910445,0.110290693,0.111361397,0.110730754,0.111559216],\"showlegend\":true,\"name\":\"map\",\"type\":\"scatter\",\"xaxis\":\"x\",\"x\":[5.0,6.0,7.0,8.0,9.0,10.0,11.0,12.0,13.0,14.0,15.0,16.0,17.0,18.0,19.0,20.0,21.0,22.0,23.0,24.0,25.0,26.0,27.0,28.0,29.0,30.0,31.0,32.0,33.0,34.0,35.0,36.0,37.0,38.0,39.0,40.0,41.0,42.0,43.0,44.0,45.0,46.0,47.0,48.0,49.0,50.0,51.0,52.0,53.0,54.0,55.0,56.0,57.0,58.0,59.0,60.0,61.0,62.0,63.0,64.0,65.0,66.0,67.0,68.0,69.0,70.0,71.0,72.0,73.0,74.0,75.0,76.0,77.0,78.0,79.0,80.0,81.0,82.0,83.0,84.0,85.0,86.0,87.0,88.0,89.0,90.0,91.0,92.0,93.0,94.0,95.0,96.0,97.0,98.0,99.0,100.0],\"mode\":\"markers\",\"marker\":{\"symbol\":\"circle\",\"opacity\":null,\"line\":{\"width\":1,\"color\":\"rgb(0, 0, 0)\"},\"size\":12,\"color\":\"rgba(227, 111, 71, 1.000)\"}}], {\"yaxis\":{\"linecolor\":\"rgb(0, 0, 0)\",\"type\":\"-\",\"domain\":[0.0688976377952756,0.9606299212598425],\"titlefont\":{\"size\":15,\"color\":\"rgb(0, 0, 0)\",\"family\":\"Helvetica\"},\"tickcolor\":\"rgb(0, 0, 0)\",\"title\":\"\",\"showgrid\":true,\"zeroline\":false,\"anchor\":\"x\",\"tickfont\":{\"size\":11,\"color\":\"rgb(0, 0, 0)\",\"family\":\"Helvetica\"}},\"annotations\":[],\"width\":600,\"plot_bgcolor\":\"rgb(255, 255, 255)\",\"showlegend\":true,\"legend\":{\"bgcolor\":\"rgb(255, 255, 255)\",\"font\":{\"size\":11,\"color\":\"rgb(0, 0, 0)\",\"family\":\"Helvetica\"},\"bordercolor\":\"rgb(0, 0, 0)\"},\"xaxis\":{\"linecolor\":\"rgb(0, 0, 0)\",\"type\":\"-\",\"domain\":[0.07874015748031496,0.9671916010498688],\"titlefont\":{\"size\":15,\"color\":\"rgb(0, 0, 0)\",\"family\":\"Helvetica\"},\"tickcolor\":\"rgb(0, 0, 0)\",\"title\":\"\",\"showgrid\":true,\"zeroline\":false,\"anchor\":\"y\",\"tickfont\":{\"size\":11,\"color\":\"rgb(0, 0, 0)\",\"family\":\"Helvetica\"}},\"paper_bgcolor\":\"rgb(255, 255, 255)\",\"height\":400,\"margin\":{\"r\":0,\"l\":0,\"b\":0,\"t\":20}});\n",
       "    </script>\n"
      ]
     },
     "execution_count": 8,
     "metadata": {},
     "output_type": "execute_result"
    }
   ],
   "source": [
    "scatter(times[:,1],times[:,2:end],label=[:pmap :map],legend=:topleft)"
   ]
  },
  {
   "cell_type": "code",
   "execution_count": null,
   "metadata": {
    "collapsed": false
   },
   "outputs": [],
   "source": [
    "for i = 1:nworkers()\n",
    "    local matrices = [ rand(500,500) for j in 1:8 ];\n",
    "    @time pmap(svd, matrices, pids=workers()[1:i]);\n",
    "end"
   ]
  },
  {
   "cell_type": "markdown",
   "metadata": {},
   "source": [
    "__Caveat:__ `pmap` only suitable for distributing large chunks of work."
   ]
  },
  {
   "cell_type": "code",
   "execution_count": null,
   "metadata": {
    "collapsed": false
   },
   "outputs": [],
   "source": [
    "@time pmap(x->x+1, collect(1:Int(1e5)));"
   ]
  },
  {
   "cell_type": "code",
   "execution_count": null,
   "metadata": {
    "collapsed": false
   },
   "outputs": [],
   "source": [
    "@time collect(1:Int(1e5)) + 1 ;"
   ]
  },
  {
   "cell_type": "markdown",
   "metadata": {},
   "source": [
    "### `@parallel` to the rescue!"
   ]
  },
  {
   "cell_type": "markdown",
   "metadata": {},
   "source": [
    "__Scenario:__ Parallel calculations that are reduced (Matrix$\\rightarrow$Vector, Vector$\\rightarrow$Number)"
   ]
  },
  {
   "cell_type": "markdown",
   "metadata": {},
   "source": [
    "Example 1: Estimate $\\pi$"
   ]
  },
  {
   "cell_type": "code",
   "execution_count": null,
   "metadata": {
    "collapsed": false
   },
   "outputs": [],
   "source": [
    "piEst = @parallel (+) for i = 1:Int(1e9)\n",
    "    ifelse( abs2(rand()) + abs2(rand()) <= 1, 1, 0)\n",
    "end\n",
    "piEst /= (1e9 / 4)"
   ]
  },
  {
   "cell_type": "markdown",
   "metadata": {},
   "source": [
    "Example 2: 1d Random Walk"
   ]
  },
  {
   "cell_type": "code",
   "execution_count": 11,
   "metadata": {
    "collapsed": false
   },
   "outputs": [
    {
     "name": "stdout",
     "output_type": "stream",
     "text": [
      "  0.141425 seconds (8.48 k allocations: 488.591 KB)\n"
     ]
    },
    {
     "data": {
      "text/plain": [
       "-3097.2397244210415"
      ]
     },
     "execution_count": 11,
     "metadata": {},
     "output_type": "execute_result"
    }
   ],
   "source": [
    "@time randWalk = @parallel (+) for i = 1:Int(1e8)\n",
    "    randn()\n",
    "end"
   ]
  },
  {
   "cell_type": "code",
   "execution_count": 13,
   "metadata": {
    "collapsed": false
   },
   "outputs": [
    {
     "name": "stdout",
     "output_type": "stream",
     "text": [
      "  0.826767 seconds (8 allocations: 762.940 MB, 6.15% gc time)\n"
     ]
    },
    {
     "data": {
      "text/plain": [
       "-12919.228125279884"
      ]
     },
     "execution_count": 13,
     "metadata": {},
     "output_type": "execute_result"
    }
   ],
   "source": [
    "@time reduce(+, randn(Int(1e8)))"
   ]
  },
  {
   "cell_type": "code",
   "execution_count": null,
   "metadata": {
    "collapsed": false
   },
   "outputs": [],
   "source": [
    "s = 0.0\n",
    "@time for i = 1:Int(1e8)\n",
    "    s += randn()\n",
    "end\n",
    "s"
   ]
  },
  {
   "cell_type": "code",
   "execution_count": 15,
   "metadata": {
    "collapsed": false
   },
   "outputs": [
    {
     "name": "stdout",
     "output_type": "stream",
     "text": [
      "  0.475726 seconds (2.62 k allocations: 129.758 KB)\n"
     ]
    },
    {
     "data": {
      "text/plain": [
       "-5756.965121685245"
      ]
     },
     "execution_count": 15,
     "metadata": {},
     "output_type": "execute_result"
    }
   ],
   "source": [
    "function randomWalk_serial(L::Int)\n",
    "    s = 0.0\n",
    "    for i = 1:L\n",
    "        s += randn()\n",
    "    end\n",
    "    s\n",
    "end\n",
    "@time randomWalk_serial(Int(1e8))"
   ]
  },
  {
   "cell_type": "markdown",
   "metadata": {},
   "source": [
    "----"
   ]
  },
  {
   "cell_type": "markdown",
   "metadata": {},
   "source": [
    "__What if we need the results of every run?__  \n",
    "Naively one could concatenate the results ($=$reduce with `vcat`)."
   ]
  },
  {
   "cell_type": "code",
   "execution_count": 16,
   "metadata": {
    "collapsed": false
   },
   "outputs": [],
   "source": [
    "L = Int(1e5);"
   ]
  },
  {
   "cell_type": "code",
   "execution_count": 18,
   "metadata": {
    "collapsed": false
   },
   "outputs": [
    {
     "name": "stdout",
     "output_type": "stream",
     "text": [
      "  0.000773 seconds (6 allocations: 781.469 KB)\n"
     ]
    }
   ],
   "source": [
    "@time randn(L);"
   ]
  },
  {
   "cell_type": "code",
   "execution_count": 20,
   "metadata": {
    "collapsed": false
   },
   "outputs": [
    {
     "name": "stdout",
     "output_type": "stream",
     "text": [
      "  1.353674 seconds (4.85 k allocations: 2.828 MB)\n"
     ]
    }
   ],
   "source": [
    "@time n = @parallel (vcat) for i in 1:L\n",
    "    randn()\n",
    "end;"
   ]
  },
  {
   "cell_type": "markdown",
   "metadata": {},
   "source": [
    "__Abysmal runtime! __ Note the allocations.  \n",
    "`vcat` allocates new memory __each__ iteration $\\rightarrow$ dynamical resizing of arrays is not a good idea in performance critical code."
   ]
  },
  {
   "cell_type": "markdown",
   "metadata": {},
   "source": [
    "Alright, allocate the memory beforehand..."
   ]
  },
  {
   "cell_type": "code",
   "execution_count": 22,
   "metadata": {
    "collapsed": false
   },
   "outputs": [
    {
     "name": "stdout",
     "output_type": "stream",
     "text": [
      "  0.011072 seconds (4.68 k allocations: 341.630 KB)\n"
     ]
    },
    {
     "data": {
      "text/plain": [
       "4-element Array{Any,1}:\n",
       " RemoteRef{Channel{Any}}(2,1,2329)\n",
       " RemoteRef{Channel{Any}}(3,1,2330)\n",
       " RemoteRef{Channel{Any}}(4,1,2331)\n",
       " RemoteRef{Channel{Any}}(5,1,2332)"
      ]
     },
     "execution_count": 22,
     "metadata": {},
     "output_type": "execute_result"
    }
   ],
   "source": [
    "a = zeros(Int64, L)\n",
    "@time begin \n",
    "    local l::Int = L\n",
    "    @parallel for i in 1:l\n",
    "        a[i] = randn()\n",
    "    end\n",
    "end"
   ]
  },
  {
   "cell_type": "markdown",
   "metadata": {},
   "source": [
    "Ok, that was fast, but did it do what we wanted?"
   ]
  },
  {
   "cell_type": "code",
   "execution_count": 23,
   "metadata": {
    "collapsed": false
   },
   "outputs": [
    {
     "name": "stdout",
     "output_type": "stream",
     "text": [
      "0\n"
     ]
    }
   ],
   "source": [
    "println(maximum(a))"
   ]
  },
  {
   "cell_type": "markdown",
   "metadata": {},
   "source": [
    "__No__, because `a[]` inside the parallel for-loop is a __local variable__ to each process."
   ]
  },
  {
   "cell_type": "markdown",
   "metadata": {},
   "source": [
    "__Needed:__ Data structure that is shared between processes."
   ]
  },
  {
   "cell_type": "markdown",
   "metadata": {},
   "source": [
    "### Shared Arrays"
   ]
  },
  {
   "cell_type": "code",
   "execution_count": 24,
   "metadata": {
    "collapsed": false
   },
   "outputs": [],
   "source": [
    "L = 10^8;"
   ]
  },
  {
   "cell_type": "markdown",
   "metadata": {},
   "source": [
    "__Initialize the shared array.__"
   ]
  },
  {
   "cell_type": "markdown",
   "metadata": {},
   "source": [
    "`init` is a function that runs on each worker that holds a chunk of the array to fill it at construction."
   ]
  },
  {
   "cell_type": "code",
   "execution_count": 25,
   "metadata": {
    "collapsed": false
   },
   "outputs": [],
   "source": [
    "ShA = SharedArray(Float64, L, init= S->S[ localindexes(S) ] = 0);"
   ]
  },
  {
   "cell_type": "markdown",
   "metadata": {},
   "source": [
    "__Check which workers it is distributed amongst.__"
   ]
  },
  {
   "cell_type": "code",
   "execution_count": 26,
   "metadata": {
    "collapsed": false
   },
   "outputs": [
    {
     "data": {
      "text/plain": [
       "4-element Array{Int64,1}:\n",
       " 2\n",
       " 3\n",
       " 4\n",
       " 5"
      ]
     },
     "execution_count": 26,
     "metadata": {},
     "output_type": "execute_result"
    }
   ],
   "source": [
    "ShA.pids"
   ]
  },
  {
   "cell_type": "code",
   "execution_count": 27,
   "metadata": {
    "collapsed": false
   },
   "outputs": [
    {
     "data": {
      "text/plain": [
       "4-element Array{Any,1}:\n",
       " 1:25000000        \n",
       " 25000001:50000000 \n",
       " 50000001:75000000 \n",
       " 75000001:100000000"
      ]
     },
     "execution_count": 27,
     "metadata": {},
     "output_type": "execute_result"
    }
   ],
   "source": [
    "[@fetchfrom w localindexes(ShA) for w in workers()]"
   ]
  },
  {
   "cell_type": "markdown",
   "metadata": {},
   "source": [
    "Try filling it with values..."
   ]
  },
  {
   "cell_type": "code",
   "execution_count": 29,
   "metadata": {
    "collapsed": false
   },
   "outputs": [
    {
     "name": "stdout",
     "output_type": "stream",
     "text": [
      "  3.886640 seconds (6.64 k allocations: 479.347 KB)\n"
     ]
    }
   ],
   "source": [
    "@time @sync @parallel for i in 1:length(ShA)\n",
    "    ShA[i] = randn()\n",
    "end;"
   ]
  },
  {
   "cell_type": "markdown",
   "metadata": {},
   "source": [
    "Not so great... `@parallel` doesn't distribute the for-loop to the right workers."
   ]
  },
  {
   "cell_type": "markdown",
   "metadata": {},
   "source": [
    "__Define a function that fills the _local_ part of the shared array...__"
   ]
  },
  {
   "cell_type": "code",
   "execution_count": 30,
   "metadata": {
    "collapsed": false
   },
   "outputs": [],
   "source": [
    "@everywhere function Randn(S::SharedArray)\n",
    "    for i in localindexes(S)\n",
    "        S[i] = randn()\n",
    "    end\n",
    "end"
   ]
  },
  {
   "cell_type": "markdown",
   "metadata": {},
   "source": [
    "__...and call it on each worker that holds a chunk of the array.__"
   ]
  },
  {
   "cell_type": "code",
   "execution_count": 32,
   "metadata": {
    "collapsed": false
   },
   "outputs": [
    {
     "name": "stdout",
     "output_type": "stream",
     "text": [
      "  0.149377 seconds (1.98 k allocations: 155.699 KB)\n"
     ]
    }
   ],
   "source": [
    "@time @sync begin \n",
    "    for p in ShA.pids\n",
    "        @async remotecall_wait(p, Randn, ShA)\n",
    "    end\n",
    "end"
   ]
  },
  {
   "cell_type": "markdown",
   "metadata": {},
   "source": [
    "__Compare to single-threaded performance.__"
   ]
  },
  {
   "cell_type": "code",
   "execution_count": null,
   "metadata": {
    "collapsed": true
   },
   "outputs": [],
   "source": [
    "function Randn(L::Int)\n",
    "    a = zeros(Float64,L)\n",
    "    @time for i in 1:L\n",
    "        a[i] = randn()\n",
    "    end\n",
    "    return a\n",
    "end;\n",
    "Randn(L);"
   ]
  },
  {
   "cell_type": "markdown",
   "metadata": {},
   "source": [
    "__And check that we really did the right thing.__"
   ]
  },
  {
   "cell_type": "code",
   "execution_count": 33,
   "metadata": {
    "collapsed": true
   },
   "outputs": [
    {
     "name": "stderr",
     "output_type": "stream",
     "text": [
      "WARNING: Keyword argument bar_width not supported with Plots.PlotlyBackend().  Choose from: [:annotations,:background_color_legend,:background_color_inside,:background_color_outside,:foreground_color_legend,:foreground_color_guide,:foreground_color_text,:foreground_color_border,:foreground_color_title,:label,:seriescolor,:seriesalpha,:linecolor,:linestyle,:linewidth,:linealpha,:markershape,:markercolor,:markersize,:markeralpha,:markerstrokewidth,:markerstrokecolor,:markerstrokealpha,:markerstrokestyle,:fillrange,:fillcolor,:fillalpha,:bins,:title,:title_location,:titlefont,:window_title,:guide,:lims,:ticks,:scale,:flip,:rotation,:tickfont,:guidefont,:legendfont,:grid,:legend,:colorbar,:marker_z,:levels,:ribbon,:quiver,:orientation,:polar,:normalize,:weights,:hover,:inset_subplots,:color_palette,:background_color,:background_color_subplot,:foreground_color,:foreground_color_subplot,:group,:seriestype,:seriescolor,:seriesalpha,:smooth,:xerror,:yerror,:subplot,:x,:y,:z,:show,:size,:margin,:left_margin,:right_margin,:top_margin,:bottom_margin,:html_output_format,:layout,:link,:primary,:series_annotations,:subplot_index,:discrete_values,:projection,:xforeground_color_guide,:yforeground_color_guide,:zforeground_color_guide,:xforeground_color_text,:yforeground_color_text,:zforeground_color_text,:xforeground_color_border,:yforeground_color_border,:zforeground_color_border,:xguide,:yguide,:zguide,:xlims,:ylims,:zlims,:xticks,:yticks,:zticks,:xscale,:yscale,:zscale,:xflip,:yflip,:zflip,:xrotation,:yrotation,:zrotation,:xtickfont,:ytickfont,:ztickfont,:xguidefont,:yguidefont,:zguidefont,:xlink,:ylink,:zlink,:xdiscrete_values,:ydiscrete_values,:zdiscrete_values]\n"
     ]
    },
    {
     "data": {
      "text/html": [
       "<script src=\"/Network/Servers/mac25.thp.uni-koeln.de/Volumes/RAID/skleinbo/.julia/v0.4/Plots/deps/plotly-latest.min.js\"></script>    <div id=\"faef65d9-ea72-4a97-a05e-8b9c3bd17f92\" style=\"width:600px;height:400px;\"></div>\n",
       "    <script>\n",
       "    PLOT = document.getElementById('faef65d9-ea72-4a97-a05e-8b9c3bd17f92');\n",
       "    Plotly.plot(PLOT, [{\"yaxis\":\"y\",\"y\":[4.0,2.0,5.0,17.0,30.0,39.0,57.0,101.0,164.0,285.0,423.0,689.0,1159.0,1742.0,2515.0,3991.0,5762.0,8601.0,12619.0,17944.0,25383.0,36451.0,50318.0,69479.0,93852.0,126392.0,166748.0,217959.0,282876.0,361263.0,457669.0,570562.0,707610.0,862264.0,1.04197e6,1.23972e6,1.465307e6,1.705823e6,1.963598e6,2.237776e6,2.515163e6,2.796412e6,3.077308e6,3.34152e6,3.586685e6,3.808084e6,3.996534e6,4.144523e6,4.247316e6,4.299875e6,4.304973e6,4.260885e6,4.169966e6,4.033448e6,3.854407e6,3.637319e6,3.3933e6,3.134026e6,2.855801e6,2.571253e6,2.29461e6,2.018707e6,1.759844e6,1.511065e6,1.28547e6,1.079596e6,898259.0,735666.0,597273.0,480185.0,379331.0,297207.0,230337.0,176567.0,133138.0,99487.0,73594.0,53857.0,38869.0,27827.0,19530.0,13499.0,9360.0,6447.0,4265.0,2835.0,1869.0,1254.0,806.0,489.0,319.0,195.0,121.0,57.0,31.0,22.0,19.0,11.0,10.0,5.0],\"showlegend\":true,\"name\":\"y1\",\"type\":\"bar\",\"xaxis\":\"x\",\"orientation\":\"v\",\"x\":[-5.4164277568718155,-5.3083180913450585,-5.200208425818304,-5.092098760291546,-4.98398909476479,-4.875879429238033,-4.767769763711276,-4.65966009818452,-4.551550432657763,-4.443440767131006,-4.3353311016042495,-4.2272214360774925,-4.119111770550736,-4.011002105023979,-3.9028924394972226,-3.7947827739704656,-3.6866731084437094,-3.578563442916953,-3.4704537773901962,-3.3623441118634387,-3.254234446336682,-3.1461247808099255,-3.0380151152831694,-2.9299054497564123,-2.8217957842296557,-2.713686118702899,-2.6055764531761416,-2.497466787649385,-2.389357122122629,-2.2812474565958722,-2.173137791069115,-2.0650281255423586,-1.9569184600156018,-1.8488087944888452,-1.7406991289620888,-1.6325894634353317,-1.5244797979085751,-1.4163701323818185,-1.3082604668550615,-1.200150801328305,-1.0920411358015485,-0.9839314702747919,-0.875821804748035,-0.767712139221278,-0.6596024736945213,-0.5514928081677652,-0.4433831426410083,-0.3352734771142514,-0.2271638115874947,-0.11905414606073805,-0.010944480533981392,0.09716518499277527,0.20527485051953193,0.3133845160462886,0.4214941815730458,0.5296038470998021,0.6377135126265588,0.7458231781533154,0.8539328436800718,0.9620425092068291,1.0701521747335858,1.1782618402603422,1.2863715057870992,1.394481171313856,1.5025908368406125,1.610700502367369,1.7188101678941257,1.8269198334208827,1.9350294989476393,2.043139164474396,2.151248830001153,2.2593584955279096,2.367468161054666,2.475577826581423,2.583687492108179,2.691797157634936,2.799906823161693,2.9080164886884496,3.0161261542152067,3.124235819741963,3.23234548526872,3.340455150795476,3.4485648163222327,3.55667448184899,3.6647841473757468,3.772893812902503,3.88100347842926,3.9891131439560166,4.097222809482774,4.20533247500953,4.313442140536287,4.421551806063044,4.5296614715898,4.637771137116556,4.745880802643314,4.85399046817007,4.962100133696827,5.0702097992235835,5.17831946475034,5.286429130277097,5.394538795803853]}], {\"yaxis\":{\"linecolor\":\"rgb(0, 0, 0)\",\"type\":\"-\",\"domain\":[0.0688976377952756,0.9606299212598425],\"titlefont\":{\"size\":15,\"color\":\"rgb(0, 0, 0)\",\"family\":\"Helvetica\"},\"tickcolor\":\"rgb(0, 0, 0)\",\"title\":\"\",\"showgrid\":true,\"zeroline\":false,\"anchor\":\"x\",\"tickfont\":{\"size\":11,\"color\":\"rgb(0, 0, 0)\",\"family\":\"Helvetica\"}},\"annotations\":[],\"width\":600,\"plot_bgcolor\":\"rgb(255, 255, 255)\",\"showlegend\":false,\"xaxis\":{\"linecolor\":\"rgb(0, 0, 0)\",\"type\":\"-\",\"domain\":[0.07874015748031496,0.9671916010498688],\"titlefont\":{\"size\":15,\"color\":\"rgb(0, 0, 0)\",\"family\":\"Helvetica\"},\"tickcolor\":\"rgb(0, 0, 0)\",\"title\":\"\",\"showgrid\":true,\"zeroline\":false,\"anchor\":\"y\",\"tickfont\":{\"size\":11,\"color\":\"rgb(0, 0, 0)\",\"family\":\"Helvetica\"}},\"paper_bgcolor\":\"rgb(255, 255, 255)\",\"height\":400,\"margin\":{\"r\":0,\"l\":0,\"b\":0,\"t\":20}});\n",
       "    </script>\n"
      ]
     },
     "execution_count": 33,
     "metadata": {},
     "output_type": "execute_result"
    }
   ],
   "source": [
    "histogram(ShA,nbins=100,legend=:none)"
   ]
  },
  {
   "cell_type": "markdown",
   "metadata": {},
   "source": [
    "---"
   ]
  }
 ],
 "metadata": {
  "kernelspec": {
   "display_name": "Julia 0.4.6",
   "language": "julia",
   "name": "julia-0.4"
  },
  "language_info": {
   "file_extension": ".jl",
   "mimetype": "application/julia",
   "name": "julia",
   "version": "0.4.6"
  }
 },
 "nbformat": 4,
 "nbformat_minor": 0
}
