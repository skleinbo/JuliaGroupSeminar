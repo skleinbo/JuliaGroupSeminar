{
 "cells": [
  {
   "cell_type": "code",
   "execution_count": 1,
   "metadata": {
    "collapsed": false
   },
   "outputs": [],
   "source": [
    "using Plots;"
   ]
  },
  {
   "cell_type": "markdown",
   "metadata": {},
   "source": [
    "# Group Seminar on Julia Pt. II  \n",
    "# Parallel Techniques"
   ]
  },
  {
   "cell_type": "markdown",
   "metadata": {},
   "source": [
    "- Julia's parallel architecture, like MPI, uses message passing between worker processes.\n",
    "- Distributed Memory architecture $\\rightarrow$ Each worker has its own memory.\n",
    "- It is however more transparent and high level."
   ]
  },
  {
   "cell_type": "markdown",
   "metadata": {},
   "source": [
    "## 1. Add worker processes."
   ]
  },
  {
   "cell_type": "code",
   "execution_count": 2,
   "metadata": {
    "collapsed": false
   },
   "outputs": [
    {
     "data": {
      "text/plain": [
       "1-element Array{Int64,1}:\n",
       " 1"
      ]
     },
     "execution_count": 2,
     "metadata": {},
     "output_type": "execute_result"
    }
   ],
   "source": [
    "workers()"
   ]
  },
  {
   "cell_type": "code",
   "execution_count": null,
   "metadata": {
    "collapsed": false
   },
   "outputs": [],
   "source": [
    "rmprocs(2:5)"
   ]
  },
  {
   "cell_type": "code",
   "execution_count": 3,
   "metadata": {
    "collapsed": false
   },
   "outputs": [
    {
     "data": {
      "text/plain": [
       "4-element Array{Int64,1}:\n",
       " 2\n",
       " 3\n",
       " 4\n",
       " 5"
      ]
     },
     "execution_count": 3,
     "metadata": {},
     "output_type": "execute_result"
    }
   ],
   "source": [
    "addprocs();workers()"
   ]
  },
  {
   "cell_type": "code",
   "execution_count": 4,
   "metadata": {
    "collapsed": false
   },
   "outputs": [
    {
     "data": {
      "text/plain": [
       "2-element Array{Int64,1}:\n",
       " 4\n",
       " 5"
      ]
     },
     "execution_count": 4,
     "metadata": {},
     "output_type": "execute_result"
    }
   ],
   "source": [
    "[nworkers(),\n",
    "    nprocs()]"
   ]
  },
  {
   "cell_type": "markdown",
   "metadata": {},
   "source": [
    "   ## 2. Running functions on other processes."
   ]
  },
  {
   "cell_type": "code",
   "execution_count": 5,
   "metadata": {
    "collapsed": false
   },
   "outputs": [
    {
     "data": {
      "text/plain": [
       "RemoteRef{Channel{Any}}(2,1,5)"
      ]
     },
     "execution_count": 5,
     "metadata": {},
     "output_type": "execute_result"
    }
   ],
   "source": [
    "r = remotecall(2, +, 1,1)"
   ]
  },
  {
   "cell_type": "code",
   "execution_count": 6,
   "metadata": {
    "collapsed": false
   },
   "outputs": [
    {
     "data": {
      "text/plain": [
       "2"
      ]
     },
     "execution_count": 6,
     "metadata": {},
     "output_type": "execute_result"
    }
   ],
   "source": [
    "fetch(r)"
   ]
  },
  {
   "cell_type": "code",
   "execution_count": 7,
   "metadata": {
    "collapsed": false
   },
   "outputs": [
    {
     "data": {
      "text/plain": [
       "2"
      ]
     },
     "execution_count": 7,
     "metadata": {},
     "output_type": "execute_result"
    }
   ],
   "source": [
    "remotecall_fetch(2, +, 1,1)"
   ]
  },
  {
   "cell_type": "markdown",
   "metadata": {},
   "source": [
    "### `remotecall` and `fetch` are rather \"low level\" and cumbersome.\n",
    "### Julia offers convenient macros `@spawn`, `@spawnat`, `@fetch`"
   ]
  },
  {
   "cell_type": "code",
   "execution_count": 8,
   "metadata": {
    "collapsed": false
   },
   "outputs": [
    {
     "data": {
      "text/plain": [
       "RemoteRef{Channel{Any}}(2,1,8)"
      ]
     },
     "execution_count": 8,
     "metadata": {},
     "output_type": "execute_result"
    }
   ],
   "source": [
    "@spawn svd(rand(10,10))"
   ]
  },
  {
   "cell_type": "code",
   "execution_count": null,
   "metadata": {
    "collapsed": false
   },
   "outputs": [],
   "source": [
    "fetch(ans)"
   ]
  },
  {
   "cell_type": "code",
   "execution_count": 9,
   "metadata": {
    "collapsed": false
   },
   "outputs": [
    {
     "data": {
      "text/plain": [
       "(\n",
       "10x10 Array{Float64,2}:\n",
       " -0.275074  -0.0947211   0.23333    …   0.13293     0.0220586  -0.0539509 \n",
       " -0.321534   0.174334   -0.559078      -0.119445    0.0822099   0.408051  \n",
       " -0.280794   0.0759489  -0.509088       0.456731   -0.132516    0.0871879 \n",
       " -0.356107   0.346914    0.296662       0.086605   -0.45919    -0.180841  \n",
       " -0.328984   0.542221    0.391919      -0.0137745   0.486244    0.314834  \n",
       " -0.331348  -0.617001    0.133881   …  -0.208671    0.0530014   0.428384  \n",
       " -0.387969   0.0293416  -0.282618      -0.325181    0.243178   -0.664049  \n",
       " -0.267539  -0.137816    0.115711       0.463033   -0.333731    0.00287219\n",
       " -0.316488  -0.373669    0.131747       0.240453    0.363067   -0.252492  \n",
       " -0.273877  -0.0184537   0.0605475     -0.574687   -0.471982    0.0540714 ,\n",
       "\n",
       "[5.49788599359055,1.5355566796898747,1.3378568732632001,1.1588564114728552,0.8877345852814883,0.7781583530962147,0.6181044366896132,0.4000646477744593,0.2892315199429659,0.014791747585989008],\n",
       "10x10 Array{Float64,2}:\n",
       " -0.306143   0.182771   0.320306   …  -0.225662     0.14796     0.156162 \n",
       " -0.279652  -0.247581  -0.539203      -0.297718     0.06435    -0.620891 \n",
       " -0.294573  -0.129147   0.341657      -0.2421      -0.228307    0.17217  \n",
       " -0.336228  -0.412025   0.332296       0.515065     0.187272   -0.279405 \n",
       " -0.26642   -0.281991   0.0516319      0.32065     -0.0905514   0.0672507\n",
       " -0.299432   0.146549   0.389321   …  -0.450307     0.238294   -0.273742 \n",
       " -0.270081   0.541923  -0.210724       0.35852      0.570103    0.0555502\n",
       " -0.344132  -0.367229  -0.376911      -0.229114     0.248466    0.62628  \n",
       " -0.356002   0.106826  -0.124433       0.223328    -0.481407    0.0674724\n",
       " -0.386655   0.421792  -0.15273        0.00620303  -0.450869   -0.0554594)"
      ]
     },
     "execution_count": 9,
     "metadata": {},
     "output_type": "execute_result"
    }
   ],
   "source": [
    "@fetch svd(rand(10,10))"
   ]
  },
  {
   "cell_type": "markdown",
   "metadata": {},
   "source": [
    "### Transforming datasets in parallel with `pmap`."
   ]
  },
  {
   "cell_type": "code",
   "execution_count": 10,
   "metadata": {
    "collapsed": false
   },
   "outputs": [],
   "source": [
    "matrices = [ rand(5,5) for i in 1:4 ];\n",
    "pmap(svd, matrices);"
   ]
  },
  {
   "cell_type": "code",
   "execution_count": 11,
   "metadata": {
    "collapsed": true
   },
   "outputs": [
    {
     "data": {
      "text/plain": [
       "4-element Array{Array{Float64,2},1}:\n",
       " 5x5 Array{Float64,2}:\n",
       " 0.217325  0.4462    0.3937    0.421011  0.503594\n",
       " 0.286928  0.467984  0.424868  0.601607  0.19769 \n",
       " 0.482179  0.20294   0.415096  0.617386  0.782388\n",
       " 0.114345  0.541309  0.785444  0.734967  0.939863\n",
       " 0.371595  0.307396  0.460695  0.067577  0.529202               \n",
       " 5x5 Array{Float64,2}:\n",
       " 0.976702   0.817228  0.731309   0.267841   0.423302\n",
       " 0.572177   0.208002  0.354461   0.540773   0.748813\n",
       " 0.0743482  0.873839  0.0327645  0.754689   0.288011\n",
       " 0.404847   0.092719  0.679736   0.491548   0.286781\n",
       " 0.073289   0.45576   0.0478941  0.0139971  0.182714\n",
       " 5x5 Array{Float64,2}:\n",
       " 0.616848  0.785814    0.937999  0.138046   0.427419\n",
       " 0.549956  0.222444    0.183118  0.0188677  0.821581\n",
       " 0.957233  0.404216    0.10738   0.766687   0.678935\n",
       " 0.112664  0.289247    0.821351  0.618453   0.787634\n",
       " 0.455525  0.00917284  0.486823  0.786622   0.289695\n",
       " 5x5 Array{Float64,2}:\n",
       " 0.440157  0.151524   0.0905587  0.0963736  0.918625\n",
       " 0.592028  0.0746526  0.829542   0.801643   0.400662\n",
       " 0.18472   0.530068   0.450919   0.0550547  0.48168 \n",
       " 0.979229  0.365383   0.486283   0.0924769  0.440616\n",
       " 0.23874   0.485484   0.657614   0.497683   0.600554"
      ]
     },
     "execution_count": 11,
     "metadata": {},
     "output_type": "execute_result"
    }
   ],
   "source": [
    "matrices"
   ]
  },
  {
   "cell_type": "code",
   "execution_count": 12,
   "metadata": {
    "collapsed": false
   },
   "outputs": [
    {
     "data": {
      "text/plain": [
       "tictoq (generic function with 1 method)"
      ]
     },
     "execution_count": 12,
     "metadata": {},
     "output_type": "execute_result"
    }
   ],
   "source": [
    "function tictoq(ex::Expr)\n",
    "    tic()\n",
    "    eval(ex)\n",
    "    return toq()\n",
    "end"
   ]
  },
  {
   "cell_type": "code",
   "execution_count": 13,
   "metadata": {
    "collapsed": false
   },
   "outputs": [
    {
     "name": "stdout",
     "output_type": "stream",
     "text": [
      "  6.645683 seconds (398.63 k allocations: 249.621 MB, 1.50% gc time)\n"
     ]
    }
   ],
   "source": [
    "maxSize = 100;\n",
    "@time times = hcat([ [size(m[1],1), tictoq(:(pmap(svd, $m))), tictoq( :(map(svd,$m)))]\n",
    "    for m in [ [rand(k,k) for i in 1:8] for k in 5:maxSize ]]...)';"
   ]
  },
  {
   "cell_type": "code",
   "execution_count": 14,
   "metadata": {
    "collapsed": false
   },
   "outputs": [
    {
     "name": "stdout",
     "output_type": "stream",
     "text": [
      "[Plots.jl] Initializing backend: pyplot\n"
     ]
    },
    {
     "name": "stderr",
     "output_type": "stream",
     "text": [
      "INFO: Recompiling stale cache file /Network/Servers/mac25.thp.uni-koeln.de/Volumes/RAID/skleinbo/.julia/lib/v0.4/PyCall.ji for module PyCall.\n",
      "INFO: Recompiling stale cache file /Network/Servers/mac25.thp.uni-koeln.de/Volumes/RAID/skleinbo/.julia/lib/v0.4/PyPlot.ji for module PyPlot.\n",
      "objc[90344]: Class TKApplication is implemented in both /System/Library/Frameworks/Tk.framework/Versions/8.5/Tk and /Volumes/scratch/Applications/anaconda3/lib/libtk8.5.dylib. One of the two will be used. Which one is undefined.\n",
      "objc[90344]: Class TKMenu is implemented in both /System/Library/Frameworks/Tk.framework/Versions/8.5/Tk and /Volumes/scratch/Applications/anaconda3/lib/libtk8.5.dylib. One of the two will be used. Which one is undefined.\n",
      "objc[90344]: Class TKContentView is implemented in both /System/Library/Frameworks/Tk.framework/Versions/8.5/Tk and /Volumes/scratch/Applications/anaconda3/lib/libtk8.5.dylib. One of the two will be used. Which one is undefined.\n",
      "objc[90344]: Class TKWindow is implemented in both /System/Library/Frameworks/Tk.framework/Versions/8.5/Tk and /Volumes/scratch/Applications/anaconda3/lib/libtk8.5.dylib. One of the two will be used. Which one is undefined.\n",
      "objc[12634]: Class TKApplication is implemented in both /System/Library/Frameworks/Tk.framework/Versions/8.5/Tk and /Volumes/scratch/Applications/anaconda3/lib/libtk8.5.dylib. One of the two will be used. Which one is undefined.\n",
      "objc[12634]: Class TKMenu is implemented in both /System/Library/Frameworks/Tk.framework/Versions/8.5/Tk and /Volumes/scratch/Applications/anaconda3/lib/libtk8.5.dylib. One of the two will be used. Which one is undefined.\n",
      "objc[12634]: Class TKContentView is implemented in both /System/Library/Frameworks/Tk.framework/Versions/8.5/Tk and /Volumes/scratch/Applications/anaconda3/lib/libtk8.5.dylib. One of the two will be used. Which one is undefined.\n",
      "objc[12634]: Class TKWindow is implemented in both /System/Library/Frameworks/Tk.framework/Versions/8.5/Tk and /Volumes/scratch/Applications/anaconda3/lib/libtk8.5.dylib. One of the two will be used. Which one is undefined.\n",
      "objc[12637]: Class TKApplication is implemented in both /System/Library/Frameworks/Tk.framework/Versions/8.5/Tk and /Volumes/scratch/Applications/anaconda3/lib/libtk8.5.dylib. One of the two will be used. Which one is undefined.\n",
      "objc[12637]: Class TKMenu is implemented in both /System/Library/Frameworks/Tk.framework/Versions/8.5/Tk and /Volumes/scratch/Applications/anaconda3/lib/libtk8.5.dylib. One of the two will be used. Which one is undefined.\n",
      "objc[12637]: Class TKContentView is implemented in both /System/Library/Frameworks/Tk.framework/Versions/8.5/Tk and /Volumes/scratch/Applications/anaconda3/lib/libtk8.5.dylib. One of the two will be used. Which one is undefined.\n",
      "objc[12637]: Class TKWindow is implemented in both /System/Library/Frameworks/Tk.framework/Versions/8.5/Tk and /Volumes/scratch/Applications/anaconda3/lib/libtk8.5.dylib. One of the two will be used. Which one is undefined.\n",
      "objc[12635]: Class TKApplication is implemented in both /System/Library/Frameworks/Tk.framework/Versions/8.5/Tk and /Volumes/scratch/Applications/anaconda3/lib/libtk8.5.dylib. One of the two will be used. Which one is undefined.\n",
      "objc[12635]: Class TKMenu is implemented in both /System/Library/Frameworks/Tk.framework/Versions/8.5/Tk and /Volumes/scratch/Applications/anaconda3/lib/libtk8.5.dylib. One of the two will be used. Which one is undefined.\n",
      "objc[12635]: Class TKContentView is implemented in both /System/Library/Frameworks/Tk.framework/Versions/8.5/Tk and /Volumes/scratch/Applications/anaconda3/lib/libtk8.5.dylib. One of the two will be used. Which one is undefined.\n",
      "objc[12635]: Class TKWindow is implemented in both /System/Library/Frameworks/Tk.framework/Versions/8.5/Tk and /Volumes/scratch/Applications/anaconda3/lib/libtk8.5.dylib. One of the two will be used. Which one is undefined.\n",
      "objc[12636]: Class TKApplication is implemented in both /System/Library/Frameworks/Tk.framework/Versions/8.5/Tk and /Volumes/scratch/Applications/anaconda3/lib/libtk8.5.dylib. One of the two will be used. Which one is undefined.\n",
      "objc[12636]: Class TKMenu is implemented in both /System/Library/Frameworks/Tk.framework/Versions/8.5/Tk and /Volumes/scratch/Applications/anaconda3/lib/libtk8.5.dylib. One of the two will be used. Which one is undefined.\n",
      "objc[12636]: Class TKContentView is implemented in both /System/Library/Frameworks/Tk.framework/Versions/8.5/Tk and /Volumes/scratch/Applications/anaconda3/lib/libtk8.5.dylib. One of the two will be used. Which one is undefined.\n",
      "objc[12636]: Class TKWindow is implemented in both /System/Library/Frameworks/Tk.framework/Versions/8.5/Tk and /Volumes/scratch/Applications/anaconda3/lib/libtk8.5.dylib. One of the two will be used. Which one is undefined.\n"
     ]
    },
    {
     "data": {
      "text/html": [
       "<img src=\"data:image/png;base64,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\" />"
      ]
     },
     "execution_count": 14,
     "metadata": {},
     "output_type": "execute_result"
    }
   ],
   "source": [
    "scatter(times[:,1],times[:,2:end],label=[:pmap :map],legend=:topleft)"
   ]
  },
  {
   "cell_type": "code",
   "execution_count": 16,
   "metadata": {
    "collapsed": false
   },
   "outputs": [
    {
     "name": "stdout",
     "output_type": "stream",
     "text": [
      "  1.346741 seconds (4.57 k allocations: 30.703 MB, 0.95% gc time)\n",
      "  0.749362 seconds (2.94 k allocations: 32.731 MB, 6.24% gc time)\n",
      "  0.559290 seconds (3.88 k allocations: 30.706 MB, 1.12% gc time)\n",
      "  0.436281 seconds (2.97 k allocations: 30.692 MB, 1.17% gc time)\n"
     ]
    }
   ],
   "source": [
    "for i = 1:nworkers()\n",
    "    local matrices = [ rand(500,500) for j in 1:8 ];\n",
    "    @time pmap(svd, matrices, pids=workers()[1:i]);\n",
    "end"
   ]
  },
  {
   "cell_type": "markdown",
   "metadata": {},
   "source": [
    "__Caveat:__ `pmap` only suitable for distributing large chunks of work."
   ]
  },
  {
   "cell_type": "code",
   "execution_count": 17,
   "metadata": {
    "collapsed": false
   },
   "outputs": [
    {
     "name": "stdout",
     "output_type": "stream",
     "text": [
      "  7.219656 seconds (25.36 M allocations: 1.480 GB, 4.25% gc time)\n"
     ]
    }
   ],
   "source": [
    "@time pmap(x->x+1, collect(1:Int(1e5)));"
   ]
  },
  {
   "cell_type": "code",
   "execution_count": 19,
   "metadata": {
    "collapsed": false
   },
   "outputs": [
    {
     "name": "stdout",
     "output_type": "stream",
     "text": [
      "  0.000665 seconds (11 allocations: 1.526 MB)\n"
     ]
    }
   ],
   "source": [
    "@time collect(1:Int(1e5)) + 1 ;"
   ]
  },
  {
   "cell_type": "markdown",
   "metadata": {},
   "source": [
    "### `@parallel` to the rescue!"
   ]
  },
  {
   "cell_type": "markdown",
   "metadata": {},
   "source": [
    "__Scenario:__ Parallel calculations that are reduced (Matrix$\\rightarrow$Vector, Vector$\\rightarrow$Number)"
   ]
  },
  {
   "cell_type": "code",
   "execution_count": 51,
   "metadata": {
    "collapsed": false
   },
   "outputs": [
    {
     "data": {
      "text/plain": [
       "3.141540336"
      ]
     },
     "execution_count": 51,
     "metadata": {},
     "output_type": "execute_result"
    }
   ],
   "source": [
    "piEst = @parallel (+) for i = 1:Int(1e9)\n",
    "    ifelse( abs2(rand()) + abs2(rand()) <= 1, 1, 0)\n",
    "end\n",
    "piEst /= (1e9 / 4)"
   ]
  },
  {
   "cell_type": "code",
   "execution_count": 52,
   "metadata": {
    "collapsed": false
   },
   "outputs": [
    {
     "name": "stdout",
     "output_type": "stream",
     "text": [
      "  0.161380 seconds (8.86 k allocations: 501.516 KB)\n"
     ]
    },
    {
     "data": {
      "text/plain": [
       "-15743.378167698917"
      ]
     },
     "execution_count": 52,
     "metadata": {},
     "output_type": "execute_result"
    }
   ],
   "source": [
    "@time randWalk = @parallel (+) for i = 1:Int(1e8)\n",
    "    randn()\n",
    "end"
   ]
  },
  {
   "cell_type": "code",
   "execution_count": 25,
   "metadata": {
    "collapsed": false
   },
   "outputs": [
    {
     "name": "stdout",
     "output_type": "stream",
     "text": [
      "  0.822365 seconds (8 allocations: 762.940 MB, 6.30% gc time)\n"
     ]
    },
    {
     "data": {
      "text/plain": [
       "6132.171159517149"
      ]
     },
     "execution_count": 25,
     "metadata": {},
     "output_type": "execute_result"
    }
   ],
   "source": [
    "@time reduce(+, randn(Int(1e8)))"
   ]
  },
  {
   "cell_type": "code",
   "execution_count": 28,
   "metadata": {
    "collapsed": false
   },
   "outputs": [
    {
     "name": "stdout",
     "output_type": "stream",
     "text": [
      "  3.026110 seconds (200.00 M allocations: 2.980 GB, 11.79% gc time)\n"
     ]
    },
    {
     "data": {
      "text/plain": [
       "-7248.59365168165"
      ]
     },
     "execution_count": 28,
     "metadata": {},
     "output_type": "execute_result"
    }
   ],
   "source": [
    "s = 0.0\n",
    "@time for i = 1:Int(1e8)\n",
    "    s += randn()\n",
    "end\n",
    "s"
   ]
  },
  {
   "cell_type": "code",
   "execution_count": 30,
   "metadata": {
    "collapsed": false
   },
   "outputs": [
    {
     "name": "stdout",
     "output_type": "stream",
     "text": [
      "  0.476084 seconds (2.62 k allocations: 129.758 KB)\n"
     ]
    },
    {
     "data": {
      "text/plain": [
       "-11485.43758525108"
      ]
     },
     "execution_count": 30,
     "metadata": {},
     "output_type": "execute_result"
    }
   ],
   "source": [
    "function randomWalk_serial(L::Int)\n",
    "    s = 0.0\n",
    "    for i = 1:L\n",
    "        s += randn()\n",
    "    end\n",
    "    s\n",
    "end\n",
    "@time randomWalk_serial(Int(1e8))"
   ]
  },
  {
   "cell_type": "markdown",
   "metadata": {},
   "source": [
    "----"
   ]
  },
  {
   "cell_type": "markdown",
   "metadata": {},
   "source": [
    "__What if we need the results of every run?__  \n",
    "Naively one could concatenate the results ($=$reduce with `vcat`)."
   ]
  },
  {
   "cell_type": "code",
   "execution_count": 31,
   "metadata": {
    "collapsed": false
   },
   "outputs": [],
   "source": [
    "L = Int(1e5);"
   ]
  },
  {
   "cell_type": "code",
   "execution_count": 33,
   "metadata": {
    "collapsed": false
   },
   "outputs": [
    {
     "name": "stdout",
     "output_type": "stream",
     "text": [
      "  0.000451 seconds (6 allocations: 781.469 KB)\n"
     ]
    }
   ],
   "source": [
    "@time randn(L);"
   ]
  },
  {
   "cell_type": "code",
   "execution_count": 35,
   "metadata": {
    "collapsed": false
   },
   "outputs": [
    {
     "name": "stdout",
     "output_type": "stream",
     "text": [
      "  1.387375 seconds (4.84 k allocations: 2.828 MB)\n"
     ]
    }
   ],
   "source": [
    "@time n = @parallel (vcat) for i in 1:L\n",
    "    randn()\n",
    "end;"
   ]
  },
  {
   "cell_type": "markdown",
   "metadata": {},
   "source": [
    "__Abysmal runtime! __ Note the allocations.  \n",
    "`vcat` allocates new memory __each__ iteration $\\rightarrow$ dynamical resizing of arrays is not a good idea in performance critical code."
   ]
  },
  {
   "cell_type": "markdown",
   "metadata": {},
   "source": [
    "Alright, allocate the memory beforehand..."
   ]
  },
  {
   "cell_type": "code",
   "execution_count": null,
   "metadata": {
    "collapsed": false
   },
   "outputs": [],
   "source": [
    "a = zeros(Int64, L)\n",
    "@time @parallel for i in 1:L\n",
    "    a[i] = randn()\n",
    "end;"
   ]
  },
  {
   "cell_type": "markdown",
   "metadata": {},
   "source": [
    "Ok, that was fast, but did it do what we wanted?"
   ]
  },
  {
   "cell_type": "code",
   "execution_count": null,
   "metadata": {
    "collapsed": false
   },
   "outputs": [],
   "source": [
    "println(maximum(a))"
   ]
  },
  {
   "cell_type": "markdown",
   "metadata": {},
   "source": [
    "__No__, because `a[]` inside the parallel for-loop is a __local variable__ to each process."
   ]
  },
  {
   "cell_type": "markdown",
   "metadata": {},
   "source": [
    "__Needed:__ Data structure that is shared between processes."
   ]
  },
  {
   "cell_type": "markdown",
   "metadata": {},
   "source": [
    "### Shared Arrays"
   ]
  },
  {
   "cell_type": "code",
   "execution_count": 36,
   "metadata": {
    "collapsed": true
   },
   "outputs": [],
   "source": [
    "@everywhere gc()"
   ]
  },
  {
   "cell_type": "code",
   "execution_count": 37,
   "metadata": {
    "collapsed": true
   },
   "outputs": [],
   "source": [
    "L = Int(1e8);"
   ]
  },
  {
   "cell_type": "code",
   "execution_count": 38,
   "metadata": {
    "collapsed": false
   },
   "outputs": [],
   "source": [
    "ShA = SharedArray(Float64, L, init= S->S[localindexes(S)] = 0);"
   ]
  },
  {
   "cell_type": "code",
   "execution_count": 39,
   "metadata": {
    "collapsed": false
   },
   "outputs": [
    {
     "data": {
      "text/plain": [
       "762.939453125"
      ]
     },
     "execution_count": 39,
     "metadata": {},
     "output_type": "execute_result"
    }
   ],
   "source": [
    "length(ShA)*8/1024^2"
   ]
  },
  {
   "cell_type": "code",
   "execution_count": 40,
   "metadata": {
    "collapsed": false
   },
   "outputs": [
    {
     "data": {
      "text/plain": [
       "4-element Array{Int64,1}:\n",
       " 2\n",
       " 3\n",
       " 4\n",
       " 5"
      ]
     },
     "execution_count": 40,
     "metadata": {},
     "output_type": "execute_result"
    }
   ],
   "source": [
    "ShA.pids"
   ]
  },
  {
   "cell_type": "code",
   "execution_count": 41,
   "metadata": {
    "collapsed": false
   },
   "outputs": [
    {
     "data": {
      "text/plain": [
       "4-element Array{Any,1}:\n",
       " 1:25000000        \n",
       " 25000001:50000000 \n",
       " 50000001:75000000 \n",
       " 75000001:100000000"
      ]
     },
     "execution_count": 41,
     "metadata": {},
     "output_type": "execute_result"
    }
   ],
   "source": [
    "[@fetchfrom i localindexes(ShA) for i in workers()]"
   ]
  },
  {
   "cell_type": "code",
   "execution_count": 43,
   "metadata": {
    "collapsed": false
   },
   "outputs": [
    {
     "name": "stdout",
     "output_type": "stream",
     "text": [
      "  3.944145 seconds (6.64 k allocations: 476.081 KB)\n"
     ]
    }
   ],
   "source": [
    "@time @sync @parallel for i in 1:length(ShA)\n",
    "    ShA[i] = randn()\n",
    "end;"
   ]
  },
  {
   "cell_type": "code",
   "execution_count": 49,
   "metadata": {
    "collapsed": false
   },
   "outputs": [
    {
     "name": "stdout",
     "output_type": "stream",
     "text": [
      "  0.003174 seconds (1.57 k allocations: 134.477 KB)\n"
     ]
    }
   ],
   "source": [
    "@everywhere function Randn(S::SharedArray)\n",
    "    for i in localindexes(S)\n",
    "        S[i] = randn()\n",
    "    end\n",
    "end\n",
    "@time @sync begin \n",
    "    for p in ShA.pids\n",
    "        @async remotecall(p, Randn, ShA)\n",
    "    end\n",
    "end"
   ]
  },
  {
   "cell_type": "code",
   "execution_count": null,
   "metadata": {
    "collapsed": false
   },
   "outputs": [],
   "source": [
    "ShA[1:10]"
   ]
  },
  {
   "cell_type": "code",
   "execution_count": 48,
   "metadata": {
    "collapsed": false
   },
   "outputs": [
    {
     "name": "stdout",
     "output_type": "stream",
     "text": [
      "  0.528867 seconds\n"
     ]
    }
   ],
   "source": [
    "function Randn(L::Int)\n",
    "    a = zeros(Float64,L)\n",
    "    @time for i in 1:L\n",
    "        a[i] = randn()\n",
    "    end\n",
    "    return a\n",
    "end;\n",
    "Randn(L);"
   ]
  },
  {
   "cell_type": "code",
   "execution_count": 50,
   "metadata": {
    "collapsed": false
   },
   "outputs": [
    {
     "data": {
      "text/html": [
       "<img src=\"data:image/png;base64,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\" />"
      ]
     },
     "execution_count": 50,
     "metadata": {},
     "output_type": "execute_result"
    }
   ],
   "source": [
    "histogram(ShA,nbins=100,legend=:none)"
   ]
  }
 ],
 "metadata": {
  "kernelspec": {
   "display_name": "Julia 0.4.6",
   "language": "julia",
   "name": "julia-0.4"
  },
  "language_info": {
   "file_extension": ".jl",
   "mimetype": "application/julia",
   "name": "julia",
   "version": "0.4.6"
  }
 },
 "nbformat": 4,
 "nbformat_minor": 0
}
