{
 "cells": [
  {
   "cell_type": "markdown",
   "metadata": {},
   "source": [
    "# Group Seminar on Julia Pt. II\n",
    "# Parallel Programming"
   ]
  },
  {
   "cell_type": "markdown",
   "metadata": {},
   "source": [
    "- Julia's parallel architecture, like MPI, uses message passing between worker processes.\n",
    "- Distributed Memory architecture $\\rightarrow$ Each worker has its own memory.\n",
    "- It is however more transparent and high level."
   ]
  },
  {
   "cell_type": "markdown",
   "metadata": {},
   "source": [
    "## 1. Add worker processes."
   ]
  },
  {
   "cell_type": "code",
   "execution_count": 2,
   "metadata": {
    "collapsed": false
   },
   "outputs": [
    {
     "data": {
      "text/plain": [
       "1"
      ]
     },
     "execution_count": 2,
     "metadata": {},
     "output_type": "execute_result"
    }
   ],
   "source": [
    "nworkers()"
   ]
  },
  {
   "cell_type": "code",
   "execution_count": 3,
   "metadata": {
    "collapsed": false
   },
   "outputs": [
    {
     "data": {
      "text/plain": [
       "2"
      ]
     },
     "execution_count": 3,
     "metadata": {},
     "output_type": "execute_result"
    }
   ],
   "source": [
    "addprocs(2);nworkers()"
   ]
  },
  {
   "cell_type": "code",
   "execution_count": 4,
   "metadata": {
    "collapsed": false
   },
   "outputs": [
    {
     "data": {
      "text/plain": [
       "3"
      ]
     },
     "execution_count": 4,
     "metadata": {},
     "output_type": "execute_result"
    }
   ],
   "source": [
    "nprocs()"
   ]
  },
  {
   "cell_type": "markdown",
   "metadata": {},
   "source": [
    "   ## 2. Running operations"
   ]
  },
  {
   "cell_type": "code",
   "execution_count": 6,
   "metadata": {
    "collapsed": false
   },
   "outputs": [
    {
     "data": {
      "text/plain": [
       "RemoteRef{Channel{Any}}(2,1,4)"
      ]
     },
     "execution_count": 6,
     "metadata": {},
     "output_type": "execute_result"
    }
   ],
   "source": [
    "r = remotecall(2, +, 1,1)"
   ]
  },
  {
   "cell_type": "code",
   "execution_count": 7,
   "metadata": {
    "collapsed": false
   },
   "outputs": [
    {
     "data": {
      "text/plain": [
       "2"
      ]
     },
     "execution_count": 7,
     "metadata": {},
     "output_type": "execute_result"
    }
   ],
   "source": [
    "fetch(r)"
   ]
  },
  {
   "cell_type": "code",
   "execution_count": 10,
   "metadata": {
    "collapsed": false
   },
   "outputs": [
    {
     "data": {
      "text/plain": [
       "2"
      ]
     },
     "execution_count": 10,
     "metadata": {},
     "output_type": "execute_result"
    }
   ],
   "source": [
    "remotecall_fetch(2, +, 1,1)"
   ]
  },
  {
   "cell_type": "markdown",
   "metadata": {},
   "source": [
    "### `remotecall` and `fetch` are pretty low level.\n",
    "### Julia offers convenient macros `@spawn`, `@spawnat`, `@fetch`"
   ]
  },
  {
   "cell_type": "code",
   "execution_count": 11,
   "metadata": {
    "collapsed": false
   },
   "outputs": [
    {
     "data": {
      "text/plain": [
       "RemoteRef{Channel{Any}}(2,1,7)"
      ]
     },
     "execution_count": 11,
     "metadata": {},
     "output_type": "execute_result"
    }
   ],
   "source": [
    "@spawn svd(rand(10,10))"
   ]
  },
  {
   "cell_type": "code",
   "execution_count": 12,
   "metadata": {
    "collapsed": true
   },
   "outputs": [
    {
     "data": {
      "text/plain": [
       "(\n",
       "10x10 Array{Float64,2}:\n",
       " -0.354644   0.0428627  -0.112984   …  -0.170354    -0.722049    0.34209  \n",
       " -0.286629  -0.409146   -0.424579       0.219976    -0.0915964   0.113647 \n",
       " -0.312862   0.48877    -0.209538      -0.28515      0.33282    -0.0534861\n",
       " -0.264664  -0.487777   -0.0347126     -0.408563    -0.0273398  -0.673535 \n",
       " -0.346969  -0.400147    0.500845       0.118572     0.403286    0.413749 \n",
       " -0.280033   0.252234   -0.311212   …   0.520383     0.143362   -0.179214 \n",
       " -0.302472  -0.123317   -0.360248       0.00978024   0.1793      0.217591 \n",
       " -0.330695   0.278419    0.327295      -0.310196    -0.120341    0.0975759\n",
       " -0.344226   0.136754    0.420639       0.502632    -0.260286   -0.388254 \n",
       " -0.32557    0.137022    0.0178639     -0.201351     0.247319   -0.0513207,\n",
       "\n",
       "[5.653305195414068,1.434729128855979,1.2544345743643428,1.1569702515069695,0.9297520902119544,0.6045365669031618,0.44331529934692804,0.32876394211731075,0.21037862702841545,0.08416388420730403],\n",
       "10x10 Array{Float64,2}:\n",
       " -0.207164  -0.102242   -0.349233   …  -0.231287    0.100216    0.0179784\n",
       " -0.33285   -0.37574    -0.173767       0.143521   -0.144187   -0.467729 \n",
       " -0.280743   0.133348    0.0964954     -0.69579    -0.0416732   0.300243 \n",
       " -0.334385   0.228466    0.382977       0.209426    0.219431    0.35621  \n",
       " -0.323972   0.0304312   0.514553      -0.263234   -0.467289   -0.392515 \n",
       " -0.302457  -0.537191    0.183664   …   0.357187   -0.225544    0.505572 \n",
       " -0.317836  -0.161738   -0.544344      -0.184388   -0.138884    0.182007 \n",
       " -0.319715  -0.218195    0.164064       0.0096552   0.654582   -0.331276 \n",
       " -0.349563   0.577935   -0.235425       0.406188   -0.296549   -0.104517 \n",
       " -0.36578    0.284799   -0.121283       0.0443693   0.338148    0.0202508)"
      ]
     },
     "execution_count": 12,
     "metadata": {},
     "output_type": "execute_result"
    }
   ],
   "source": [
    "fetch(ans)"
   ]
  },
  {
   "cell_type": "code",
   "execution_count": 13,
   "metadata": {
    "collapsed": true
   },
   "outputs": [
    {
     "data": {
      "text/plain": [
       "(\n",
       "10x10 Array{Float64,2}:\n",
       " -0.244836   0.589164   -0.123841  …   0.153932   -0.382087   -0.0878293\n",
       " -0.370077  -0.501515   -0.206728      0.0555734  -0.119501    0.0792905\n",
       " -0.21358    0.282188    0.623024      0.221814    0.462198    0.358727 \n",
       " -0.297126  -0.0550202  -0.157274      0.152709    0.181648   -0.0796965\n",
       " -0.316495   0.414319   -0.278304     -0.0594095  -0.238312    0.343191 \n",
       " -0.360476  -0.043308   -0.316002  …  -0.171035    0.545451    0.133393 \n",
       " -0.316531   0.183103    0.103247     -0.648769    0.156738   -0.529799 \n",
       " -0.30925   -0.103983   -0.237181      0.39664     0.0672957  -0.0141099\n",
       " -0.350893  -0.119442    0.371367      0.395362   -0.167696   -0.524198 \n",
       " -0.346601  -0.294226    0.383268     -0.36521    -0.426121    0.399648 ,\n",
       "\n",
       "[5.313235205107073,1.4511706988049402,1.268525582449241,1.1640376258988399,0.88220256581468,0.8162893289084378,0.7157037936668676,0.4629337588658518,0.3449206026183042,0.05905873755138128],\n",
       "10x10 Array{Float64,2}:\n",
       " -0.298372   0.429544    0.631137   …  -0.0529842  -0.312609   -0.358886 \n",
       " -0.319856  -0.123628    0.450182       0.246171    0.241148    0.624737 \n",
       " -0.392991   0.105852   -0.243086      -0.412318    0.257737    0.0235267\n",
       " -0.314556  -0.0386894  -0.397139       0.354459    0.158588   -0.302952 \n",
       " -0.311886  -0.357125   -0.0358189     -0.601733   -0.33459    -0.0824824\n",
       " -0.202855   0.123761   -0.172673   …   0.468177   -0.444025   -0.144856 \n",
       " -0.333735  -0.151055   -0.147438       0.0767684  -0.454062    0.417891 \n",
       " -0.332692   0.599602   -0.292227      -0.0605385   0.132615    0.217399 \n",
       " -0.285676  -0.499443    0.0404777      0.22117     0.0333612  -0.206724 \n",
       " -0.336425  -0.113441    0.205718       0.034621    0.467507   -0.310086 )"
      ]
     },
     "execution_count": 13,
     "metadata": {},
     "output_type": "execute_result"
    }
   ],
   "source": [
    "@fetch svd(rand(10,10))"
   ]
  }
 ],
 "metadata": {
  "kernelspec": {
   "display_name": "Julia 0.4.5",
   "language": "julia",
   "name": "julia-0.4"
  },
  "language_info": {
   "file_extension": ".jl",
   "mimetype": "application/julia",
   "name": "julia",
   "version": "0.4.5"
  }
 },
 "nbformat": 4,
 "nbformat_minor": 0
}
