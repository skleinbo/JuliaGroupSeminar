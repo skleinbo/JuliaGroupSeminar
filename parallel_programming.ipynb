{
 "cells": [
  {
   "cell_type": "markdown",
   "metadata": {},
   "source": [
    "# Group Seminar on Julia Pt. II\n",
    "# Parallel Programming"
   ]
  },
  {
   "cell_type": "markdown",
   "metadata": {},
   "source": [
    "- Julia's parallel architecture, like MPI, uses message passing between worker processes.\n",
    "- Distributed Memory architecture $\\rightarrow$ Each worker has its own memory.\n",
    "- It is however more transparent and high level."
   ]
  },
  {
   "cell_type": "markdown",
   "metadata": {},
   "source": [
    "## 1. Add worker processes."
   ]
  },
  {
   "cell_type": "code",
   "execution_count": 1,
   "metadata": {
    "collapsed": false
   },
   "outputs": [
    {
     "data": {
      "text/plain": [
       "1-element Array{Int64,1}:\n",
       " 1"
      ]
     },
     "execution_count": 1,
     "metadata": {},
     "output_type": "execute_result"
    }
   ],
   "source": [
    "workers()"
   ]
  },
  {
   "cell_type": "code",
   "execution_count": 7,
   "metadata": {
    "collapsed": false
   },
   "outputs": [
    {
     "data": {
      "text/plain": [
       "4"
      ]
     },
     "execution_count": 7,
     "metadata": {},
     "output_type": "execute_result"
    }
   ],
   "source": [
    "addprocs();nworkers()"
   ]
  },
  {
   "cell_type": "code",
   "execution_count": 3,
   "metadata": {
    "collapsed": false
   },
   "outputs": [
    {
     "data": {
      "text/plain": [
       "4"
      ]
     },
     "execution_count": 3,
     "metadata": {},
     "output_type": "execute_result"
    }
   ],
   "source": [
    "nprocs()"
   ]
  },
  {
   "cell_type": "markdown",
   "metadata": {},
   "source": [
    "   ## 2. Running functions in parallel"
   ]
  },
  {
   "cell_type": "code",
   "execution_count": null,
   "metadata": {
    "collapsed": false
   },
   "outputs": [],
   "source": [
    "r = remotecall(2, +, 1,1)"
   ]
  },
  {
   "cell_type": "code",
   "execution_count": null,
   "metadata": {
    "collapsed": false
   },
   "outputs": [],
   "source": [
    "fetch(r)"
   ]
  },
  {
   "cell_type": "code",
   "execution_count": null,
   "metadata": {
    "collapsed": false
   },
   "outputs": [],
   "source": [
    "remotecall_fetch(2, +, 1,1)"
   ]
  },
  {
   "cell_type": "markdown",
   "metadata": {},
   "source": [
    "### `remotecall` and `fetch` are pretty low level.\n",
    "### Julia offers convenient macros `@spawn`, `@spawnat`, `@fetch`"
   ]
  },
  {
   "cell_type": "code",
   "execution_count": null,
   "metadata": {
    "collapsed": false
   },
   "outputs": [],
   "source": [
    "@spawn svd(rand(10,10))"
   ]
  },
  {
   "cell_type": "code",
   "execution_count": null,
   "metadata": {
    "collapsed": true
   },
   "outputs": [],
   "source": [
    "fetch(ans)"
   ]
  },
  {
   "cell_type": "code",
   "execution_count": null,
   "metadata": {
    "collapsed": true
   },
   "outputs": [],
   "source": [
    "@fetch svd(rand(10,10))"
   ]
  },
  {
   "cell_type": "markdown",
   "metadata": {},
   "source": [
    "### Transforming datasets in parallel with `pmap`."
   ]
  },
  {
   "cell_type": "code",
   "execution_count": 16,
   "metadata": {
    "collapsed": true
   },
   "outputs": [
    {
     "data": {
      "text/plain": [
       "5-element Array{Any,1}:\n",
       " (\n",
       "5x5 Array{Float64,2}:\n",
       " -0.205853   0.269247   0.0264854  -0.248645   -0.906976 \n",
       " -0.632522   0.285297   0.400676    0.593299    0.0773038\n",
       " -0.312394   0.364526   0.26683    -0.739294    0.389585 \n",
       " -0.335568   0.326003  -0.872051    0.0572403   0.131783 \n",
       " -0.589359  -0.779073  -0.0841801  -0.190627   -0.0477111,\n",
       "\n",
       "[2.3719547394705582,0.7957276578293622,0.6657334914845886,0.47035748293819835,0.18944348138829634],\n",
       "5x5 Array{Float64,2}:\n",
       " -0.450931   0.433229   0.723943  -0.169013  -0.23731  \n",
       " -0.295611  -0.561904  -0.12015   -0.680117  -0.34624  \n",
       " -0.30736    0.374743  -0.563867   0.241121  -0.623709 \n",
       " -0.587689   0.23771   -0.342729  -0.21582    0.658844 \n",
       " -0.519065  -0.547392   0.161439   0.635734   0.0267221)                   \n",
       " (\n",
       "5x5 Array{Float64,2}:\n",
       " -0.395626  -0.233087   0.792843   0.354645   -0.186488\n",
       " -0.403655   0.233286  -0.188295  -0.301932   -0.809952\n",
       " -0.474802   0.33344    0.244908  -0.596176    0.497971\n",
       " -0.493459  -0.753822  -0.401746  -0.0698338   0.148235\n",
       " -0.460004   0.460237  -0.338476   0.650201    0.198119,\n",
       "\n",
       "[3.1118810047943803,0.7431018935422137,0.5934070807240338,0.20616304676112582,0.1488366626329985],\n",
       "5x5 Array{Float64,2}:\n",
       " -0.281241   0.446061   0.658798  -0.0358564   0.535381\n",
       " -0.513208   0.187706  -0.527108  -0.625193    0.180763\n",
       " -0.460436   0.528641  -0.116711   0.488789   -0.505966\n",
       " -0.523339  -0.531102   0.461674  -0.239542   -0.416562\n",
       " -0.414291  -0.451957  -0.247747   0.558169    0.501165)                              \n",
       " (\n",
       "5x5 Array{Float64,2}:\n",
       " -0.208892   0.625214   -0.0277294  -0.426317  -0.618835 \n",
       " -0.538268   0.0332623   0.610364    0.548278  -0.189759 \n",
       " -0.394692   0.163724   -0.77366     0.467696   0.0111127\n",
       " -0.45138   -0.732321   -0.144048   -0.354847  -0.336595 \n",
       " -0.554173   0.211898    0.0859487  -0.41592    0.683824 ,\n",
       "\n",
       "[2.8699901203744482,0.7807748391911311,0.36169002810958406,0.22232499667091024,0.07613297606735192],\n",
       "5x5 Array{Float64,2}:\n",
       " -0.493445   0.683581    0.477045   -0.246298    0.0315325\n",
       " -0.537095  -0.416343    0.35901     0.63007     0.110956 \n",
       " -0.417717   0.0954165  -0.634292   -0.0446573   0.64194  \n",
       " -0.347116   0.217368   -0.490836    0.255162   -0.725419 \n",
       " -0.416011  -0.550474    0.0171011  -0.689381   -0.219941 )   \n",
       " (\n",
       "5x5 Array{Float64,2}:\n",
       " -0.529311  -0.366383    -0.0292904   0.197407  -0.73876 \n",
       " -0.332116  -0.00525421  -0.870455    0.1707     0.320688\n",
       " -0.43632    0.773992     0.0116155  -0.42021   -0.183985\n",
       " -0.411457  -0.500359     0.166527   -0.648723   0.363003\n",
       " -0.499857   0.127725     0.462151    0.578337   0.431013,\n",
       "\n",
       "[2.9812073455140315,0.8918052251204298,0.6068704036874365,0.40364126476270606,0.1373701529127501],\n",
       "5x5 Array{Float64,2}:\n",
       " -0.419091   0.285177    0.431636   -0.744189    -0.0539479\n",
       " -0.317022  -0.484232   -0.0744132   0.00867791  -0.812037 \n",
       " -0.432114  -0.568393    0.453459    0.25456      0.468808 \n",
       " -0.606907   0.0556463  -0.740226   -0.0858543    0.270671 \n",
       " -0.410854   0.598354    0.233654    0.611503    -0.211286 )\n",
       " (\n",
       "5x5 Array{Float64,2}:\n",
       " -0.28517   -0.0101689   0.138541  -0.284602  -0.904645  \n",
       " -0.521626  -0.166883   -0.825008   0.139298  -0.00386129\n",
       " -0.569507   0.582921    0.322233   0.476208   0.0725051 \n",
       " -0.457032   0.0548339   0.145226  -0.774281   0.409284  \n",
       " -0.336702  -0.793248    0.418621   0.270763   0.0939819 ,\n",
       "\n",
       "[2.7330245884439175,0.9822745185807656,0.49817080793941854,0.45295169995230183,0.10386789594827285],\n",
       "5x5 Array{Float64,2}:\n",
       " -0.512759   0.472419  -0.103103   -0.420789   -0.571144 \n",
       " -0.458987  -0.774885  -0.147081   -0.398628    0.0913649\n",
       " -0.381351   0.154456   0.825089   -0.0786797   0.379147 \n",
       " -0.461499  -0.186569   0.0525166   0.797431   -0.336982 \n",
       " -0.409877   0.343089  -0.533111    0.148141    0.638856 )        "
      ]
     },
     "execution_count": 16,
     "metadata": {},
     "output_type": "execute_result"
    }
   ],
   "source": [
    "matrices = [ rand(5,5) for i in 1:5 ];\n",
    "pmap(svd, matrices)"
   ]
  },
  {
   "cell_type": "code",
   "execution_count": 15,
   "metadata": {
    "collapsed": false
   },
   "outputs": [
    {
     "name": "stdout",
     "output_type": "stream",
     "text": [
      "  3.885712 seconds (3.48 k allocations: 38.333 MB)\n",
      "  2.040093 seconds (3.37 k allocations: 38.339 MB)\n",
      "  1.693605 seconds (3.82 k allocations: 40.354 MB)\n",
      "  1.282255 seconds (3.86 k allocations: 41.298 MB)\n"
     ]
    }
   ],
   "source": [
    "for i = 1:nworkers()\n",
    "    local matrices = [ rand(500,500) for j in 1:10 ];\n",
    "    @time pmap(svd, matrices, pids=workers()[1:i]);\n",
    "end"
   ]
  },
  {
   "cell_type": "markdown",
   "metadata": {},
   "source": [
    "__Caveat:__ `pmap` only suitable for distributing large chunks of work."
   ]
  },
  {
   "cell_type": "code",
   "execution_count": 21,
   "metadata": {
    "collapsed": false
   },
   "outputs": [
    {
     "name": "stdout",
     "output_type": "stream",
     "text": [
      "  7.211108 seconds (25.30 M allocations: 1.477 GB, 4.23% gc time)\n"
     ]
    }
   ],
   "source": [
    "@time pmap(x->x+1, collect(1:Int(1e5)));"
   ]
  },
  {
   "cell_type": "code",
   "execution_count": 20,
   "metadata": {
    "collapsed": false
   },
   "outputs": [
    {
     "name": "stdout",
     "output_type": "stream",
     "text": [
      "  0.000843 seconds (11 allocations: 1.526 MB)\n"
     ]
    }
   ],
   "source": [
    "@time collect(1:Int(1e5)) + 1 ;"
   ]
  },
  {
   "cell_type": "markdown",
   "metadata": {},
   "source": [
    "### `@parallel` to the rescue!"
   ]
  },
  {
   "cell_type": "markdown",
   "metadata": {},
   "source": [
    "__Scenario:__ Parallel calculations that are reduced (Matrix$\\rightarrow$Vector, Vector$\\rightarrow$Number)"
   ]
  },
  {
   "cell_type": "code",
   "execution_count": 9,
   "metadata": {
    "collapsed": false
   },
   "outputs": [
    {
     "name": "stdout",
     "output_type": "stream",
     "text": [
      "  0.150018 seconds (7.13 k allocations: 440.762 KB)\n"
     ]
    },
    {
     "data": {
      "text/plain": [
       "16439.59126606235"
      ]
     },
     "execution_count": 9,
     "metadata": {},
     "output_type": "execute_result"
    }
   ],
   "source": [
    "@time randWalk = @parallel (+) for i = 1:Int(1e8)\n",
    "    randn()\n",
    "end"
   ]
  },
  {
   "cell_type": "code",
   "execution_count": 11,
   "metadata": {
    "collapsed": false
   },
   "outputs": [
    {
     "name": "stdout",
     "output_type": "stream",
     "text": [
      "  0.666955 seconds (8 allocations: 762.940 MB, 0.44% gc time)\n"
     ]
    },
    {
     "data": {
      "text/plain": [
       "-20786.74550077975"
      ]
     },
     "execution_count": 11,
     "metadata": {},
     "output_type": "execute_result"
    }
   ],
   "source": [
    "@time reduce(+, randn(Int(1e8)))"
   ]
  },
  {
   "cell_type": "code",
   "execution_count": 1,
   "metadata": {
    "collapsed": false
   },
   "outputs": [
    {
     "name": "stdout",
     "output_type": "stream",
     "text": [
      "  2.613190 seconds (200.00 M allocations: 2.980 GB, 3.25% gc time)\n"
     ]
    },
    {
     "data": {
      "text/plain": [
       "8532.439742472616"
      ]
     },
     "execution_count": 1,
     "metadata": {},
     "output_type": "execute_result"
    }
   ],
   "source": [
    "s = 0.0\n",
    "@time for i = 1:Int(1e8)\n",
    "    s += randn()\n",
    "end\n",
    "s"
   ]
  },
  {
   "cell_type": "code",
   "execution_count": 10,
   "metadata": {
    "collapsed": false
   },
   "outputs": [
    {
     "name": "stdout",
     "output_type": "stream",
     "text": [
      "  0.484700 seconds (2.62 k allocations: 129.583 KB)\n"
     ]
    },
    {
     "data": {
      "text/plain": [
       "2540.0213527396704"
      ]
     },
     "execution_count": 10,
     "metadata": {},
     "output_type": "execute_result"
    }
   ],
   "source": [
    "function randomWalk_serial(L::Int)\n",
    "    s = 0.0\n",
    "    for i = 1:L\n",
    "        s += randn()\n",
    "    end\n",
    "    s\n",
    "end\n",
    "@time randomWalk_serial(Int(1e8))"
   ]
  },
  {
   "cell_type": "markdown",
   "metadata": {},
   "source": [
    "----"
   ]
  },
  {
   "cell_type": "markdown",
   "metadata": {},
   "source": [
    "__What if we need the results of every run?__  \n",
    "Processes have _separate_ memory. Can't write results to a common array naively."
   ]
  },
  {
   "cell_type": "code",
   "execution_count": 18,
   "metadata": {
    "collapsed": false
   },
   "outputs": [
    {
     "data": {
      "text/plain": [
       "4-element Array{Any,1}:\n",
       " RemoteRef{Channel{Any}}(2,1,58)\n",
       " RemoteRef{Channel{Any}}(3,1,59)\n",
       " RemoteRef{Channel{Any}}(4,1,60)\n",
       " RemoteRef{Channel{Any}}(5,1,61)"
      ]
     },
     "execution_count": 18,
     "metadata": {},
     "output_type": "execute_result"
    }
   ],
   "source": [
    "a = zeros(Int64, 1000)\n",
    "rs = @parallel for i in 1:1000\n",
    "    a[i] = i\n",
    "end"
   ]
  },
  {
   "cell_type": "code",
   "execution_count": 19,
   "metadata": {
    "collapsed": false
   },
   "outputs": [
    {
     "name": "stdout",
     "output_type": "stream",
     "text": [
      "0\n"
     ]
    }
   ],
   "source": [
    "println(maximum(a))"
   ]
  },
  {
   "cell_type": "markdown",
   "metadata": {},
   "source": [
    "### Shared Arrays"
   ]
  },
  {
   "cell_type": "code",
   "execution_count": 22,
   "metadata": {
    "collapsed": false
   },
   "outputs": [
    {
     "data": {
      "text/plain": [
       "4-element Array{Any,1}:\n",
       " RemoteRef{Channel{Any}}(2,1,98) \n",
       " RemoteRef{Channel{Any}}(3,1,99) \n",
       " RemoteRef{Channel{Any}}(4,1,100)\n",
       " RemoteRef{Channel{Any}}(5,1,101)"
      ]
     },
     "execution_count": 22,
     "metadata": {},
     "output_type": "execute_result"
    }
   ],
   "source": [
    "ShA = SharedArray(Int64, 100,100, init= S->S[localindexes(S)] = 0)\n",
    "@parallel for i in 1:length(ShA)\n",
    "    ShA[i] = i\n",
    "end"
   ]
  },
  {
   "cell_type": "code",
   "execution_count": 21,
   "metadata": {
    "collapsed": false
   },
   "outputs": [
    {
     "data": {
      "text/plain": [
       "10000"
      ]
     },
     "execution_count": 21,
     "metadata": {},
     "output_type": "execute_result"
    }
   ],
   "source": [
    "maximum(ShA)"
   ]
  },
  {
   "cell_type": "code",
   "execution_count": null,
   "metadata": {
    "collapsed": true
   },
   "outputs": [],
   "source": []
  }
 ],
 "metadata": {
  "kernelspec": {
   "display_name": "Julia 0.4.5",
   "language": "julia",
   "name": "julia-0.4"
  },
  "language_info": {
   "file_extension": ".jl",
   "mimetype": "application/julia",
   "name": "julia",
   "version": "0.4.5"
  }
 },
 "nbformat": 4,
 "nbformat_minor": 0
}
