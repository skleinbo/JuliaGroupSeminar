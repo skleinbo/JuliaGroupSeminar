{
 "cells": [
  {
   "cell_type": "code",
   "execution_count": 1,
   "metadata": {
    "collapsed": true
   },
   "outputs": [],
   "source": [
    "using Plots;"
   ]
  },
  {
   "cell_type": "markdown",
   "metadata": {},
   "source": [
    "# Group Seminar on Julia Pt. II  \n",
    "# Parallel Techniques"
   ]
  },
  {
   "cell_type": "markdown",
   "metadata": {},
   "source": [
    "- Julia's parallel architecture, like MPI, uses message passing between worker processes.\n",
    "- Distributed Memory architecture $\\rightarrow$ Each worker has its own memory.\n",
    "- It is however more transparent and high level."
   ]
  },
  {
   "cell_type": "markdown",
   "metadata": {},
   "source": [
    "## 1. Add worker processes."
   ]
  },
  {
   "cell_type": "code",
   "execution_count": 2,
   "metadata": {
    "collapsed": false
   },
   "outputs": [
    {
     "data": {
      "text/plain": [
       "1-element Array{Int64,1}:\n",
       " 1"
      ]
     },
     "execution_count": 2,
     "metadata": {},
     "output_type": "execute_result"
    }
   ],
   "source": [
    "workers()"
   ]
  },
  {
   "cell_type": "code",
   "execution_count": 3,
   "metadata": {
    "collapsed": false
   },
   "outputs": [
    {
     "data": {
      "text/plain": [
       "4-element Array{Int64,1}:\n",
       " 2\n",
       " 3\n",
       " 4\n",
       " 5"
      ]
     },
     "execution_count": 3,
     "metadata": {},
     "output_type": "execute_result"
    }
   ],
   "source": [
    "addprocs();workers()"
   ]
  },
  {
   "cell_type": "code",
   "execution_count": 4,
   "metadata": {
    "collapsed": false
   },
   "outputs": [
    {
     "data": {
      "text/plain": [
       "2-element Array{Int64,1}:\n",
       " 4\n",
       " 5"
      ]
     },
     "execution_count": 4,
     "metadata": {},
     "output_type": "execute_result"
    }
   ],
   "source": [
    "[nworkers(),\n",
    "    nprocs()]"
   ]
  },
  {
   "cell_type": "markdown",
   "metadata": {},
   "source": [
    "   ## 2. Running functions on other processes."
   ]
  },
  {
   "cell_type": "code",
   "execution_count": 5,
   "metadata": {
    "collapsed": false
   },
   "outputs": [
    {
     "data": {
      "text/plain": [
       "RemoteRef{Channel{Any}}(2,1,5)"
      ]
     },
     "execution_count": 5,
     "metadata": {},
     "output_type": "execute_result"
    }
   ],
   "source": [
    "r = remotecall(2, +, 1,1)"
   ]
  },
  {
   "cell_type": "code",
   "execution_count": 6,
   "metadata": {
    "collapsed": false
   },
   "outputs": [
    {
     "data": {
      "text/plain": [
       "2"
      ]
     },
     "execution_count": 6,
     "metadata": {},
     "output_type": "execute_result"
    }
   ],
   "source": [
    "fetch(r)"
   ]
  },
  {
   "cell_type": "code",
   "execution_count": 7,
   "metadata": {
    "collapsed": false
   },
   "outputs": [
    {
     "data": {
      "text/plain": [
       "2"
      ]
     },
     "execution_count": 7,
     "metadata": {},
     "output_type": "execute_result"
    }
   ],
   "source": [
    "remotecall_fetch(2, +, 1,1)"
   ]
  },
  {
   "cell_type": "markdown",
   "metadata": {},
   "source": [
    "### `remotecall` and `fetch` are rather \"low level\" and cumbersome.\n",
    "### Julia offers convenient macros `@spawn`, `@spawnat`, `@fetch`"
   ]
  },
  {
   "cell_type": "code",
   "execution_count": 8,
   "metadata": {
    "collapsed": false
   },
   "outputs": [
    {
     "data": {
      "text/plain": [
       "RemoteRef{Channel{Any}}(2,1,8)"
      ]
     },
     "execution_count": 8,
     "metadata": {},
     "output_type": "execute_result"
    }
   ],
   "source": [
    "@spawn svd(rand(10,10))"
   ]
  },
  {
   "cell_type": "code",
   "execution_count": 9,
   "metadata": {
    "collapsed": false
   },
   "outputs": [
    {
     "data": {
      "text/plain": [
       "(\n",
       "10x10 Array{Float64,2}:\n",
       " -0.298855   0.167673    0.167097   …   0.35857     0.46636    -0.453699 \n",
       " -0.330686  -0.584789   -0.352856       0.0819851   0.191392    0.0938445\n",
       " -0.306322   0.430609    0.221637      -0.0728755  -0.543839   -0.0792529\n",
       " -0.383099  -0.0997172  -0.300807      -0.367358   -0.123214    0.0857449\n",
       " -0.327292  -0.273582    0.438523      -0.09193    -0.03341    -0.217477 \n",
       " -0.354829   0.0962917  -0.455755   …   0.462852   -0.417775   -0.0316288\n",
       " -0.35424    0.100628   -0.0472667     -0.595974    0.159638   -0.292453 \n",
       " -0.256247   0.100141    0.0952319      0.361789    0.166498   -0.0404845\n",
       " -0.225804   0.517369   -0.132495      -0.0735334   0.443036    0.56398  \n",
       " -0.292533  -0.25019     0.52829        0.101374   -0.0989688   0.564074 ,\n",
       "\n",
       "[5.191180806200591,1.4469327840152812,1.2494070327884053,1.1163792863707833,0.7879034795695654,0.7439515656429685,0.5769651697127889,0.27574034549437454,0.1883772299866444,0.12878528017635246],\n",
       "10x10 Array{Float64,2}:\n",
       " -0.310182  -0.427534   -0.354402   …  -0.302676   0.033977    0.218928 \n",
       " -0.279236   0.508006   -0.15458       -0.207562  -0.118609    0.207108 \n",
       " -0.378581  -0.136819    0.204947      -0.273595  -0.583661   -0.230965 \n",
       " -0.172211  -0.141038   -0.0866711      0.290059   0.328103   -0.406495 \n",
       " -0.31861    0.369689   -0.251779       0.325935  -0.420043   -0.0765863\n",
       " -0.211114  -0.0594211   0.780217   …   0.346385  -0.0590144   0.223422 \n",
       " -0.398909  -0.468612   -0.103048       0.196784  -0.0164394  -0.241962 \n",
       " -0.267941  -0.025697   -0.238683       0.477751   0.137805    0.580393 \n",
       " -0.271997  -0.0770743   0.219688      -0.443674   0.241229    0.361189 \n",
       " -0.449276   0.3926      0.11405       -0.127613   0.528295   -0.330079 )"
      ]
     },
     "execution_count": 9,
     "metadata": {},
     "output_type": "execute_result"
    }
   ],
   "source": [
    "fetch(ans)"
   ]
  },
  {
   "cell_type": "code",
   "execution_count": 10,
   "metadata": {
    "collapsed": false
   },
   "outputs": [
    {
     "data": {
      "text/plain": [
       "(\n",
       "10x10 Array{Float64,2}:\n",
       " -0.398097  -0.0603711   0.423172   …  -0.0608481  -0.29467     0.0430848\n",
       " -0.325157  -0.317857   -0.38656       -0.237921    0.436933    0.293328 \n",
       " -0.337024   0.392749    0.407001       0.0114779  -0.179525    0.144951 \n",
       " -0.341489  -0.47761     0.308011      -0.0218768   0.177174   -0.223941 \n",
       " -0.290304  -0.143727   -0.194984      -0.0488772  -0.41104     0.612878 \n",
       " -0.304747   0.297887   -0.566286   …   0.347895   -0.275451   -0.171159 \n",
       " -0.315637   0.042727    0.059232       0.673414    0.333752   -0.148372 \n",
       " -0.281924  -0.367881   -0.174926      -0.053524   -0.260267   -0.411393 \n",
       " -0.220673   0.311827   -0.134124      -0.570688   -0.0309566  -0.463931 \n",
       " -0.317238   0.4113      0.0134728     -0.183371    0.48345     0.171862 ,\n",
       "\n",
       "[5.023447791915968,1.3652874587701596,1.1797830635426616,1.0477735714254124,0.8580110466317741,0.5767971107666213,0.5128282452078895,0.3490727757406419,0.24588360099383533,0.045613750642235676],\n",
       "10x10 Array{Float64,2}:\n",
       " -0.25497    0.349776   -0.0687517  …   0.076566    -0.0678833   0.0347414\n",
       " -0.32483    0.125943    0.441571       0.66203     -0.190788    0.311328 \n",
       " -0.284313   0.0695846  -0.472919       0.0316754    0.415763    0.137773 \n",
       " -0.292841   0.0937288   0.075558      -0.118024    -0.387448   -0.752984 \n",
       " -0.349408  -0.0433992   0.124638       0.0889877    0.154528   -0.288591 \n",
       " -0.36543   -0.577289   -0.250195   …   0.292662     0.276117   -0.186302 \n",
       " -0.266518   0.484313   -0.361347      -0.201256    -0.0730373   0.103398 \n",
       " -0.288905   0.182041    0.560363      -0.396172     0.568461    0.0203189\n",
       " -0.350989  -0.484426    0.107333      -0.499798    -0.372105    0.382063 \n",
       " -0.359958   0.103223   -0.191564      -0.00982052  -0.262588    0.20207  )"
      ]
     },
     "execution_count": 10,
     "metadata": {},
     "output_type": "execute_result"
    }
   ],
   "source": [
    "@fetch svd(rand(10,10))"
   ]
  },
  {
   "cell_type": "markdown",
   "metadata": {},
   "source": [
    "### Transforming datasets in parallel with `pmap`."
   ]
  },
  {
   "cell_type": "code",
   "execution_count": 11,
   "metadata": {
    "collapsed": false
   },
   "outputs": [],
   "source": [
    "matrices = [ rand(5,5) for i in 1:4 ];\n",
    "pmap(svd, matrices);"
   ]
  },
  {
   "cell_type": "code",
   "execution_count": 12,
   "metadata": {
    "collapsed": false
   },
   "outputs": [
    {
     "data": {
      "text/plain": [
       "tictoq (generic function with 1 method)"
      ]
     },
     "execution_count": 12,
     "metadata": {},
     "output_type": "execute_result"
    }
   ],
   "source": [
    "function tictoq(ex::Expr)\n",
    "    tic()\n",
    "    eval(ex)\n",
    "    return toq()\n",
    "end"
   ]
  },
  {
   "cell_type": "code",
   "execution_count": 13,
   "metadata": {
    "collapsed": false
   },
   "outputs": [
    {
     "name": "stdout",
     "output_type": "stream",
     "text": [
      "  9.608753 seconds (397.50 k allocations: 249.554 MB, 0.82% gc time)\n"
     ]
    }
   ],
   "source": [
    "maxSize = 100;\n",
    "@time times = hcat([ [size(m[1],1), tictoq(:(pmap(svd, $m))), tictoq( :(map(svd,$m)))]\n",
    "    for m in [ [rand(k,k) for i in 1:8] for k in 5:maxSize ]]...)';"
   ]
  },
  {
   "cell_type": "code",
   "execution_count": 14,
   "metadata": {
    "collapsed": false
   },
   "outputs": [
    {
     "name": "stdout",
     "output_type": "stream",
     "text": [
      "[Plots.jl] Initializing backend: pyplot\n"
     ]
    },
    {
     "data": {
      "text/html": [
       "<img src=\"data:image/png;base64,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\" />"
      ]
     },
     "execution_count": 14,
     "metadata": {},
     "output_type": "execute_result"
    }
   ],
   "source": [
    "scatter(times[:,1],times[:,2:end],label=[:pmap :map],legend=:topleft)"
   ]
  },
  {
   "cell_type": "code",
   "execution_count": 15,
   "metadata": {
    "collapsed": false
   },
   "outputs": [
    {
     "name": "stdout",
     "output_type": "stream",
     "text": [
      "  3.186623 seconds (87.74 k allocations: 36.929 MB, 0.20% gc time)\n",
      "  1.592525 seconds (3.97 k allocations: 35.245 MB, 1.77% gc time)\n",
      "  1.295965 seconds (6.07 k allocations: 32.324 MB, 4.52% gc time)\n",
      "  1.034057 seconds (5.15 k allocations: 32.248 MB, 0.57% gc time)\n"
     ]
    }
   ],
   "source": [
    "for i = 1:nworkers()\n",
    "    local matrices = [ rand(500,500) for j in 1:8 ];\n",
    "    @time pmap(svd, matrices, pids=workers()[1:i]);\n",
    "end"
   ]
  },
  {
   "cell_type": "markdown",
   "metadata": {},
   "source": [
    "__Caveat:__ `pmap` only suitable for distributing large chunks of work."
   ]
  },
  {
   "cell_type": "code",
   "execution_count": 16,
   "metadata": {
    "collapsed": false
   },
   "outputs": [
    {
     "name": "stdout",
     "output_type": "stream",
     "text": [
      "  9.449799 seconds (25.37 M allocations: 1.480 GB, 3.45% gc time)\n"
     ]
    }
   ],
   "source": [
    "@time pmap(x->x+1, collect(1:Int(1e5)));"
   ]
  },
  {
   "cell_type": "code",
   "execution_count": 17,
   "metadata": {
    "collapsed": false
   },
   "outputs": [
    {
     "name": "stdout",
     "output_type": "stream",
     "text": [
      "  0.007231 seconds (3.04 k allocations: 1.683 MB)\n"
     ]
    }
   ],
   "source": [
    "@time collect(1:Int(1e5)) + 1 ;"
   ]
  },
  {
   "cell_type": "markdown",
   "metadata": {},
   "source": [
    "### `@parallel` to the rescue!"
   ]
  },
  {
   "cell_type": "markdown",
   "metadata": {},
   "source": [
    "__Scenario:__ Parallel calculations that are reduced (Matrix$\\rightarrow$Vector, Vector$\\rightarrow$Number)"
   ]
  },
  {
   "cell_type": "code",
   "execution_count": 18,
   "metadata": {
    "collapsed": false
   },
   "outputs": [
    {
     "data": {
      "text/plain": [
       "3.141536568"
      ]
     },
     "execution_count": 18,
     "metadata": {},
     "output_type": "execute_result"
    }
   ],
   "source": [
    "piEst = @parallel (+) for i = 1:Int(1e9)\n",
    "    ifelse( abs2(rand()) + abs2(rand()) <= 1, 1, 0)\n",
    "end\n",
    "piEst /= (1e9 / 4)"
   ]
  },
  {
   "cell_type": "code",
   "execution_count": 19,
   "metadata": {
    "collapsed": false
   },
   "outputs": [
    {
     "name": "stdout",
     "output_type": "stream",
     "text": [
      "  0.210610 seconds (53.05 k allocations: 2.327 MB)\n"
     ]
    },
    {
     "data": {
      "text/plain": [
       "3248.1232095958653"
      ]
     },
     "execution_count": 19,
     "metadata": {},
     "output_type": "execute_result"
    }
   ],
   "source": [
    "@time randWalk = @parallel (+) for i = 1:Int(1e8)\n",
    "    randn()\n",
    "end"
   ]
  },
  {
   "cell_type": "code",
   "execution_count": 20,
   "metadata": {
    "collapsed": false
   },
   "outputs": [
    {
     "name": "stdout",
     "output_type": "stream",
     "text": [
      "  0.821937 seconds (99.37 k allocations: 767.043 MB, 0.93% gc time)\n"
     ]
    },
    {
     "data": {
      "text/plain": [
       "-6558.592326542847"
      ]
     },
     "execution_count": 20,
     "metadata": {},
     "output_type": "execute_result"
    }
   ],
   "source": [
    "@time reduce(+, randn(Int(1e8)))"
   ]
  },
  {
   "cell_type": "code",
   "execution_count": 21,
   "metadata": {
    "collapsed": false
   },
   "outputs": [
    {
     "name": "stdout",
     "output_type": "stream",
     "text": [
      "  3.033097 seconds (200.00 M allocations: 2.980 GB, 13.01% gc time)\n"
     ]
    },
    {
     "data": {
      "text/plain": [
       "-6391.757591171738"
      ]
     },
     "execution_count": 21,
     "metadata": {},
     "output_type": "execute_result"
    }
   ],
   "source": [
    "s = 0.0\n",
    "@time for i = 1:Int(1e8)\n",
    "    s += randn()\n",
    "end\n",
    "s"
   ]
  },
  {
   "cell_type": "code",
   "execution_count": 22,
   "metadata": {
    "collapsed": false
   },
   "outputs": [
    {
     "name": "stdout",
     "output_type": "stream",
     "text": [
      "  0.519811 seconds (2.63 k allocations: 130.008 KB)\n"
     ]
    },
    {
     "data": {
      "text/plain": [
       "11466.323932639336"
      ]
     },
     "execution_count": 22,
     "metadata": {},
     "output_type": "execute_result"
    }
   ],
   "source": [
    "function randomWalk_serial(L::Int)\n",
    "    s = 0.0\n",
    "    for i = 1:L\n",
    "        s += randn()\n",
    "    end\n",
    "    s\n",
    "end\n",
    "@time randomWalk_serial(Int(1e8))"
   ]
  },
  {
   "cell_type": "markdown",
   "metadata": {},
   "source": [
    "----"
   ]
  },
  {
   "cell_type": "markdown",
   "metadata": {},
   "source": [
    "__What if we need the results of every run?__  \n",
    "Naively one could concatinate the results ($=$reduce with `vcat`)."
   ]
  },
  {
   "cell_type": "code",
   "execution_count": 23,
   "metadata": {
    "collapsed": false
   },
   "outputs": [],
   "source": [
    "L = Int(1e5);"
   ]
  },
  {
   "cell_type": "code",
   "execution_count": 24,
   "metadata": {
    "collapsed": false
   },
   "outputs": [
    {
     "name": "stdout",
     "output_type": "stream",
     "text": [
      "  0.000450 seconds (6 allocations: 781.469 KB)\n"
     ]
    }
   ],
   "source": [
    "@time randn(L);"
   ]
  },
  {
   "cell_type": "code",
   "execution_count": 25,
   "metadata": {
    "collapsed": false
   },
   "outputs": [
    {
     "name": "stdout",
     "output_type": "stream",
     "text": [
      "  1.937162 seconds (71.88 k allocations: 5.548 MB, 0.20% gc time)\n"
     ]
    }
   ],
   "source": [
    "@time n = @parallel (vcat) for i in 1:L\n",
    "    randn()\n",
    "end;"
   ]
  },
  {
   "cell_type": "markdown",
   "metadata": {},
   "source": [
    "__Abysmal runtime! __ Note the allocations.  \n",
    "`vcat` allocates new memory __each__ iteration $\\rightarrow$ dynamical resizing of arrays is not a good idea in performance critical code."
   ]
  },
  {
   "cell_type": "markdown",
   "metadata": {},
   "source": [
    "Alright, allocate the memory beforehand..."
   ]
  },
  {
   "cell_type": "code",
   "execution_count": 26,
   "metadata": {
    "collapsed": false
   },
   "outputs": [
    {
     "name": "stdout",
     "output_type": "stream",
     "text": [
      "  0.016474 seconds (8.85 k allocations: 551.874 KB)\n"
     ]
    }
   ],
   "source": [
    "a = zeros(Int64, L)\n",
    "@time @parallel for i in 1:L\n",
    "    a[i] = randn()\n",
    "end;"
   ]
  },
  {
   "cell_type": "markdown",
   "metadata": {},
   "source": [
    "Ok, that was fast, but did it do what we wanted?"
   ]
  },
  {
   "cell_type": "code",
   "execution_count": 27,
   "metadata": {
    "collapsed": false
   },
   "outputs": [
    {
     "name": "stdout",
     "output_type": "stream",
     "text": [
      "0\n"
     ]
    }
   ],
   "source": [
    "println(maximum(a))"
   ]
  },
  {
   "cell_type": "markdown",
   "metadata": {},
   "source": [
    "__No__, because `a[]` inside the parallel for-loop is a __local variable__ to each process."
   ]
  },
  {
   "cell_type": "markdown",
   "metadata": {},
   "source": [
    "__Needed:__ Data structure that is shared between processes."
   ]
  },
  {
   "cell_type": "markdown",
   "metadata": {},
   "source": [
    "### Shared Arrays"
   ]
  },
  {
   "cell_type": "code",
   "execution_count": 64,
   "metadata": {
    "collapsed": true
   },
   "outputs": [],
   "source": [
    "@everywhere gc()"
   ]
  },
  {
   "cell_type": "code",
   "execution_count": 29,
   "metadata": {
    "collapsed": true
   },
   "outputs": [],
   "source": [
    "L = Int(1e8);"
   ]
  },
  {
   "cell_type": "code",
   "execution_count": 41,
   "metadata": {
    "collapsed": false
   },
   "outputs": [],
   "source": [
    "ShA = SharedArray(Float64, L, init= S->S[localindexes(S)] = 0);"
   ]
  },
  {
   "cell_type": "code",
   "execution_count": 31,
   "metadata": {
    "collapsed": false
   },
   "outputs": [
    {
     "data": {
      "text/plain": [
       "762.939453125"
      ]
     },
     "execution_count": 31,
     "metadata": {},
     "output_type": "execute_result"
    }
   ],
   "source": [
    "length(ShA)*8/1024^2"
   ]
  },
  {
   "cell_type": "code",
   "execution_count": 32,
   "metadata": {
    "collapsed": false
   },
   "outputs": [
    {
     "data": {
      "text/plain": [
       "4-element Array{Int64,1}:\n",
       " 2\n",
       " 3\n",
       " 4\n",
       " 5"
      ]
     },
     "execution_count": 32,
     "metadata": {},
     "output_type": "execute_result"
    }
   ],
   "source": [
    "ShA.pids"
   ]
  },
  {
   "cell_type": "code",
   "execution_count": 33,
   "metadata": {
    "collapsed": false
   },
   "outputs": [
    {
     "data": {
      "text/plain": [
       "4-element Array{Any,1}:\n",
       " 1:25000000        \n",
       " 25000001:50000000 \n",
       " 50000001:75000000 \n",
       " 75000001:100000000"
      ]
     },
     "execution_count": 33,
     "metadata": {},
     "output_type": "execute_result"
    }
   ],
   "source": [
    "[@fetchfrom i localindexes(ShA) for i in workers()]"
   ]
  },
  {
   "cell_type": "code",
   "execution_count": 34,
   "metadata": {
    "collapsed": false
   },
   "outputs": [
    {
     "name": "stdout",
     "output_type": "stream",
     "text": [
      "  4.917683 seconds (6.86 k allocations: 489.440 KB)\n"
     ]
    }
   ],
   "source": [
    "@time @sync @parallel for i in 1:length(ShA)\n",
    "    ShA[i] = randn()\n",
    "end;"
   ]
  },
  {
   "cell_type": "code",
   "execution_count": 42,
   "metadata": {
    "collapsed": false
   },
   "outputs": [
    {
     "name": "stdout",
     "output_type": "stream",
     "text": [
      "  0.002872 seconds (1.57 k allocations: 134.602 KB)\n"
     ]
    }
   ],
   "source": [
    "@everywhere function Randn(S::SharedArray)\n",
    "    for i in localindexes(S)\n",
    "        S[i] = randn()\n",
    "    end\n",
    "end\n",
    "@time @sync begin \n",
    "    for p in ShA.pids\n",
    "        @async remotecall(p, Randn, ShA)\n",
    "    end\n",
    "end"
   ]
  },
  {
   "cell_type": "code",
   "execution_count": 36,
   "metadata": {
    "collapsed": false
   },
   "outputs": [
    {
     "data": {
      "text/plain": [
       "10-element Array{Float64,1}:\n",
       "  0.315904\n",
       "  1.007   \n",
       " -0.394573\n",
       " -0.410487\n",
       "  0.247184\n",
       " -0.780333\n",
       "  1.09685 \n",
       "  0.417779\n",
       " -1.06275 \n",
       " -0.323171"
      ]
     },
     "execution_count": 36,
     "metadata": {},
     "output_type": "execute_result"
    }
   ],
   "source": [
    "ShA[1:10]"
   ]
  },
  {
   "cell_type": "code",
   "execution_count": 37,
   "metadata": {
    "collapsed": false
   },
   "outputs": [
    {
     "name": "stdout",
     "output_type": "stream",
     "text": [
      "  0.532828 seconds\n"
     ]
    }
   ],
   "source": [
    "function Randn(L::Int)\n",
    "    a = zeros(Float64,L)\n",
    "    @time for i in 1:L\n",
    "        a[i] = randn()\n",
    "    end\n",
    "    return a\n",
    "end;\n",
    "Randn(L);"
   ]
  },
  {
   "cell_type": "code",
   "execution_count": 63,
   "metadata": {
    "collapsed": false
   },
   "outputs": [
    {
     "data": {
      "text/html": [
       "<img src=\"data:image/png;base64,iVBORw0KGgoAAAANSUhEUgAAAlgAAAGQCAYAAAByNR6YAAAABHNCSVQICAgIfAhkiAAAAAlwSFlzAAAPYQAAD2EBqD+naQAAIABJREFUeJzt3X9wleWd//9XIgsx466rGyAsmoQu+TVm3RLYqVg7iqNQGXqwWzsRGkaTYGExTOkMQWdgNTi2I+g62wmZaRmjYdUNoc2KrA5it7sq4C5+JNot7kkEBY5jiXpQqHoS+4Vc3z+yORByQPC+cl8553o+Zu5pc9/nJO/zyju3b+5zn/vOMsYYAQAAwJps1wUAAABkGgYsAAAAyxiwAAAALGPAAgAAsIwBCwAAwDIGLAAAAMvGuC5gpMTjce3YsUNFRUW6+OKLXZcDAAAyRG9vrw4dOqQ5c+YoLy8v5WMydsDasWOHqqurXZcBAAAy1FNPPaUf/OAHKbdl7IBVVFQkaeDFl5eXuy0mg61YsUL/9E//5LoMr5D5yDhy5Ij+7nu36Y9f9A3fOL9R+ospp74+elB6tpH9ywiiz8NH5ucvGo2quro6OWukkrED1uDbguXl5aqsrHRcTebKzc0l35CR+cjo7OwcGK7qWqX8/xua9m2Xnm2UKm6RCqedevDhN6RnG9m/jCD6PHxkfuHOdQpSxg5YCMebb77pugTvkPkIyy8/NUwd6XJbi8fo8/CRuV0MWAiktLTUdQneIfPRIxqNDvk6Ly9PBQUFjqrJLPR5+MjcLgYsBHLppZe6LsE7ZB5cLBZTPB4fsu7MYemcjvdIWdnDPkiTc3GuuruiDFkW0OfhI3O7GLAQyIIFC1yX4B0yDyYWi6m0rFx9vYmv/k0SxyTTP/R8rZ6o+lruVDweZ8CygD4PH5nbxYCFQPiDDB+ZBxOPxweGq9OHI+nUCe0X4vTztWAVfR4+MreLK7kjkJaWFtcleIfMLRkcjgaX0y/DAOfo8/CRuV0MWAiks7PTdQneIXP4gD4PH5nbxYCFQJqbm12X4B0yhw/o8/CRuV0MWAAAAJYxYAEAAFjGpwgBwCIuPgpA4ggWAopEIq5L8A6Zj1KnXXx0+vTpyaW0rFyxWMx1dWmHPg8fmdvFESwEUl9f77oE75D5hTnzqu0XdMX2C8HFR62iz8NH5nYxYCGQ2bNnuy7BO2R+/qxctf1CcfFRK+jz8JG5XQxYADJWyqu2f5UrtgPABWLAApD5Tj+qdKTLbS0AvMBJ7ghk69atrkvwDpnDB/R5+MjcLgYsBNLW1ua6BO+QOXxAn4ePzO1iwEIg7e3trkvwDpnDB/R5+MjcLgYsAAAAyxiwAAAALGPAAgAAsIwBC4HU1NS4LsE7ZA4f0OfhI3O7GLAQCFf+DR+Zwwf0efjI3C4uNIpAFixY4LoE75B5+kl1/8O8vDzuT3gO9Hn4yNwuBiwAGCnHe6SsbFVXVw/blHNxrrq7ogxZQIZiwAKQMWKxmOLxePLrVEeOQpU4Jpn+ofdClKSeqPpa7lQ8HmfAAjIUAxYC2bVrl6677jrXZXiFzFOLxWIqLSsfuLnzaHP6vRBxXujz8JG5XZzkjkDWr1/vugTvkHlq8Xh8YLiqa5VW7xlY5je6LgtfEX0ePjK3iyNYCGTz5s2uS/AOmX+J048WHelyWwu+Mvo8fGRuF0ewEEhubq7rErxD5vABfR4+MreLAQsAAMAyBiwAAADLGLAQSENDg+sSvEPm8AF9Hj4yt4sBC4FwDZ/wkTl8QJ+Hj8ztYsBCIMuXL3ddgnfIHD6gz8NH5nYxYAEAAFjGgAUAAGAZAxYC6eriQo5hI3P4gD4PH5nbxYCFQFatWuW6BO+QOXxAn4ePzO1iwEIgGzZscF2Cd8gcPqDPw0fmdg0bsJ544gllZ2dr27ZtkqSPPvpIt9xyi0pKSnT11Vdr586dycf29vZq4cKFKi4uVllZmTo6OpLbjDFavny5pk6dqpKSEjU3Nw/5OQ8++KCmTp2q4uJirVmzZsi2lpYWlZSUqLi4WEuWLNHJkyeT25577jmVl5ertLRUt912mz777DM7SeAr4WO94SNz+IA+Dx+Z2zVkwDp8+LAee+wxzZw5M7nu3nvv1cyZM/X222/r8ccf18KFC5MDzyOPPKKcnBzt379fL7zwgpYtW6ZPPvlEkvTkk0+qq6tLBw4c0J49e/Twww8rGo1Kkl555RW1t7dr3759euutt7Rjxw5t375dknTw4EHdd9992r17t/bv36+enh5t3LhRkvT5559r8eLF2rZtm7q7uzVp0iQ98MADI58SAIyAaDSqzs7O5BKLxVyXBMCS5IBljNHixYu1YcMGjR07NvmALVu2aOnSpZKkGTNmaPLkyXr55ZclSe3t7cltRUVFuuGGG/TMM88kn3fXXXdJki677DJVVVWpra0tuW3RokXKycnR2LFjVVtbm9zW0dGh+fPna/z48ZKkpUuXJrdt375dlZWVKi4uliQtW7YsuQ0A0sbxHikrW9XV1Zo+fXpyKS0rZ8gCMkRywHr00Uf1rW99S9OmTUtu/Pjjj3XixAlNmDAhua6wsDC5A4jFYiosLExuKyoqCn1bT0+P+vv7g2SAANatW+e6BO+QeQZIHJNMv1TXKq3eM7DUtaqvN6F4PO66ulGBPg8fmds1RpLeeustdXR0DDm/CjgfiUTCdQneIfOBf2ydOYgMnoKQVvLLpcJpX/44D9Hn4SNzu7IlaefOnTp8+LCKi4s1ZcoU/fd//7d++MMfasuWLRozZow+/PDD5BMOHTqUPBGusLBQhw8fTrmtoKBgRLYdOnQoue3gwYOaNGmSsrPP/mHIuXPnKhKJDFlmzpyprVu3Dnnciy++qEgkMuz5d999t1paWoas6+zsVCQSGbaDv//++4f9CyAWiykSiQy7vkhTU9OwG2smEglFIhHt2rVryPq2tjbV1NQMq62qqsr568jLy8uI15FOv4+1a9dmxOuQvtrvo6OjQ6Vl5UPeWps+fbqqq6uH1ZcJRvvvY6T66swTrtP1daTT7+Ob3/xmRrwO27+PtrY2RSIR3XzzzcrPz9eNN96oFStWDPv+w5gUbrjhBrNt2zZjjDE1NTWmsbHRGGPMa6+9Zq644gpz4sQJY4wxjY2NpqamxhhjzLvvvmsmTpxojh49aowxprW11dx0003m5MmT5ujRo6awsNDs27fPGGPMSy+9ZCoqKkwikTB9fX1mxowZ5vnnn09+n8mTJ5sPPvjA9Pf3m0gkYpqbm40xxnz66adm4sSJpru72xhjTH19vWloaEj1EszevXuNJLN3796U2wGkp8G/bdW1Gq3ec2qZ3ziwfvUeo41/HFhqN53fupF67IU8f/Ue9llAmjifGWNMqqErKytLxhhJ0kMPPaRFixappKRE48aN09NPP62LLrpIktTQ0KDa2lpNnTpVY8aMUXNzsy6//HJJ0qJFi/T666+ruLhY2dnZWrlypa666ipJ0vXXX6+qqipVVFQoKytLt99+u+bOnStJmjJlitauXatrr71WWVlZmjVrlpYsWSJJuuSSS/TYY49p/vz5OnnypCoqKrRp06YvnyIBZJ4z3147wlWoAYweKQes//iP/0j+/wkTJmjHjh0pn5ybm6vNmzen3Jadna2mpiY1NTWl3L5mzZph178aVFdXp7q6upTb5s2bp3nz5qXchvDF43Hl5eW5LsMrZA4f0OfhI3O7uJI7AqmtrXVdgnfIHD6gz8NH5nYxYCGQxsZG1yV4h8zhA/o8fGRuFwMWAqmsrHRdgnfIHD6gz8NH5nYxYAEAAFjGgAUAAGAZAxYCOfOibRh5ZA4f0OfhI3O7GLAQSGdnp+sSvEPm8AF9Hj4yt4sBC4E0Nze7LsE7ZA4f0OfhI3O7GLAAAAAsY8ACAACwjAELAADAMgYsBBKJRFyX4B0yhw/o8/CRuV0MWAikvr7edQneIXP4gD4PH5nbNcZ1AUhvs2fPdl2Cd8g8s0Wj0SFf5+XlqaCgwFE17tDn4SNzuxiwAGA0ON4jZWWrurp6yOqci3PV3RX1csgC0hkDFgCMBoljkumX6lql/PKBdT1R9bXcqXg8zoAFpBnOwUIgW7dudV2Cd3zLPBaLqbOzM7mc+RZaxskvlwqnDSyDg5aHfOvz0YDM7WLAQiBtbW2uS/COT5nHYjGVlpVr+vTpyeXMt9CQmXzq89GCzO3iLUIE0t7e7roE7/iUeTweV19vYujbZvu2S882uiwLIfCpz0cLMreLAQvA6Df4tpkkHelyWwsAnAfeIgQAALCMAQsAAMAyBiwEUlNT47oE75A5fECfh4/M7WLAQiBc+Td8ZA4f0OfhI3O7GLAQyIIFC1yX4B0yhw/o8/CRuV0MWAAAAJYxYAEAAFjGgIVAdu3a5boE75A5fECfh4/M7WLAQiDr1693XYJ3yBw+oM/DR+Z2MWAhkM2bN7suwTtkDh/Q5+Ejc7sYsBBIbm6u6xK8Q+bwAX0ePjK3iwELAADAMgYsAAAAyxiwEEhDQ4PrErxD5vABfR4+MreLAQuBFBQUuC7BO2QOH9Dn4SNzuxiwEMjy5ctdl+AdMocP6PPwkbldY1wXAAA4t2g0OmxdXl4eRxyAUYwBCwBGq+M9Ula2qqurh23KuThX3V1RhixglOItQgTS1dXlugTvkLlHEsck0y/VtUqr95xa6lrV15tQPB53XeGIoc/DR+Z2MWAhkFWrVrkuwTtk7qH8cqlw2qklv9x1RSOOPg8fmdvFW4QIZMOGDa5L8E4mZx6LxYYclUl17hH8kMl9PlqRuV0MWAiE8z/Cl6mZx2IxlZaVq6834boUjAKZ2uejGZnbxYAFYFSIx+MDw1Vd66m3wPZtl55tdFkWAHwlDFgARpfB840k6Qgn3QJIT5zkjkDWrVvnugTvkDl8QJ+Hj8ztYsBCIIkE58uEjczhA/o8fGRuFwMWAlm7dq3rErxD5vABfR4+MreLAQsAAMAyBiwAAADLGLAQSCbfqmO0InP4gD4PH5nbxYCFQGpra12X4B0yhw/o8/CRuV0MWAiksbHRdQneIXP4gD4PH5nbxYCFQCorK12X4B0yhw/o8/CRuV0MWAAAAJYxYAEAAFjGgIVAWlpaXJfgHTKHD+jz8JG5XQxYCKSzs9N1Cd4hc/iAPg8fmdvFgIVAmpubXZfgHTKHD+jz8JG5XQxYAAAAljFgAQAAWMaABQAAYBkDFgKJRCKuS/AOmWNQNBpVZ2dnconFYq5LsoY+Dx+Z2zXGdQFIb/X19a5L8A6ZQ8d7pKxsVVdXD1mdc3GuuruiKigocFSYPfR5+MjcLgYsBDJ79mzXJXiHzKHEMcn0S3WtUn75wLqeqPpa7lQ8Hs+IAYs+Dx+Z28WABQDpKr9cKpzmugoAKTBgAQhdLBZTPB4fsi4ajTqqBgDs4yR3BLJ161bXJXgn3TOPxWIqLSvX9OnThyxnnk8Ev6V7n6cjMreLAQuBtLW1uS7BO+meeTweV19vYuD8odV7Ti3zG12XhlEk3fs8HZG5XbxFiEDa29tdl+CdjMn8zPOHjnS5qwWjTsb0eRohc7s4ggUAAGAZAxYAAIBlDFgAAACWMWAhkJqaGtcleIfM4QP6PHxkbldywJozZ46+/vWva9q0abr++uv15ptvSpI++ugj3XLLLSopKdHVV1+tnTt3Jp/c29urhQsXqri4WGVlZero6EhuM8Zo+fLlmjp1qkpKStTc3DzkBz/44IOaOnWqiouLtWbNmiHbWlpaVFJSouLiYi1ZskQnT55MbnvuuedUXl6u0tJS3Xbbbfrss8/sJoILwpV/w0fm8AF9Hj4ytys5YP3yl7/Um2++qTfeeEM//vGPdeedd0qS7rnnHs2cOVNvv/22Hn/8cS1cuDA58DzyyCPKycnR/v379cILL2jZsmX65JNPJElPPvmkurq6dODAAe3Zs0cPP/xw8kKCr7zyitrb27Vv3z699dZb2rFjh7Zv3y5JOnjwoO677z7t3r1b+/fvV09PjzZu3ChJ+vzzz7V48WJt27ZN3d3dmjRpkh544IHQwsJwCxYscF2Cd8gcPqDPw0fmdiUHrD/7sz9Lrjx27JguuugiSQOD19KlSyVJM2bM0OTJk/Xyyy9LGvhI5+C2oqIi3XDDDXrmmWckSVu2bNFdd90lSbrssstUVVWVvMbGli1btGjRIuXk5Gjs2LGqra1Nbuvo6ND8+fM1fvx4SdLSpUuT27Zv367KykoVFxdLkpYtW8Z1OwAAwKgz5BysO+64QwUFBbr//vv1z//8z/r444914sQJTZgwIfmYwsJCxWIxSQNXZC4sLExuKyoqCn1bT0+P+vv7A8YAAABgz5ABa9OmTYrFYnrwwQe1atUqSQPnUgFns2vXLtcleIfM4QP6PHxkblfKTxEuWrRIL730kiTpT/7kT/Thhx8mtx06dEgFBQWSBo5mHT58OOW2goKCEdl26NCh5LaDBw9q0qRJys4++4ch586dq0gkMmSZOXPmsHsuvfjii4pEIsOef/fdd6ulpWXIus7OTkUikWE3q73//vu1bt26IetisZgikYi6uoZepbqpqUkNDQ1D1iUSCUUikWFN3tbWlvLTHVVVVc5fx9///d9nxOtIp9/H+vXrM+J1YGSc+btL17+P+vr6jHgd6bS/WrlyZUa8Dtu/j7a2NkUiEd18883Kz8/XjTfeqBUrVgz7/sMYY8yxY8fM73//ezPomWeeMVdeeaUxxpiamhrT2NhojDHmtddeM1dccYU5ceKEMcaYxsZGU1NTY4wx5t133zUTJ040R48eNcYY09raam666SZz8uRJc/ToUVNYWGj27dtnjDHmpZdeMhUVFSaRSJi+vj4zY8YM8/zzzye/z+TJk80HH3xg+vv7TSQSMc3NzcYYYz799FMzceJE093dbYwxpr6+3jQ0NJhU9u7daySZvXv3ptwOOz7//HPXJXgn3TMf/NvU6j1GG/94aqndNHz9+a4L8/mjtdbVezJqn5fufZ6OyPz8nc+MMUaSjh8/ru9///vq6+tTVlaWJkyYoOeee06S9NBDD2nRokUqKSnRuHHj9PTTTydPgG9oaFBtba2mTp2qMWPGqLm5WZdffrmkgaNgr7/+uoqLi5Wdna2VK1fqqquukiRdf/31qqqqUkVFhbKysnT77bdr7ty5kqQpU6Zo7dq1uvbaa5WVlaVZs2ZpyZIlkqRLLrlEjz32mObPn6+TJ0+qoqJCmzZt+vIpEiMmNzfXdQneIXP4gD4PH5nbNUYaeOttz549KR8wYcIE7dixI+W23Nxcbd68OeW27OxsNTU1qampKeX2NWvWDLv+1aC6ujrV1dWl3DZv3jzNmzcv5TYAAIDRgCu5AwAAWMaAhUDOPEERI4/M4QP6PHxkbhcDFgIZ/IQnwkPm8AF9Hj4yt4sBC4EsX77cdQneIXP4gD4PH5nbxYAFAABg2RjXBQAA7IlGo0O+zsvL460fwAGOYCGQM6/Mi5FH5kjpeI+Ula3q6mpNnz49uZSWlSfv55pO6PPwkbldDFgIZPCelQgPmSOlxDHJ9Et1rdLqPQNLXav6ehPDbgOSDujz8JG5XbxFiEA2bNjgugTvkDnOKb9cKpzmuorA6PPwkbldDFgIhHM7wpdumcdisSFHUM48RwhIJd36PBOQuV0MWABGTCwWU2lZufp6E65LAYBQMWABGDHxeHxguKprHXjrSpL2bZeebXRZFgCMOE5yRyDr1q1zXYJ30jLzwfOCCqdJfzHFdTVIA2nZ52mOzO1iwEIgiQRv/YSNzOED+jx8ZG4XAxYCWbt2resSvEPm8AF9Hj4yt4sBCwAAwDIGLAAAAMsYsBBIOl4hOt2ROXxAn4ePzO1iwEIgtbW1rkvwDpnDB/R5+MjcLgYsBNLY2Oi6BO+QOXxAn4ePzO1iwEIglZWVrkvwDpnDB/R5+MjcLgYsAAAAyxiwAAAALGPAQiAtLS2uS/AOmcMH9Hn4yNwuBiwE0tnZ6boE75A5fECfh4/M7WLAQiDNzc2uS/AOmcMH9Hn4yNwuBiwAAADLGLAAAAAsY8ACAACwjAELgUQiEdcleIfM4QP6PHxkbhcDFgKpr693XYJ3yBw+oM/DR+Z2jXFdANLb7NmzXZfgHTLHhYpGo8PW5eXlqaCgwEE154c+Dx+Z28WABQCZ6niPlJWt6urqYZtyLs5Vd1d0VA9ZQDpjwAKATJU4Jpl+qa5Vyi8/tb4nqr6WOxWPxxmwgBHCOVgIZOvWra5L8A6Z44Lll0uF004tpw9boxR9Hj4yt4sBC4G0tbW5LsE7ozXzWCymzs7OIUuqc3+A8zFa+zyTkbldvEWIQNrb212X4J3RmHksFlNpWbn6ehOuS0GGGI19nunI3C4GLACBxePxgeHqzHN99m2Xnm10VRYAOMOABcCewXN9Bh3pclcLADjEOVgAAACWMWAhkJqaGtcleIfM4QP6PHxkbhcDFgLhyr/hI3P4gD4PH5nbxYCFQBYsWOC6BO+QOXxAn4ePzO1iwAIAALCMAQsAAMAyBiwEsmvXLtcleIfM4QP6PHxkbhcDFgJZv3696xK8Q+bwAX0ePjK3iwELgWzevNl1Cd4hc/iAPg8fmdvFgIVAcnNzXZfgHTKHD+jz8JG5XQxYAAAAljFgAQAAWMaAhUAaGhpcl+AdMocP6PPwkbldDFgIpKCgwHUJ3iFz+IA+Dx+Z28WAhUCWL1/uugTvkDl8QJ+Hj8ztYsACAACwjAELAADAMgYsBNLV1eW6BO+QOXxAn4ePzO1iwEIgq1atcl2Cd8gctkSjUXV2diaXWCzmuqQk+jx8ZG7XGNcFIL1t2LDBdQneIXMEdrxHyspWdXX1kNU5F+equys6Kj5NRp+Hj8ztYsBCIKNhR+wbMkdgiWOS6ZfqWqX88oF1PVH1tdypeDw+KnpsNNTgGzK3iwELAHyVXy4VTnNdBZCRGLAAXLBYLKZ4PJ78OhqNOqwGAEYfTnJHIOvWrXNdgndcZx6LxVRaVq7p06cnlzPP5QGCct3nPiJzuziChUASiYTrErzjOvN4PK6+3sTQ83f2bZeebXRZFjKM6z73EZnbxYCFQNauXeu6BO+MmsxPP3/nCNfPgV2jps89QuZ28RYhAACAZQxYAAAAljFgIZDTP0mGcJA5fECfh4/M7WLAQiC1tbWuS/AOmcMH9Hn4yNwuBiwE0tjY6LoE75A5fECfh4/M7WLAQiCVlZWuS/AOmcMH9Hn4yNwuBiwAAADLGLAAAAAsy5akL774Qt/97ndVVlamadOmac6cOXrnnXckSR999JFuueUWlZSU6Oqrr9bOnTuTT+7t7dXChQtVXFyssrIydXR0JLcZY7R8+XJNnTpVJSUlam5uHvKDH3zwQU2dOlXFxcVas2bNkG0tLS0qKSlRcXGxlixZopMnTya3PffccyovL1dpaaluu+02ffbZZ/ZTwXlraWlxXYJ3yBw+oM/DR+Z2JY9gLVmyRF1dXXrjjTcUiUS0ePFiSdI999yjmTNn6u2339bjjz+uhQsXJgeeRx55RDk5Odq/f79eeOEFLVu2TJ988okk6cknn1RXV5cOHDigPXv26OGHH07eEPaVV15Re3u79u3bp7feeks7duzQ9u3bJUkHDx7Ufffdp927d2v//v3q6enRxo0bJUmff/65Fi9erG3btqm7u1uTJk3SAw88EF5aGKazs9N1Cd4hc/iAPg8fmduVLUnjxo3Tt7/97eTKa665RocPH5Yk/fKXv9TSpUslSTNmzNDkyZP18ssvS5La29uT24qKinTDDTfomWeekSRt2bJFd911lyTpsssuU1VVldra2pLbFi1apJycHI0dO1a1tbXJbR0dHZo/f77Gjx8vSVq6dGly2/bt21VZWani4mJJ0rJly5Lb4MaZRyYx8sgcPqDPw0fmdqU8B+tnP/uZbr31Vn388cc6ceKEJkyYkNxWWFioWCwmSYrFYiosLExuKyoqCn1bT0+P+vv7v+LLBwAAsG/YzZ5/+tOf6p133tHGjRu5szYAAMBXMOQI1iOPPKKtW7fqhRdeUE5Oji6//HKNGTNGH374YfIxhw4dUkFBgaSBo1mDbyWeua2goGBEth06dCi57eDBg5o0aZKys8/+Yci5c+cqEokMWWbOnKmtW7cOedyLL76oSCQy7Pl33333sBP/Ojs7FYlEht1W4P7779e6deuGrIvFYopEIurq6hqyvqmpSQ0NDUPWJRIJRSIR7dq1a8j6trY21dTUDKutqqqK18HrcPo6kHlWrFjhvK8y5e+D15EZr6OtrU2RSEQ333yz8vPzdeONN2rFihXDvv8w5v/84z/+o5k+fbo5duyYOV1NTY1pbGw0xhjz2muvmSuuuMKcOHHCGGNMY2OjqampMcYY8+6775qJEyeao0ePGmOMaW1tNTfddJM5efKkOXr0qCksLDT79u0zxhjz0ksvmYqKCpNIJExfX5+ZMWOGef7555PfZ/LkyeaDDz4w/f39JhKJmObmZmOMMZ9++qmZOHGi6e7uNsYYU19fbxoaGkwqe/fuNZLM3r17U26HHd/5zndcl+Ad15kP/m1p9R6jjX8cWGo3DV93tvVBH+v6+elU64U8f/WeUbXPdN3nPiLz83c+M8YYSXr//fe1cuVK/dVf/ZVmzZolY4xycnL0X//1X3rooYe0aNEilZSUaNy4cXr66ad10UUXSZIaGhpUW1urqVOnasyYMWpubtbll18uSVq0aJFef/11FRcXKzs7WytXrtRVV10lSbr++utVVVWliooKZWVl6fbbb9fcuXMlSVOmTNHatWt17bXXKisrS7NmzdKSJUskSZdccokee+wxzZ8/XydPnlRFRYU2bdr05VMkRkx9fb3rErxD5vABfR4+MrdrjCRNnjz5rCeKT5gwQTt27Ei5LTc3V5s3b065LTs7W01NTWpqakq5fc2aNcOufzWorq5OdXV1KbfNmzdP8+bNS7kN4Zs9e7brErxD5vABfR4+Mrdr2EnuAAB/DV6v8HR5eXnJc2EBnB8GLACAdLxHyspWdXX1sE05F+equyvKkAVcAO5FiEDO/PQGRh6ZY0QkjkmmX6prlVbvObXUtapQJUdbAAAWI0lEQVSvNzHsU1YjjT4PH5nbxYCFQLiSfvjIHCMqv1wqnHZqyS93UgZ9Hj4yt4u3CBFIe3u76xK8E3bmsVhsyNGLVOfoALaxbwkfmdvFgAXgrGKxmErLytXXy10dAOBCMGABOKt4PD4wXNW1nnqraN926dlGl2UBwKjHgAXgyw2elyNJR7rO/VgAACe5I5hU94bCyCJz+IA+Dx+Z28WAhUC48m/4yBw+oM/DR+Z2MWAhkAULFrguwTtkDh/Q5+Ejc7sYsAAAACxjwAIAALCMAQuB7Nq1y3UJ3iFz+IA+Dx+Z28WAhUDWr1/vugTvkDl8QJ+Hj8ztYsBCIJs3b3ZdgnfIHD6gz8NH5nYxYCGQ3Nxc1yV4h8zhA/o8fGRuFwMWAACAZQxYAAAAljFgIZCGhgbXJXiHzOED+jx8ZG4XAxYCKSgocF2Cd8gcPqDPw0fmdjFgIZDly5e7LsE7ZA4f0OfhI3O7GLAAAAAsG+O6AADA6BeNRod8nZeXx1tKwDlwBAuBdHV1uS7BO2SOUB3vkbKyVV1drenTpyeX0rJyxWKxEfux9Hn4yNwuBiwEsmrVKtcleIfMEarEMcn0S3Wt0uo9A0tdq/p6E4rH4yP2Y+nz8JG5XbxFiEA2bNjgugTvkDmcyC+XCqeF9uPo8/CRuV0MWAiEczDCN1KZx2KxYUckzjzvBggL+5bwkbldDFgAFIvFVFpWrr7ehOtSACAjMGABUDweHxiu6loH3goatG+79Gyjq7IAIG1xkjsCWbdunesSvDOimQ+eZzO4/MWUkftZwDmwbwkfmdvFgIVAEgneUgobmcMH9Hn4yNwuBiwEsnbtWtcleIfM4QP6PHxkbhcDFgAAgGUMWAAAAJYxYCGQkbySM1Ijc/iAPg8fmdvFgIVAamtrXZfgHTKHD+jz8JG5XQxYCKSxsdF1Cd4hc/iAPg8fmdvFgIVAKisrXZfgHTKHD+jz8JG5XQxYAAAAljFgAQAAWMaAhUBaWlpcl+AdMocP6PPwkbldDFgIpLOz03UJ3iFz+IA+Dx+Z28WAhUCam5tdl+AdMocP6PPwkbldDFgAAACWjXFdAAAgPUWj0SFf5+XlqaCgwFE1wOjCgAUAuDDHe6SsbFVXVw9ZnXNxrrq7ogxZgHiLEAFFIhHXJXiHzOFc4phk+qW6Vmn1noGlrlV9vQlr97Ojz8NH5nZxBAuB1NfXuy7BOzYyj8ViQ/5DeOZbPcB5yS+XCqeNyLdm3xI+MreLAQuBzJ4923UJ3gmaeSwWU2lZufp6E5YqAuxj3xI+MreLAQvwTDweHxiu6loHjkBI0r7t0rONLssCgIzCgAX46vS3d450ua0FADIMJ7kjkK1bt7ouwTtkDh/Q5+Ejc7sYsBBIW1ub6xK8Q+bwAX0ePjK3iwELgbS3t7suwTtkDh/Q5+Ejc7sYsAAAACxjwAIAALCMAQsAAMAyBiwEUlNT47oE75A5fECfh4/M7WLAQiBc+Td8ZA4f0OfhI3O7GLAQyIIFC1yX4B0yhw/o8/CRuV0MWAAAAJYxYAEAAFjGgIVAdu3a5boE75A5fECfh4/M7WLAQiDr1693XYJ3yByjWTQaVWdn55AlFotd8Pehz8NH5naNcV0A0tvmzZtdl+AdMseodLxHyspWdXX1sE05F+equyuqgoKC8/529Hn4yNwuBiwEkpub67oE75A5RqXEMcn0S3WtUn75qfU9UfW13Kl4PH5BAxZ9Hj4yt4sBC8hwsVhM8Xg8+XU0GnVYDTJefrlUOM11FYBzDFhABovFYiotK1dfb8J1KQDgFU5yRyANDQ2uS/DOhWQej8cHhqu6Vmn1noFlfuOI1QbYwr4lfGRuF0ewEMiFnFMBO75S5qe/bXOky25BwAhg3xI+MreLI1gIZPny5a5L8A6Zwwf0efjI3C4GLAAAAMuyJelHP/qRpkyZouzsbP3P//xPcuNHH32kW265RSUlJbr66qu1c+fO5Lbe3l4tXLhQxcXFKisrU0dHR3KbMUbLly/X1KlTVVJSoubm5iE/9MEHH9TUqVNVXFysNWvWDNnW0tKikpISFRcXa8mSJTp58mRy23PPPafy8nKVlpbqtttu02effWY3DQAAAAuyJen73/++du/eraKioiEb7733Xs2cOVNvv/22Hn/8cS1cuDA58DzyyCPKycnR/v379cILL2jZsmX65JNPJElPPvmkurq6dODAAe3Zs0cPP/xw8qPhr7zyitrb27Vv3z699dZb2rFjh7Zv3y5JOnjwoO677z7t3r1b+/fvV09PjzZu3ChJ+vzzz7V48WJt27ZN3d3dmjRpkh544IFQQsLZdXVxPk/YyBw+oM/DR+Z2ZUvSddddp7/8y7+UMWbIxi1btmjp0qWSpBkzZmjy5Ml6+eWXJUnt7e3JbUVFRbrhhhv0zDPPJJ931113SZIuu+wyVVVVqa2tLblt0aJFysnJ0dixY1VbW5vc1tHRofnz52v8+PGSpKVLlya3bd++XZWVlSouLpYkLVu2LLkN7qxatcp1Cd4hc/iAPg8fmdt11nOwPv74Y504cUITJkxIrissLEzeUyoWi6mwsDC5raioKPRtPT096u/v/wovG7Zs2LDBdQneIXP4gD4PH5nbxUnuCISP9YaPzOED+jx8ZG7XWQesyy+/XGPGjNGHH36YXHfo0KHkL6CwsFCHDx9Oua2goGBEth06dCi57eDBg5o0aZKys889I86dO1eRSGTIMnPmTG3dunXI41588UVFIpFhz7/77rvV0tIyZF1nZ6cikciQ249I0v33369169YNWReLxRSJRIa9t93U1DTsom6JREKRSES7du0asr6trU01NTXDaquqquJ18Dq+9HUAo8G99947Kv8+MuXvnNcxcq+jra1NkUhEN998s/Lz83XjjTdqxYoVw77/MOY0RUVF5re//W3y65qaGtPY2GiMMea1114zV1xxhTlx4oQxxpjGxkZTU1NjjDHm3XffNRMnTjRHjx41xhjT2tpqbrrpJnPy5Elz9OhRU1hYaPbt22eMMeall14yFRUVJpFImL6+PjNjxgzz/PPPJ7/P5MmTzQcffGD6+/tNJBIxzc3NxhhjPv30UzNx4kTT3d1tjDGmvr7eNDQ0mLPZu3evkWT27t171scAmW7w70Cr9xht/OPAUrvp/NZdyGODPj/Mn+VTraPhta7ew74YGed8ZoxsaeBk8iuvvFLvv/++5syZo5KSEknSQw89pFdffVUlJSWqra3V008/rYsuukjSwCX1E4mEpk6dqltuuUXNzc26/PLLJUmLFi1SWVmZiouL9Y1vfEMrV67UVVddJUm6/vrrVVVVpYqKCl111VWaM2eO5s6dK0maMmWK1q5dq2uvvVYlJSWaOHGilixZIkm65JJL9Nhjj2n+/PkqKSnR+++/r3/4h3/48gkSI+rMf6lg5JE5fECfh4/M7RojST//+c9TbpwwYYJ27NiRcltubq42b96cclt2draamprU1NSUcvuaNWuGXf9qUF1dnerq6lJumzdvnubNm5dyG9xIJLiJcNjIHOlo8FI9g/Ly8s55zg99Hj4yt4t7ESKQtWvXui7BO2SOtHK8R8rKVnV19ZDVORfnqrsretYhiz4PH5nbxYAFABg5iWOS6ZfqWgduOi5JPVH1tdypeDzOJ9eQsRiwgAwRi8WGfRLmzLdlAGfyy6XCaa6rAELDgIVA4vG48vLyXJfhlVSZx2IxlZaVq6+XcyiQGdi3hI/M7eJCowiktrbWdQneSZV5PB4fGK7qWqXVe04t8xtDrw+wgX1L+MjcLo5gIZDGxkbXJXjnnJmf+TbMEW7eivTEviV8ZG4XR7AQSGVlpesSvEPm8AF9Hj4yt4sBCwAAwDIGLAAAAMsYsBDImTfOxMgjc/iAPg8fmdvFgIVAOjs7XZfgHTKHD+jz8JG5XQxYCKS5udl1Cd4hc/iAPg8fmdvFgAUAAGAZAxYAAIBlXGgUAODEmffKzMvL4+bPyBgcwUIgkUjEdQneIXOkveM9Ula2qqurNX369ORSWlauWCwmiT53gczt4ggWAqmvr3ddgnfq6+sVi8UUj8eT6848EgCMaoljkukfuHdmfvnAup6o+lruVDweV0FBAfsWB8jcLgYsBDJ79mzXJXinrKxMpWXlAzd3BtLZmffOPA37lvCRuV0MWECaicfjA8PV6f/637dderbRZVkAgNMwYAHp6vR//R/pclsLAGAITnJHIFu3bnVdgnf+8z//03UJwIhj3xI+MreLAQuBtLW1uS7BOzt27HBdAjDi2LeEj8ztYsBCIO3t7a5L8M5DDz3kugRgxLFvCR+Z28WABQAAYBkDFgAAgGUMWAAAAJYxYCGQmpoa1yV4p7Gx0XUJwIiJRqPq7OxUJBJRZ2enOjs7k7fPwchif24X18FCIFz5N3zXXHON/u3f/s11GYBdp92fcNBgn+dcnKvurig3gh5h7M/tYsBCIAsWLHBdQsY7876DhYWFDqsBRkiq+xNKw+5RiJHD/twuBixgFIvFYtx3EH45x/0JgXTCgAWMYtx3EADSEye5I5Bdu3a5LsEPg/+qL5wm/cUU19UAyEDsz+1iwEIg69evd10CAMAC9ud2MWAhkM2bN7suAQBgAftzuxiwEEhubq7rEgAAFrA/t4sBCwAAwDIGLAAAAMsYsBBIQ0OD6xIAeGDwFjrcPmfksD+3i+tgIRCurAxgRKW4hY7E7XNGAlnaxYCFQJYvX+66hIxx5i1xpIF/tQNeS3ULHW6fMyLYn9vFgAWMAtwSB/gS3EIHaYYBCxgFUt4SR+K2OACQpjjJHYF0dXW5LiGznH5LHG6LAyBE7M/tYsBCIKtWrXJdAgDAAvbndjFgIZANGza4LgEAYAH7c7sYsBAIn+ABgMzA/twuTnIHAKSlMy9jkpeXx5CAUYMBC3DgzGtecb0r4AJw8VGkAQYsBLJu3Trdc889rstIK1zzCgiIi4+OCPbndjFgIZBEgiHhQqW85hXXuwIuHBcftYr9uV0MWAhk7dq1rktIX6f/x+EI158B4Bb7c7v4FCEAAIBlDFgAAACW8RYhAonH48rLy3NdBgBISv2JXC7fcH7Yn9vFgIVAamtrtW3bNtdljFpnXo5B4pIMwIg4y6UbJC7fcL7Yn9vFgIVAGhsbXZcwanE5BiBEqS7dIHH5hgvA/twuBiwEUllZ6bqEUSvl5RgkLskAjCQu3fCVsT+3iwELGGln7vC5JAMAZDw+RQgAAGAZR7AQSEtLi+rq6lyXMSpwf0Fg9OLG0F+O/bldDFgIpLOzkz9IcUI7MGpxY+jzxv7cLgYsBNLc3Oy6hFGB+wsCoxQ3hj5v7M/tYsACbOL+gsDoxKcLETIGLACAl7jqO0YSAxbwFXBCO5DGuOo7QsCAhUAikYh3t1bghHYgzXHV95R83J+PJAYsBFJfX++6hNBxQjuQITgvawgf9+cjiQELgcyePdt1CSPqnDdr5oR2ICP5es2sTN+fh40BCzgL3goEPMM1s2ARAxZwFtysGfDMOa6ZtXPnTpWXn9oP+HJUC18dAxYC2bp1q2699VbXZVhx1k8GcrNmwC+n/817dFQrk/bnowEDFgJZt25dRvxB8nYggJQu4KiWlN5HtjJlfz5apOWAdeDAAd1xxx2Kx+P68z//c7W2tg5rcoRj/Pjxrkv4SlIdreKTgQDO6jyOaknpfWQrXffno1VaDlhLlizR0qVLtWjRInV0dOiOO+7Qa6+95rosjEKpPgV45MgRfe+27+uLvt7hT+CTgQC+zJdcR4vztSCl4YD10Ucfae/evfr1r38tSfre976n+vp6vfvuu/ra177muDq4dOYwdc5BSuJoFYBgzjw/8yxHtsaNy1FHx680adKk5DqGrsyXdgPWe++9p0mTJik7Ozu5rqCgQLFYjAErA6U6AiVJX3zxhcaNG5f8+pzD1Nk+BcjRKgA2pTqydWCXvtjSoHnz5g15aKqhSxq+b5MYxtJV2g1Y56u3d+A/tD/5yU+Ul5eXXD9+/Hh961vfGvYf7ezsbPX39w/7PqnWn++6dHr+V/1Zu3fv1tNPPz0itcbjcTWsulf/3x/7hj1WypJkhq++rkb6s//bYf3+d9Kb/ybFD0km69Rjjv1+4H/3bT81WL2z+/zWXchjgz4/zJ/l+vnUOjqfn061jqbXevo+p6d7YOg6fd/00X598f9+NWzoGjB83/YnY8fp4fXrhvy3TLK/z929e7fa2toy5r9PI/n8gwcPSjo1a6Rk0syHH35oLr30UnPy5Mnkuvz8fPPOO+8MedxTTz1lNNClLCwsLCwsLCzWl6eeeuqs80raHcEaP368Kisr9eSTT+qOO+7Qr371K1155ZXD3h6cM2eOnnrqKRUVFeniiy92VC0AAMg0vb29OnTokObMmXPWx2QZY0yINVnx9ttv684779TRo0d16aWX6oknntBVV13luiwAAABJaTpgAQAAjGbZX/4QAAAAXAgGLAAAAMsYsGDFhx9+qPz8fP3d3/2d61IyXlNTk/76r/9af/M3f6Ovf/3ryctkwL4DBw7om9/8pkpLS/WNb3zj1A3AMSK++OILffe731VZWZmmTZumOXPm6J133nFdljeeeOIJZWdna9u2ba5LyQgMWLBi6dKl+s53vuO6DC9UVFTo1Vdf1W9/+1s999xzWrFiRfKaLLBr8LZc3d3dWrVqle644w7XJWW8JUuWqKurS2+88YYikYgWL17suiQvHD58WI899phmzpzpupSMwYCFwB5//HF97Wtf03XXXee6FC/MmjVLf/qnfypJuuKKK5Sfn6/33nvPcVWZZ/C2XD/4wQ8kDdyW67333tO7777ruLLMNW7cOH37299Ofn3NNdfo8OHDDivygzFGixcv1oYNGzR27FjX5WQMBiwEcvDgQf3iF7/QT37yE9eleOnf//3fdezYMf3t3/6t61Iyzrluy4Vw/OxnP9Ott97quoyM9+ijj+pb3/qWpk2b9uUPxnlLuwuNIlzXXnutDhw4MGSdMUZZWVnq7OxUXV2dNmzYoHHjxokrfthxrszfeOMNTZ48WZL0u9/9TrW1tdqyZQsX00XG+elPf6p33nlHGzdudF1KRnvrrbfU0dGhnTt3ui4l4zBg4ZxeffXVs277wx/+oN/97neqqqqSJH366afq7e3VzTffrF//+tdhlZhxzpX5oP/93/9VJBJRa2sr50yMkCuvvFJHjhxRf39/8ihWLBbjprsheOSRR7R161b95je/UU5OjutyMtrOnTt1+PBhFRcXyxijnp4e/fCHP9SRI0e0ZMkS1+WlNS40Cms2bdqkZ599Vv/6r//qupSMFo1GNXfuXG3cuFE333yz63Iy2o033qg77rgjeVuu9evX67XXXnNdVkZ79NFH9S//8i/6zW9+o0svvdR1Od6ZNWuWfvzjHysSibguJe1xDhaQZn70ox/pD3/4g+655x5NmzZNlZWVHDEcIT//+c/1i1/8QqWlpVq/fr2eeOIJ1yVltPfff18rV67U8ePHNWvWLE2bNo0jtCHLyspyXULG4AgWAACAZRzBAgAAsOz/B4yFqxU0vEz7AAAAAElFTkSuQmCC\" />"
      ]
     },
     "execution_count": 63,
     "metadata": {},
     "output_type": "execute_result"
    }
   ],
   "source": [
    "histogram(ShA,nbins=100,legend=:none)"
   ]
  },
  {
   "cell_type": "code",
   "execution_count": 56,
   "metadata": {
    "collapsed": false
   },
   "outputs": [
    {
     "ename": "LoadError",
     "evalue": "LoadError: UndefVarError: clf not defined\nwhile loading In[56], in expression starting on line 1",
     "output_type": "error",
     "traceback": [
      "LoadError: UndefVarError: clf not defined\nwhile loading In[56], in expression starting on line 1",
      ""
     ]
    }
   ],
   "source": [
    "Plots.clf()"
   ]
  }
 ],
 "metadata": {
  "kernelspec": {
   "display_name": "Julia 0.4.5",
   "language": "julia",
   "name": "julia-0.4"
  },
  "language_info": {
   "file_extension": ".jl",
   "mimetype": "application/julia",
   "name": "julia",
   "version": "0.4.5"
  }
 },
 "nbformat": 4,
 "nbformat_minor": 0
}
